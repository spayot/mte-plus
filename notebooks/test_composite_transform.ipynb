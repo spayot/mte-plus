{
 "cells": [
  {
   "cell_type": "code",
   "execution_count": 149,
   "id": "b0998efc-11ae-4192-b766-d5082f2cef90",
   "metadata": {},
   "outputs": [
    {
     "name": "stdout",
     "output_type": "stream",
     "text": [
      "The autoreload extension is already loaded. To reload it, use:\n",
      "  %reload_ext autoreload\n"
     ]
    }
   ],
   "source": [
    "import sys\n",
    "\n",
    "import pandas as pd\n",
    "import numpy as np\n",
    "import scipy\n",
    "from sklearn import metrics\n",
    "from sklearn.model_selection import train_test_split\n",
    "from sklearn.preprocessing import OneHotEncoder, MaxAbsScaler, OrdinalEncoder\n",
    "from sklearn.ensemble import RandomForestClassifier\n",
    "from sklearn.neighbors import KNeighborsClassifier\n",
    "from sklearn.linear_model import LogisticRegression\n",
    "\n",
    "sys.path.append('../src')\n",
    "import columnar as col\n",
    "\n",
    "%load_ext autoreload\n",
    "%autoreload 2"
   ]
  },
  {
   "cell_type": "markdown",
   "id": "d8b8876a-9bec-46d1-9d56-372f67db8915",
   "metadata": {},
   "source": [
    "# notebook to develop and test the transform module within columnar\n",
    "composite transforms allow to generalize the transformation strategy by defining to define which MonoTransformer is applied to each column.\n",
    "\n",
    "## load dataset"
   ]
  },
  {
   "cell_type": "code",
   "execution_count": 127,
   "id": "7b329de3-e493-4b45-a102-91643c450873",
   "metadata": {},
   "outputs": [],
   "source": [
    "df = col.loaders.petfinder._load('../')\n",
    "feature_selection = col.FeatureSelection(**col.loaders.petfinder._select_features(df))\n",
    "\n",
    "# split data\n",
    "df_train, df_test = train_test_split(df, test_size=.2, random_state=123)\n",
    "\n",
    "X_train, y_train = feature_selection.select_features(df_train)\n",
    "ds_train = col.embeddings.data.df_to_dataset(X_train, y_train, batch_size=32)\n",
    "\n",
    "X_test, y_test = feature_selection.select_features(df_test)\n",
    "ds_test = col.embeddings.data.df_to_dataset(X_test, y_test, batch_size=32, shuffle=False)\n",
    "\n",
    "# setup scorer\n",
    "scorer = col.Scorer(\n",
    "    acc=lambda ytrue, ypreds: metrics.accuracy_score(ytrue, ypreds > .5),\n",
    "    f1=lambda ytrue, ypreds: metrics.f1_score(ytrue, ypreds > .5),\n",
    "    auc=metrics.roc_auc_score,\n",
    ")"
   ]
  },
  {
   "cell_type": "markdown",
   "id": "372bd867-f668-4831-b276-f3838fb57347",
   "metadata": {},
   "source": [
    "## Test transform.mono"
   ]
  },
  {
   "cell_type": "code",
   "execution_count": 197,
   "id": "f32e4c68-d82e-4d13-b274-4c6bd75500df",
   "metadata": {},
   "outputs": [],
   "source": [
    "# test MTE transformer\n",
    "mte = col.transform.mono.MeanTargetEncoder(alpha=5)\n",
    "X_train_ = mte.fit_transform(X_train, y_train, feature_selection.categoricals)\n",
    "\n",
    "assert X_train_.shape == (11994, 17)\n",
    "assert str(X_train_.dtypes.iloc[5]) == 'float64'\n",
    "\n",
    "\n",
    "# test passthrough transformer\n",
    "passthrough = col.transform.mono.PassThrough()\n",
    "X_train_ = passthrough.fit_transform(X_train, y_train, feature_selection.numericals)\n",
    "assert list(X_train_.columns) == ['photoamt', 'videoamt', 'fee', 'age']\n",
    "\n",
    "\n",
    "ohe = col.transform.mono.MonoFromSklearn(OneHotEncoder())\n",
    "X_train_ = ohe.fit_transform(X_train, y_train, feature_selection.numericals)\n",
    "assert type(X_train_) == scipy.sparse.csr.csr_matrix\n",
    "assert X_train_.shape == (11994, 209)"
   ]
  },
  {
   "cell_type": "markdown",
   "id": "3c98843b-5ea5-428e-8ea6-aad1e1e8c7f4",
   "metadata": {},
   "source": [
    "## Test transform.strategy"
   ]
  },
  {
   "cell_type": "code",
   "execution_count": 198,
   "id": "ab1571c0-a8fc-47ba-b740-fa3d8bdf63ed",
   "metadata": {},
   "outputs": [],
   "source": [
    "# initializing components\n",
    "mte = col.transform.mono.MeanTargetEncoder(alpha=5)\n",
    "passthrough = col.transform.mono.PassThrough()\n",
    "\n",
    "# testing TransfomerStrategy\n",
    "strategy = col.transform.strategy.TransformerStrategy.from_tuples(\n",
    "    ('cats', mte, feature_selection.categoricals),\n",
    "    ('nums', passthrough, feature_selection.numericals))\n",
    "\n",
    "assert len(strategy.transformations) == 2\n",
    "assert len(strategy.mapping) == 21\n",
    "assert strategy.mapping['breed1'] == 'MeanTargetEncoder(alpha=5)'"
   ]
  },
  {
   "cell_type": "markdown",
   "id": "4710209a-249b-4d27-a05e-62506c4ad0fa",
   "metadata": {},
   "source": [
    "## Test transform.composite"
   ]
  },
  {
   "cell_type": "code",
   "execution_count": 201,
   "id": "62a5ce65-afa4-4162-8edb-65f9c977dc95",
   "metadata": {},
   "outputs": [],
   "source": [
    "# CompositeTransformer\n",
    "transformer = col.transform.composite.CompositeTransformer(strategy)\n",
    "X_train_ = transformer.fit_transform(X_train, y_train)\n",
    "assert X_train_.shape[1] == 21\n",
    "assert list(X_train_.columns) == ['type_', 'breed1_', 'breed2_', 'gender_', 'color1_', 'color2_',\n",
    "       'color3_', 'maturitysize_', 'furlength_', 'vaccinated_', 'dewormed_',\n",
    "       'sterilized_', 'health_', 'quantity_', 'state_', 'rescuerid_',\n",
    "       'has_name_', 'photoamt', 'videoamt', 'fee', 'age']\n",
    "\n",
    "# CategoricalCompositeTransformer: instantiate a categorical > MTE / numericals > passthrough strategy\n",
    "transformer = col.transform.composite.SimpleCompositeTransformer(mte, feature_selection)\n",
    "X_train_ = transformer.fit_transform(X_train, y_train)\n",
    "\n",
    "assert X_train_.shape[1] == 21\n",
    "assert type(X_train_) == pd.DataFrame\n",
    "assert list(X_train_.columns) == ['type_', 'breed1_', 'breed2_', 'gender_', 'color1_', 'color2_',\n",
    "       'color3_', 'maturitysize_', 'furlength_', 'vaccinated_', 'dewormed_',\n",
    "       'sterilized_', 'health_', 'quantity_', 'state_', 'rescuerid_',\n",
    "       'has_name_', 'photoamt', 'videoamt', 'fee', 'age']\n",
    "\n",
    "# validating that CategoricalCompositeTransformer works with sparse matrix\n",
    "ohe = col.transform.mono.MonoFromSklearn(OneHotEncoder()) # generates sparse output\n",
    "transformer = col.transform.composite.SimpleCompositeTransformer(ohe, feature_selection)\n",
    "X_train_ = transformer.fit_transform(X_train, y_train)\n",
    "assert X_train_.shape == (11994, 5198)\n",
    "assert type(X_train_) == sparse.csr_matrix\n",
    "\n",
    "# validating that CategoricalCompositeTransformer works with mix of dataframes and np.arrays\n",
    "scaler = col.transform.mono.MonoFromSklearn(MaxAbsScaler()) # generates numpy arrays as output\n",
    "scaler_output = scaler.fit_transform(X_train, y_train, feature_selection.numericals)\n",
    "assert type(scaler_output) == np.ndarray\n",
    "\n",
    "strategy = col.transform.strategy.TransformerStrategy.from_tuples(\n",
    "    ('cats', mte, feature_selection.categoricals),\n",
    "    ('nums', scaler, feature_selection.numericals))\n",
    "\n",
    "transformer = col.transform.composite.CompositeTransformer(strategy)\n",
    "X_train_ = transformer.fit_transform(X_train, y_train)\n",
    "assert type(X_train_) == np.ndarray"
   ]
  },
  {
   "cell_type": "markdown",
   "id": "d707f72f-7a03-497f-8636-554094d94a58",
   "metadata": {
    "tags": []
   },
   "source": [
    "## Testing MonoEmbeddings\n",
    "MonoEmbeddings is performed separately in the [test_embeddings.ipynb](./test_embeddings.ipynb) notebook"
   ]
  },
  {
   "cell_type": "markdown",
   "id": "67eaf007-b938-46d1-897a-0f11cff642ec",
   "metadata": {},
   "source": [
    "## Testing integration with benchmark"
   ]
  },
  {
   "cell_type": "code",
   "execution_count": 202,
   "id": "eefed0ca-9412-42eb-963f-3e332f64a91a",
   "metadata": {},
   "outputs": [
    {
     "data": {
      "text/html": [
       "<div>\n",
       "<style scoped>\n",
       "    .dataframe tbody tr th:only-of-type {\n",
       "        vertical-align: middle;\n",
       "    }\n",
       "\n",
       "    .dataframe tbody tr th {\n",
       "        vertical-align: top;\n",
       "    }\n",
       "\n",
       "    .dataframe thead th {\n",
       "        text-align: right;\n",
       "    }\n",
       "</style>\n",
       "<table border=\"1\" class=\"dataframe\">\n",
       "  <thead>\n",
       "    <tr style=\"text-align: right;\">\n",
       "      <th></th>\n",
       "      <th>classifier</th>\n",
       "      <th>transformer</th>\n",
       "      <th>acc</th>\n",
       "      <th>f1</th>\n",
       "      <th>auc</th>\n",
       "    </tr>\n",
       "  </thead>\n",
       "  <tbody>\n",
       "    <tr>\n",
       "      <th>0</th>\n",
       "      <td>LogisticRegression(max_iter=500)</td>\n",
       "      <td>SimpleComposite_MeanTargetEncoder(alpha=5)</td>\n",
       "      <td>0.755252</td>\n",
       "      <td>0.844074</td>\n",
       "      <td>0.789692</td>\n",
       "    </tr>\n",
       "    <tr>\n",
       "      <th>1</th>\n",
       "      <td>RandomForestClassifier(max_depth=10)</td>\n",
       "      <td>SimpleComposite_MeanTargetEncoder(alpha=5)</td>\n",
       "      <td>0.765366</td>\n",
       "      <td>0.850888</td>\n",
       "      <td>0.810820</td>\n",
       "    </tr>\n",
       "    <tr>\n",
       "      <th>2</th>\n",
       "      <td>LogisticRegression(max_iter=500)</td>\n",
       "      <td>SimpleComposite_Mono_OneHotEncoder(handle_unkn...</td>\n",
       "      <td>0.771702</td>\n",
       "      <td>0.853993</td>\n",
       "      <td>0.801114</td>\n",
       "    </tr>\n",
       "  </tbody>\n",
       "</table>\n",
       "</div>"
      ],
      "text/plain": [
       "                             classifier  \\\n",
       "0      LogisticRegression(max_iter=500)   \n",
       "1  RandomForestClassifier(max_depth=10)   \n",
       "2      LogisticRegression(max_iter=500)   \n",
       "\n",
       "                                         transformer       acc        f1  \\\n",
       "0         SimpleComposite_MeanTargetEncoder(alpha=5)  0.755252  0.844074   \n",
       "1         SimpleComposite_MeanTargetEncoder(alpha=5)  0.765366  0.850888   \n",
       "2  SimpleComposite_Mono_OneHotEncoder(handle_unkn...  0.771702  0.853993   \n",
       "\n",
       "        auc  \n",
       "0  0.789692  \n",
       "1  0.810820  \n",
       "2  0.801114  "
      ]
     },
     "execution_count": 202,
     "metadata": {},
     "output_type": "execute_result"
    }
   ],
   "source": [
    "transformers = [\n",
    "    col.transform.mono.MeanTargetEncoder(),\n",
    "    col.transform.mono.MonoFromSklearn(OneHotEncoder(handle_unknown='ignore')),\n",
    "    col.transform.mono.MonoFromSklearn(OrdinalEncoder(handle_unknown='use_encoded_value', unknown_value=-1)),\n",
    "]\n",
    "\n",
    "classifiers = [LogisticRegression(max_iter=500), RandomForestClassifier(max_depth=10)]\n",
    "\n",
    "benchmark = col.benchmark.BenchmarkRunner(\n",
    "    features=feature_selection,\n",
    "    cat_transformers=transformers,\n",
    "    classifiers=classifiers,\n",
    "    scorer=scorer\n",
    ")\n",
    "\n",
    "for _ in range(3):\n",
    "    idx_train = X_train.sample(10000).index\n",
    "    benchmark.run(X_train.loc[idx_train,:], y_train.loc[idx_train], X_test, y_test)\n",
    "    \n",
    "reporter = benchmark.create_reporter()\n",
    "reporter.show().head(3)"
   ]
  },
  {
   "cell_type": "code",
   "execution_count": null,
   "id": "56f5ac5c-9fef-45a8-ba2e-8cc0dfc20b2c",
   "metadata": {},
   "outputs": [],
   "source": []
  }
 ],
 "metadata": {
  "kernelspec": {
   "display_name": "Python 3 (ipykernel)",
   "language": "python",
   "name": "python3"
  },
  "language_info": {
   "codemirror_mode": {
    "name": "ipython",
    "version": 3
   },
   "file_extension": ".py",
   "mimetype": "text/x-python",
   "name": "python",
   "nbconvert_exporter": "python",
   "pygments_lexer": "ipython3",
   "version": "3.9.7"
  }
 },
 "nbformat": 4,
 "nbformat_minor": 5
}
