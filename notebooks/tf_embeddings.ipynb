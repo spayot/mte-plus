{
 "cells": [
  {
   "cell_type": "code",
   "execution_count": 1,
   "id": "89d2c1e6-b362-49ab-bca0-454739b9622e",
   "metadata": {},
   "outputs": [],
   "source": [
    "import sys\n",
    "\n",
    "import pandas as pd\n",
    "import numpy as np\n",
    "\n",
    "import tensorflow as tf\n",
    "from tensorflow.keras import layers\n",
    "\n",
    "sys.path.append('../src')\n",
    "import columnar as col\n",
    "\n",
    "%load_ext autoreload\n",
    "%autoreload 2"
   ]
  },
  {
   "cell_type": "markdown",
   "id": "3bf0a107-c4e1-4051-a4f0-55d13997f032",
   "metadata": {},
   "source": [
    "# Categorical Embeddings\n",
    "Alternative to General"
   ]
  },
  {
   "cell_type": "code",
   "execution_count": 2,
   "id": "d8da331f-1de6-467b-bbee-99a624ab18b7",
   "metadata": {},
   "outputs": [
    {
     "data": {
      "text/plain": [
       "[PhysicalDevice(name='/physical_device:CPU:0', device_type='CPU'),\n",
       " PhysicalDevice(name='/physical_device:GPU:0', device_type='GPU')]"
      ]
     },
     "execution_count": 2,
     "metadata": {},
     "output_type": "execute_result"
    }
   ],
   "source": [
    "tf.config.experimental.list_physical_devices()"
   ]
  },
  {
   "cell_type": "code",
   "execution_count": 3,
   "id": "b3c25718-6d87-4b0f-a0a4-3f6806c26332",
   "metadata": {},
   "outputs": [],
   "source": [
    "df = col.loaders.petfinder._load('../')\n",
    "feature_selection = col.FeatureSelection(**col.loaders.petfinder._select_features(df))"
   ]
  },
  {
   "cell_type": "code",
   "execution_count": 4,
   "id": "5252c2bc-032f-4b27-adad-9eeded512866",
   "metadata": {},
   "outputs": [
    {
     "data": {
      "text/plain": [
       "0.7200693657039952"
      ]
     },
     "execution_count": 4,
     "metadata": {},
     "output_type": "execute_result"
    }
   ],
   "source": [
    "df.target.mean()"
   ]
  },
  {
   "cell_type": "code",
   "execution_count": 5,
   "id": "1dad7d1a-2d6e-40d1-959b-f63ba31166bf",
   "metadata": {},
   "outputs": [
    {
     "data": {
      "text/plain": [
       "{'type': 2,\n",
       " 'age': 106,\n",
       " 'breed1': 176,\n",
       " 'breed2': 135,\n",
       " 'gender': 3,\n",
       " 'color1': 7,\n",
       " 'color2': 7,\n",
       " 'color3': 6,\n",
       " 'maturitysize': 4,\n",
       " 'furlength': 3,\n",
       " 'vaccinated': 3,\n",
       " 'dewormed': 3,\n",
       " 'sterilized': 3,\n",
       " 'health': 3,\n",
       " 'quantity': 19,\n",
       " 'fee': 74,\n",
       " 'state': 14,\n",
       " 'rescuerid': 5595,\n",
       " 'videoamt': 9,\n",
       " 'photoamt': 31,\n",
       " 'has_name': 2,\n",
       " 'target': 2}"
      ]
     },
     "execution_count": 5,
     "metadata": {},
     "output_type": "execute_result"
    }
   ],
   "source": [
    "{col: df[col].nunique() for col in df.columns}"
   ]
  },
  {
   "cell_type": "code",
   "execution_count": 6,
   "id": "f27cb803-d8cd-4eb6-94c3-4b98552bc8f5",
   "metadata": {},
   "outputs": [
    {
     "name": "stdout",
     "output_type": "stream",
     "text": [
      "Metal device set to: Apple M1 Pro\n"
     ]
    },
    {
     "name": "stderr",
     "output_type": "stream",
     "text": [
      "2022-01-26 14:20:05.703952: I tensorflow/core/common_runtime/pluggable_device/pluggable_device_factory.cc:305] Could not identify NUMA node of platform GPU ID 0, defaulting to 0. Your kernel may not have been built with NUMA support.\n",
      "2022-01-26 14:20:05.704087: I tensorflow/core/common_runtime/pluggable_device/pluggable_device_factory.cc:271] Created TensorFlow device (/job:localhost/replica:0/task:0/device:GPU:0 with 0 MB memory) -> physical PluggableDevice (device: 0, name: METAL, pci bus id: <undefined>)\n"
     ]
    }
   ],
   "source": [
    "ds = col.embeddings.df_to_dataset(df, 'target', batch_size=32)"
   ]
  },
  {
   "cell_type": "code",
   "execution_count": 55,
   "id": "40e0bad3-a6a6-4ae2-8aad-5158b8cfe552",
   "metadata": {},
   "outputs": [],
   "source": [
    "ds = df_to_dataset(df, 'target', batch_size=5)\n",
    "[(train_features, label_batch)] = ds.take(1)"
   ]
  },
  {
   "cell_type": "code",
   "execution_count": 57,
   "id": "e91d7e73-5bea-42f8-99d6-a05d3bc83850",
   "metadata": {},
   "outputs": [
    {
     "data": {
      "text/plain": [
       "columnar.embeddings.tf_preprocessing.TFEmbeddingLayer"
      ]
     },
     "execution_count": 57,
     "metadata": {},
     "output_type": "execute_result"
    }
   ],
   "source": [
    "col.TFEmbeddingLayer"
   ]
  },
  {
   "cell_type": "code",
   "execution_count": 56,
   "id": "5317a61b-9c2d-4933-bb28-570c8c91ca29",
   "metadata": {},
   "outputs": [
    {
     "data": {
      "text/plain": [
       "dict_keys(['type', 'age', 'breed1', 'breed2', 'gender', 'color1', 'color2', 'color3', 'maturitysize', 'furlength', 'vaccinated', 'dewormed', 'sterilized', 'health', 'quantity', 'fee', 'state', 'rescuerid', 'videoamt', 'photoamt', 'has_name'])"
      ]
     },
     "execution_count": 56,
     "metadata": {},
     "output_type": "execute_result"
    }
   ],
   "source": [
    "train_features.keys()"
   ]
  },
  {
   "cell_type": "code",
   "execution_count": 6,
   "id": "8ac1eec5-2fd3-42ae-af45-8528cedb3d49",
   "metadata": {},
   "outputs": [],
   "source": [
    "from sklearn.ensemble import RandomForestClassifier\n",
    "\n",
    "feats = col.FeatureSelection(target='target',categoricals=['type'], numericals=['photoamt', 'videoamt', 'fee', 'age'])\n",
    "transformer = col.MeanTargetEncoder(feats)\n",
    "model = RandomForestClassifier(n_estimators=100, max_depth=5)\n",
    "pipe = col.CategoricalPipeline(features=feats,\n",
    "                               transform=transformer,\n",
    "                               scaler=None,\n",
    "                               model=model,\n",
    "                              )"
   ]
  },
  {
   "cell_type": "code",
   "execution_count": 7,
   "id": "3e2bc595-a721-4110-8488-8ee9c0f255a0",
   "metadata": {},
   "outputs": [],
   "source": [
    "pipe.fit(df)"
   ]
  },
  {
   "cell_type": "code",
   "execution_count": 62,
   "id": "178f9e9b-3593-471e-8566-5618822cc392",
   "metadata": {},
   "outputs": [],
   "source": [
    "# pipe.pipe.get_params()"
   ]
  },
  {
   "cell_type": "code",
   "execution_count": 8,
   "id": "51777799-79ce-4f86-a244-4a13b267a37a",
   "metadata": {},
   "outputs": [
    {
     "data": {
      "text/html": [
       "<div>\n",
       "<style scoped>\n",
       "    .dataframe tbody tr th:only-of-type {\n",
       "        vertical-align: middle;\n",
       "    }\n",
       "\n",
       "    .dataframe tbody tr th {\n",
       "        vertical-align: top;\n",
       "    }\n",
       "\n",
       "    .dataframe thead th {\n",
       "        text-align: right;\n",
       "    }\n",
       "</style>\n",
       "<table border=\"1\" class=\"dataframe\">\n",
       "  <thead>\n",
       "    <tr style=\"text-align: right;\">\n",
       "      <th></th>\n",
       "      <th>type_</th>\n",
       "      <th>photoamt</th>\n",
       "      <th>videoamt</th>\n",
       "      <th>fee</th>\n",
       "      <th>age</th>\n",
       "    </tr>\n",
       "    <tr>\n",
       "      <th>PetID</th>\n",
       "      <th></th>\n",
       "      <th></th>\n",
       "      <th></th>\n",
       "      <th></th>\n",
       "      <th></th>\n",
       "    </tr>\n",
       "  </thead>\n",
       "  <tbody>\n",
       "    <tr>\n",
       "      <th>86e1089a3</th>\n",
       "      <td>0.740111</td>\n",
       "      <td>1.0</td>\n",
       "      <td>0</td>\n",
       "      <td>100</td>\n",
       "      <td>3</td>\n",
       "    </tr>\n",
       "    <tr>\n",
       "      <th>6296e909a</th>\n",
       "      <td>0.740111</td>\n",
       "      <td>2.0</td>\n",
       "      <td>0</td>\n",
       "      <td>0</td>\n",
       "      <td>1</td>\n",
       "    </tr>\n",
       "    <tr>\n",
       "      <th>3422e4906</th>\n",
       "      <td>0.703158</td>\n",
       "      <td>7.0</td>\n",
       "      <td>0</td>\n",
       "      <td>0</td>\n",
       "      <td>1</td>\n",
       "    </tr>\n",
       "    <tr>\n",
       "      <th>5842f1ff5</th>\n",
       "      <td>0.703158</td>\n",
       "      <td>8.0</td>\n",
       "      <td>0</td>\n",
       "      <td>150</td>\n",
       "      <td>4</td>\n",
       "    </tr>\n",
       "    <tr>\n",
       "      <th>850a43f90</th>\n",
       "      <td>0.703158</td>\n",
       "      <td>3.0</td>\n",
       "      <td>0</td>\n",
       "      <td>0</td>\n",
       "      <td>1</td>\n",
       "    </tr>\n",
       "  </tbody>\n",
       "</table>\n",
       "</div>"
      ],
      "text/plain": [
       "              type_  photoamt  videoamt  fee  age\n",
       "PetID                                            \n",
       "86e1089a3  0.740111       1.0         0  100    3\n",
       "6296e909a  0.740111       2.0         0    0    1\n",
       "3422e4906  0.703158       7.0         0    0    1\n",
       "5842f1ff5  0.703158       8.0         0  150    4\n",
       "850a43f90  0.703158       3.0         0    0    1"
      ]
     },
     "execution_count": 8,
     "metadata": {},
     "output_type": "execute_result"
    }
   ],
   "source": [
    "pipe.pipe.steps[0][1].transform(df.head())"
   ]
  },
  {
   "cell_type": "code",
   "execution_count": 37,
   "id": "87c83429-3436-4b63-a1ca-5fff3ecf848b",
   "metadata": {},
   "outputs": [
    {
     "name": "stdout",
     "output_type": "stream",
     "text": [
      "[0.72730883 0.83452213 0.86059307 0.66455585 0.81519586]\n"
     ]
    },
    {
     "data": {
      "text/plain": [
       "0.8396311555817147"
      ]
     },
     "execution_count": 37,
     "metadata": {},
     "output_type": "execute_result"
    }
   ],
   "source": [
    "from sklearn.metrics import accuracy_score, f1_score\n",
    "\n",
    "pipe = col.CategoricalPipeline(features=feature_selection,\n",
    "                              transform=col.MeanTargetEncoder(feats),\n",
    "                              model=RandomForestClassifier(max_depth=5, n_estimators=100))\n",
    "\n",
    "pipe.fit(df)\n",
    "print(pipe.predict(df.head()))\n",
    "f1_score(df.target, (pipe.predict(df) > .5))"
   ]
  },
  {
   "cell_type": "code",
   "execution_count": 7,
   "id": "c5ae16c2-3fcb-4f07-b5b6-68725250f604",
   "metadata": {},
   "outputs": [
    {
     "data": {
      "text/plain": [
       "(14993, 5990)"
      ]
     },
     "execution_count": 7,
     "metadata": {},
     "output_type": "execute_result"
    }
   ],
   "source": [
    "# from sklearn.compose import ColumnTransformer\n",
    "# from sklearn.base import TransformerMixin\n",
    "\n",
    "# class TotalTransformer(TransformerMixin):\n",
    "#     def __init__(self, features, cat_encoder):\n",
    "#         self.features = features\n",
    "#         self.cat_encoder = cat_encoder\n",
    "#         self.transformer = ColumnTransformer(\n",
    "#             [('categories', cat_encoder, features.categoricals)], \n",
    "#             remainder='passthrough')\n",
    "    \n",
    "#     def fit(self, X, y=None):\n",
    "#         return self.transformer.fit(X,y)\n",
    "        \n",
    "#     def transform(self, X):\n",
    "#         return self.transformer.transform(X)\n",
    "    \n",
    "#     def get_params(self, deep: bool = True):\n",
    "#         cat_encoder = clone(self.cat_encoder) if deep else self.cat_encoder\n",
    "#         return {'features': self.features, 'cat_encoder': cat_encoder}\n",
    "from sklearn.preprocessing import OneHotEncoder\n",
    "from sklearn.ensemble import RandomForestClassifier\n",
    "from sklearn.base import clone\n",
    "from sklearn.metrics import f1_score\n",
    "\n",
    "tt = col.TransformStrategy(feature_selection, OneHotEncoder())\n",
    "tt.fit_transform(df).shape"
   ]
  },
  {
   "cell_type": "code",
   "execution_count": 12,
   "id": "6d157596-ab0f-4af1-9c32-893383e5523f",
   "metadata": {},
   "outputs": [
    {
     "name": "stdout",
     "output_type": "stream",
     "text": [
      "[0.74712157 0.70827339 0.74445654 0.70714241 0.75170743]\n"
     ]
    },
    {
     "data": {
      "text/plain": [
       "0.8372561945015317"
      ]
     },
     "execution_count": 12,
     "metadata": {},
     "output_type": "execute_result"
    }
   ],
   "source": [
    "pipe = col.CategoricalPipeline(features=feature_selection,\n",
    "                              transform=col.TransformStrategy(feature_selection, OneHotEncoder()),\n",
    "                              model=RandomForestClassifier(max_depth=5, n_estimators=100))\n",
    "\n",
    "pipe.fit(df)\n",
    "print(pipe.predict(df.head()))\n",
    "f1_score(df.target, (pipe.predict(df) > .5))"
   ]
  },
  {
   "cell_type": "code",
   "execution_count": 24,
   "id": "76f80ec1-d62a-4571-a901-45c43377a30b",
   "metadata": {},
   "outputs": [
    {
     "data": {
      "text/plain": [
       "<AxesSubplot:>"
      ]
     },
     "execution_count": 24,
     "metadata": {},
     "output_type": "execute_result"
    },
    {
     "data": {
      "image/png": "[encoded data removed]",
      "text/plain": [
       "<Figure size 432x288 with 1 Axes>"
      ]
     },
     "metadata": {
      "needs_background": "light"
     },
     "output_type": "display_data"
    }
   ],
   "source": [
    "vals = pd.DataFrame(data={'e': {'a': 1 , 'b': 2}, 'f': {'a': 3 , 'b': 4}})\n",
    "errs = vals * .3\n",
    "\n",
    "vals.plot.bar(yerr=errs)"
   ]
  },
  {
   "cell_type": "code",
   "execution_count": 19,
   "id": "a708e305-5258-4e4b-ae00-568ba03e5267",
   "metadata": {},
   "outputs": [
    {
     "data": {
      "image/png": "[encoded data removed]",
      "text/plain": [
       "<Figure size 432x288 with 1 Axes>"
      ]
     },
     "metadata": {
      "needs_background": "light"
     },
     "output_type": "display_data"
    }
   ],
   "source": [
    "import matplotlib.pyplot as plt\n",
    "data = np.array([[0,2,.3], [1,4,.4], [2,3,.15]])\n",
    "plt.figure()\n",
    "yerr_ = np.tile(data[:,2]/2, (2,1))\n",
    "plt.bar(data[:,0], data[:,1], yerr=yerr_)\n",
    "plt.xlim([-1,3])\n",
    "plt.show()"
   ]
  },
  {
   "cell_type": "code",
   "execution_count": 43,
   "id": "e021d4e3-3c93-473d-87fc-fcd489a8501b",
   "metadata": {},
   "outputs": [
    {
     "data": {
      "text/plain": [
       "{'categories': 'auto',\n",
       " 'drop': None,\n",
       " 'dtype': numpy.float64,\n",
       " 'handle_unknown': 'error',\n",
       " 'sparse': True}"
      ]
     },
     "execution_count": 43,
     "metadata": {},
     "output_type": "execute_result"
    }
   ],
   "source": [
    "# test behavior of \n",
    "col.FeatureSelection()"
   ]
  },
  {
   "cell_type": "code",
   "execution_count": 44,
   "id": "232289a5-142c-46ef-ae40-865ac6c80986",
   "metadata": {},
   "outputs": [],
   "source": [
    "[(train_features, label_batch)] = ds.take(1)\n",
    "\n",
    "feature_selection = col.FeatureSelection(categoricals=['type', 'age', 'breed1', 'breed2', 'gender', 'color1', 'color2', 'color3', 'maturitysize', 'furlength', 'vaccinated', 'dewormed', 'sterilized', 'health', 'quantity', 'state', 'rescuerid', 'has_name'], \n",
    "                                         numericals=['photoamt', 'videoamt', 'fee'], \n",
    "                                         target='target')"
   ]
  },
  {
   "cell_type": "code",
   "execution_count": 9,
   "id": "dde4319a-fc3d-4457-88df-2d8fdd00f2e8",
   "metadata": {},
   "outputs": [],
   "source": [
    "df2, labels = df.drop(columns=['target']), df.target"
   ]
  },
  {
   "cell_type": "code",
   "execution_count": 40,
   "id": "0cdd6cd7-f669-4f4f-975b-66d6a4a3fa36",
   "metadata": {},
   "outputs": [
    {
     "data": {
      "text/plain": [
       "OneHotEncoder()"
      ]
     },
     "execution_count": 40,
     "metadata": {},
     "output_type": "execute_result"
    }
   ],
   "source": [
    "from sklearn.preprocessing import OneHotEncoder\n",
    "\n",
    "ohe = OneHotEncoder()\n",
    "ohe.fit(df)"
   ]
  },
  {
   "cell_type": "code",
   "execution_count": 41,
   "id": "ff33776d-d388-425c-b54d-eff1101a75a5",
   "metadata": {},
   "outputs": [
    {
     "data": {
      "text/plain": [
       "6185"
      ]
     },
     "execution_count": 41,
     "metadata": {},
     "output_type": "execute_result"
    }
   ],
   "source": [
    "(df.nunique()-1).sum()"
   ]
  },
  {
   "cell_type": "code",
   "execution_count": 42,
   "id": "5f663bda-112f-4d90-ae73-5cb4021c0bf3",
   "metadata": {},
   "outputs": [
    {
     "data": {
      "text/plain": [
       "{'type': (2, 2),\n",
       " 'age': (106, 106),\n",
       " 'breed1': (176, 176),\n",
       " 'breed2': (135, 135),\n",
       " 'gender': (3, 3),\n",
       " 'color1': (7, 7),\n",
       " 'color2': (7, 7),\n",
       " 'color3': (6, 6),\n",
       " 'maturitysize': (4, 4),\n",
       " 'furlength': (3, 3),\n",
       " 'vaccinated': (3, 3),\n",
       " 'dewormed': (3, 3),\n",
       " 'sterilized': (3, 3),\n",
       " 'health': (3, 3),\n",
       " 'quantity': (19, 19),\n",
       " 'fee': (117, 74),\n",
       " 'state': (14, 14),\n",
       " 'rescuerid': (5595, 5595),\n",
       " 'videoamt': (9, 9),\n",
       " 'photoamt': (31, 31),\n",
       " 'has_name': (2, 2),\n",
       " 'target': (2, 2)}"
      ]
     },
     "execution_count": 42,
     "metadata": {},
     "output_type": "execute_result"
    }
   ],
   "source": [
    "{col: (len([f for f in ohe.get_feature_names_out() if col in f]), df[col].nunique()) for col in df.columns}"
   ]
  },
  {
   "cell_type": "code",
   "execution_count": 45,
   "id": "4ed2dbe9-f707-437d-9293-d53fa9e5ac8b",
   "metadata": {},
   "outputs": [
    {
     "name": "stderr",
     "output_type": "stream",
     "text": [
      "2022-01-26 11:45:54.278623: I tensorflow/core/grappler/optimizers/custom_graph_optimizer_registry.cc:112] Plugin optimizer for device_type GPU is enabled.\n",
      "2022-01-26 11:45:54.701577: I tensorflow/core/grappler/optimizers/custom_graph_optimizer_registry.cc:112] Plugin optimizer for device_type GPU is enabled.\n",
      "2022-01-26 11:45:54.715150: I tensorflow/core/grappler/optimizers/custom_graph_optimizer_registry.cc:112] Plugin optimizer for device_type GPU is enabled.\n",
      "2022-01-26 11:45:55.589870: I tensorflow/core/grappler/optimizers/custom_graph_optimizer_registry.cc:112] Plugin optimizer for device_type GPU is enabled.\n",
      "2022-01-26 11:45:55.600900: I tensorflow/core/grappler/optimizers/custom_graph_optimizer_registry.cc:112] Plugin optimizer for device_type GPU is enabled.\n",
      "2022-01-26 11:45:56.529510: I tensorflow/core/grappler/optimizers/custom_graph_optimizer_registry.cc:112] Plugin optimizer for device_type GPU is enabled.\n",
      "2022-01-26 11:45:56.539644: I tensorflow/core/grappler/optimizers/custom_graph_optimizer_registry.cc:112] Plugin optimizer for device_type GPU is enabled.\n"
     ]
    },
    {
     "name": "stdout",
     "output_type": "stream",
     "text": [
      "Epoch 1/3\n"
     ]
    },
    {
     "name": "stderr",
     "output_type": "stream",
     "text": [
      "2022-01-26 11:45:57.663721: I tensorflow/core/grappler/optimizers/custom_graph_optimizer_registry.cc:112] Plugin optimizer for device_type GPU is enabled.\n"
     ]
    },
    {
     "name": "stdout",
     "output_type": "stream",
     "text": [
      "375/375 [==============================] - 5s 12ms/step - loss: 0.6064 - accuracy: 0.5979\n",
      "Epoch 2/3\n",
      "375/375 [==============================] - 4s 12ms/step - loss: 0.5831 - accuracy: 0.6668\n",
      "Epoch 3/3\n",
      "375/375 [==============================] - 4s 12ms/step - loss: 0.5803 - accuracy: 0.6703\n",
      "10/94 [==>...........................] - ETA: 0s - loss: 0.6137 - accuracy: 0.6687 "
     ]
    },
    {
     "name": "stderr",
     "output_type": "stream",
     "text": [
      "2022-01-26 11:46:11.209123: I tensorflow/core/grappler/optimizers/custom_graph_optimizer_registry.cc:112] Plugin optimizer for device_type GPU is enabled.\n"
     ]
    },
    {
     "name": "stdout",
     "output_type": "stream",
     "text": [
      "94/94 [==============================] - 1s 5ms/step - loss: 0.5722 - accuracy: 0.6986\n"
     ]
    },
    {
     "data": {
      "text/plain": [
       "[0.5721990466117859, 0.698566198348999]"
      ]
     },
     "execution_count": 45,
     "metadata": {},
     "output_type": "execute_result"
    }
   ],
   "source": [
    "from sklearn.model_selection import train_test_split\n",
    "\n",
    "df_train, df_test = train_test_split(df, test_size=.2)\n",
    "\n",
    "ds_train = df_to_dataset(df_train, 'target', batch_size=32)\n",
    "ds_test = df_to_dataset(df_test, 'target', batch_size=32)\n",
    "\n",
    "model = col.TFCatEmbsModel(ds_train, feature_selection)\n",
    "# model(train_features)\n",
    "model.compile(optimizer='adam',\n",
    "              loss=tf.keras.losses.BinaryCrossentropy(from_logits=True),\n",
    "              metrics=[\"accuracy\"])\n",
    "\n",
    "model.fit(ds_train, epochs=3)\n",
    "model.evaluate(ds_test)"
   ]
  },
  {
   "cell_type": "code",
   "execution_count": 43,
   "id": "ce3fa03d-3e20-467e-b5d1-d345722f54b3",
   "metadata": {},
   "outputs": [
    {
     "data": {
      "text/plain": [
       "TensorShape([32, 247])"
      ]
     },
     "execution_count": 43,
     "metadata": {},
     "output_type": "execute_result"
    }
   ],
   "source": [
    "model.encode_features(train_features).shape"
   ]
  },
  {
   "cell_type": "code",
   "execution_count": null,
   "id": "af5776fa-0882-4432-b256-a699c74bfb01",
   "metadata": {},
   "outputs": [],
   "source": []
  }
 ],
 "metadata": {
  "kernelspec": {
   "display_name": "Python 3 (ipykernel)",
   "language": "python",
   "name": "python3"
  },
  "language_info": {
   "codemirror_mode": {
    "name": "ipython",
    "version": 3
   },
   "file_extension": ".py",
   "mimetype": "text/x-python",
   "name": "python",
   "nbconvert_exporter": "python",
   "pygments_lexer": "ipython3",
   "version": "3.9.7"
  }
 },
 "nbformat": 4,
 "nbformat_minor": 5
}
