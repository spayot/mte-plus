{
 "cells": [
  {
   "cell_type": "code",
   "execution_count": 1,
   "id": "89d2c1e6-b362-49ab-bca0-454739b9622e",
   "metadata": {},
   "outputs": [],
   "source": [
    "import sys\n",
    "\n",
    "import pandas as pd\n",
    "import numpy as np\n",
    "\n",
    "import tensorflow as tf\n",
    "from tensorflow.keras import layers\n",
    "\n",
    "sys.path.append('../src')\n",
    "import columnar as col\n",
    "\n",
    "%load_ext autoreload\n",
    "%autoreload 2"
   ]
  },
  {
   "cell_type": "markdown",
   "id": "3bf0a107-c4e1-4051-a4f0-55d13997f032",
   "metadata": {},
   "source": [
    "# Categorical Embeddings\n",
    "Alternative to General"
   ]
  },
  {
   "cell_type": "code",
   "execution_count": 2,
   "id": "d8da331f-1de6-467b-bbee-99a624ab18b7",
   "metadata": {},
   "outputs": [
    {
     "data": {
      "text/plain": [
       "[PhysicalDevice(name='/physical_device:CPU:0', device_type='CPU'),\n",
       " PhysicalDevice(name='/physical_device:GPU:0', device_type='GPU')]"
      ]
     },
     "execution_count": 2,
     "metadata": {},
     "output_type": "execute_result"
    }
   ],
   "source": [
    "tf.config.experimental.list_physical_devices()"
   ]
  },
  {
   "cell_type": "code",
   "execution_count": 3,
   "id": "b3c25718-6d87-4b0f-a0a4-3f6806c26332",
   "metadata": {},
   "outputs": [],
   "source": [
    "df = col.loaders.petfinder._load('../')\n",
    "feature_selection = col.FeatureSelection(**col.loaders.petfinder._select_features(df))"
   ]
  },
  {
   "cell_type": "code",
   "execution_count": 4,
   "id": "5252c2bc-032f-4b27-adad-9eeded512866",
   "metadata": {},
   "outputs": [
    {
     "data": {
      "text/plain": [
       "0.7200693657039952"
      ]
     },
     "execution_count": 4,
     "metadata": {},
     "output_type": "execute_result"
    }
   ],
   "source": [
    "df.target.mean()"
   ]
  },
  {
   "cell_type": "code",
   "execution_count": 5,
   "id": "1dad7d1a-2d6e-40d1-959b-f63ba31166bf",
   "metadata": {},
   "outputs": [
    {
     "data": {
      "text/plain": [
       "{'type': 2,\n",
       " 'age': 106,\n",
       " 'breed1': 176,\n",
       " 'breed2': 135,\n",
       " 'gender': 3,\n",
       " 'color1': 7,\n",
       " 'color2': 7,\n",
       " 'color3': 6,\n",
       " 'maturitysize': 4,\n",
       " 'furlength': 3,\n",
       " 'vaccinated': 3,\n",
       " 'dewormed': 3,\n",
       " 'sterilized': 3,\n",
       " 'health': 3,\n",
       " 'quantity': 19,\n",
       " 'fee': 74,\n",
       " 'state': 14,\n",
       " 'rescuerid': 5595,\n",
       " 'videoamt': 9,\n",
       " 'photoamt': 31,\n",
       " 'has_name': 2,\n",
       " 'target': 2}"
      ]
     },
     "execution_count": 5,
     "metadata": {},
     "output_type": "execute_result"
    }
   ],
   "source": [
    "{col: df[col].nunique() for col in df.columns}"
   ]
  },
  {
   "cell_type": "code",
   "execution_count": 6,
   "id": "f27cb803-d8cd-4eb6-94c3-4b98552bc8f5",
   "metadata": {},
   "outputs": [
    {
     "name": "stdout",
     "output_type": "stream",
     "text": [
      "Metal device set to: Apple M1 Pro\n"
     ]
    },
    {
     "name": "stderr",
     "output_type": "stream",
     "text": [
      "2022-01-26 14:20:05.703952: I tensorflow/core/common_runtime/pluggable_device/pluggable_device_factory.cc:305] Could not identify NUMA node of platform GPU ID 0, defaulting to 0. Your kernel may not have been built with NUMA support.\n",
      "2022-01-26 14:20:05.704087: I tensorflow/core/common_runtime/pluggable_device/pluggable_device_factory.cc:271] Created TensorFlow device (/job:localhost/replica:0/task:0/device:GPU:0 with 0 MB memory) -> physical PluggableDevice (device: 0, name: METAL, pci bus id: <undefined>)\n"
     ]
    }
   ],
   "source": [
    "\n",
    "\n",
    "ds = col.embeddings.df_to_dataset(df, 'target', batch_size=32)"
   ]
  },
  {
   "cell_type": "code",
   "execution_count": null,
   "id": "90d98f33-3454-4e87-9c9f-f83da69b1442",
   "metadata": {},
   "outputs": [],
   "source": [
    "col.embeddings."
   ]
  },
  {
   "cell_type": "code",
   "execution_count": 55,
   "id": "40e0bad3-a6a6-4ae2-8aad-5158b8cfe552",
   "metadata": {},
   "outputs": [],
   "source": [
    "ds = df_to_dataset(df, 'target', batch_size=5)\n",
    "[(train_features, label_batch)] = ds.take(1)"
   ]
  },
  {
   "cell_type": "code",
   "execution_count": 57,
   "id": "e91d7e73-5bea-42f8-99d6-a05d3bc83850",
   "metadata": {},
   "outputs": [
    {
     "data": {
      "text/plain": [
       "columnar.embeddings.tf_preprocessing.TFEmbeddingLayer"
      ]
     },
     "execution_count": 57,
     "metadata": {},
     "output_type": "execute_result"
    }
   ],
   "source": [
    "col.TFEmbeddingLayer"
   ]
  },
  {
   "cell_type": "code",
   "execution_count": 56,
   "id": "5317a61b-9c2d-4933-bb28-570c8c91ca29",
   "metadata": {},
   "outputs": [
    {
     "data": {
      "text/plain": [
       "dict_keys(['type', 'age', 'breed1', 'breed2', 'gender', 'color1', 'color2', 'color3', 'maturitysize', 'furlength', 'vaccinated', 'dewormed', 'sterilized', 'health', 'quantity', 'fee', 'state', 'rescuerid', 'videoamt', 'photoamt', 'has_name'])"
      ]
     },
     "execution_count": 56,
     "metadata": {},
     "output_type": "execute_result"
    }
   ],
   "source": [
    "train_features.keys()"
   ]
  },
  {
   "cell_type": "code",
   "execution_count": 60,
   "id": "8ac1eec5-2fd3-42ae-af45-8528cedb3d49",
   "metadata": {},
   "outputs": [],
   "source": [
    "from sklearn.ensemble import RandomForestClassifier\n",
    "\n",
    "feats = col.FeatureSelection(target='target',categoricals=['type'], numericals=['photoamt', 'videoamt', 'fee', 'age'])\n",
    "encoder = col.MeanTargetEncoder(feats)\n",
    "model = RandomForestClassifier(n_estimators=100, max_depth=5)\n",
    "pipe = col.CategoricalPipeline(features=feats,\n",
    "                               model=model,\n",
    "                               scaler=None,\n",
    "                               encoder=encoder)"
   ]
  },
  {
   "cell_type": "code",
   "execution_count": 61,
   "id": "3e2bc595-a721-4110-8488-8ee9c0f255a0",
   "metadata": {},
   "outputs": [],
   "source": [
    "pipe.fit(df)"
   ]
  },
  {
   "cell_type": "code",
   "execution_count": 62,
   "id": "178f9e9b-3593-471e-8566-5618822cc392",
   "metadata": {},
   "outputs": [],
   "source": [
    "# pipe.pipe.get_params()"
   ]
  },
  {
   "cell_type": "code",
   "execution_count": 64,
   "id": "51777799-79ce-4f86-a244-4a13b267a37a",
   "metadata": {},
   "outputs": [
    {
     "data": {
      "text/plain": [
       "array([[  0.74011074,   1.        ,   0.        , 100.        ,\n",
       "          3.        ],\n",
       "       [  0.74011074,   2.        ,   0.        ,   0.        ,\n",
       "          1.        ],\n",
       "       [  0.70315845,   7.        ,   0.        ,   0.        ,\n",
       "          1.        ],\n",
       "       [  0.70315845,   8.        ,   0.        , 150.        ,\n",
       "          4.        ],\n",
       "       [  0.70315845,   3.        ,   0.        ,   0.        ,\n",
       "          1.        ]])"
      ]
     },
     "execution_count": 64,
     "metadata": {},
     "output_type": "execute_result"
    }
   ],
   "source": [
    "pipe.pipe.steps[0][1].transform(df.head())"
   ]
  },
  {
   "cell_type": "code",
   "execution_count": 114,
   "id": "8a9db3de-c042-4cb1-959e-f4ff7cf1ee9a",
   "metadata": {},
   "outputs": [
    {
     "data": {
      "text/plain": [
       "PetID\n",
       "86e1089a3    300.0\n",
       "6296e909a    267.0\n",
       "3422e4906    314.0\n",
       "5842f1ff5    315.0\n",
       "850a43f90    310.0\n",
       "             ...  \n",
       "dc0935a84    269.0\n",
       "a01ab5b30    268.0\n",
       "d981b6395    270.0\n",
       "e4da1c9e4    269.0\n",
       "a83d95ead    308.0\n",
       "Length: 14993, dtype: float64"
      ]
     },
     "execution_count": 114,
     "metadata": {},
     "output_type": "execute_result"
    }
   ],
   "source": [
    "from sklearn.compose import ColumnTransformer\n",
    "\n",
    "class ToyEncoder():\n",
    "    def __init__(self, a):\n",
    "        self.a = a\n",
    "        \n",
    "    def fit(self, X, y = None):\n",
    "        self.a = 0\n",
    "        \n",
    "    def transform(self, X):\n",
    "        return X['breed1'] + X['photoamt']\n",
    "    \n",
    "    def get_params(self, deep: bool=False):\n",
    "        return dict(a=self.a)\n",
    "    \n",
    "    def fit_transform(self, X, y=None):\n",
    "        return X.add(X.photoamt, axis=0)\n",
    "    \n",
    "encoder = ToyEncoder(1)\n",
    "\n",
    "encoder.transform(df)"
   ]
  },
  {
   "cell_type": "code",
   "execution_count": 43,
   "id": "e021d4e3-3c93-473d-87fc-fcd489a8501b",
   "metadata": {},
   "outputs": [
    {
     "data": {
      "text/plain": [
       "{'categories': 'auto',\n",
       " 'drop': None,\n",
       " 'dtype': numpy.float64,\n",
       " 'handle_unknown': 'error',\n",
       " 'sparse': True}"
      ]
     },
     "execution_count": 43,
     "metadata": {},
     "output_type": "execute_result"
    }
   ],
   "source": [
    "# test behavior of \n",
    "col.FeatureSelection()"
   ]
  },
  {
   "cell_type": "code",
   "execution_count": 44,
   "id": "232289a5-142c-46ef-ae40-865ac6c80986",
   "metadata": {},
   "outputs": [],
   "source": [
    "[(train_features, label_batch)] = ds.take(1)\n",
    "\n",
    "feature_selection = col.FeatureSelection(categoricals=['type', 'age', 'breed1', 'breed2', 'gender', 'color1', 'color2', 'color3', 'maturitysize', 'furlength', 'vaccinated', 'dewormed', 'sterilized', 'health', 'quantity', 'state', 'rescuerid', 'has_name'], \n",
    "                                         numericals=['photoamt', 'videoamt', 'fee'], \n",
    "                                         target='target')"
   ]
  },
  {
   "cell_type": "code",
   "execution_count": 9,
   "id": "dde4319a-fc3d-4457-88df-2d8fdd00f2e8",
   "metadata": {},
   "outputs": [],
   "source": [
    "df2, labels = df.drop(columns=['target']), df.target"
   ]
  },
  {
   "cell_type": "code",
   "execution_count": 40,
   "id": "0cdd6cd7-f669-4f4f-975b-66d6a4a3fa36",
   "metadata": {},
   "outputs": [
    {
     "data": {
      "text/plain": [
       "OneHotEncoder()"
      ]
     },
     "execution_count": 40,
     "metadata": {},
     "output_type": "execute_result"
    }
   ],
   "source": [
    "from sklearn.preprocessing import OneHotEncoder\n",
    "\n",
    "ohe = OneHotEncoder()\n",
    "ohe.fit(df)"
   ]
  },
  {
   "cell_type": "code",
   "execution_count": 41,
   "id": "ff33776d-d388-425c-b54d-eff1101a75a5",
   "metadata": {},
   "outputs": [
    {
     "data": {
      "text/plain": [
       "6185"
      ]
     },
     "execution_count": 41,
     "metadata": {},
     "output_type": "execute_result"
    }
   ],
   "source": [
    "(df.nunique()-1).sum()"
   ]
  },
  {
   "cell_type": "code",
   "execution_count": 42,
   "id": "5f663bda-112f-4d90-ae73-5cb4021c0bf3",
   "metadata": {},
   "outputs": [
    {
     "data": {
      "text/plain": [
       "{'type': (2, 2),\n",
       " 'age': (106, 106),\n",
       " 'breed1': (176, 176),\n",
       " 'breed2': (135, 135),\n",
       " 'gender': (3, 3),\n",
       " 'color1': (7, 7),\n",
       " 'color2': (7, 7),\n",
       " 'color3': (6, 6),\n",
       " 'maturitysize': (4, 4),\n",
       " 'furlength': (3, 3),\n",
       " 'vaccinated': (3, 3),\n",
       " 'dewormed': (3, 3),\n",
       " 'sterilized': (3, 3),\n",
       " 'health': (3, 3),\n",
       " 'quantity': (19, 19),\n",
       " 'fee': (117, 74),\n",
       " 'state': (14, 14),\n",
       " 'rescuerid': (5595, 5595),\n",
       " 'videoamt': (9, 9),\n",
       " 'photoamt': (31, 31),\n",
       " 'has_name': (2, 2),\n",
       " 'target': (2, 2)}"
      ]
     },
     "execution_count": 42,
     "metadata": {},
     "output_type": "execute_result"
    }
   ],
   "source": [
    "{col: (len([f for f in ohe.get_feature_names_out() if col in f]), df[col].nunique()) for col in df.columns}"
   ]
  },
  {
   "cell_type": "code",
   "execution_count": 45,
   "id": "4ed2dbe9-f707-437d-9293-d53fa9e5ac8b",
   "metadata": {},
   "outputs": [
    {
     "name": "stderr",
     "output_type": "stream",
     "text": [
      "2022-01-26 11:45:54.278623: I tensorflow/core/grappler/optimizers/custom_graph_optimizer_registry.cc:112] Plugin optimizer for device_type GPU is enabled.\n",
      "2022-01-26 11:45:54.701577: I tensorflow/core/grappler/optimizers/custom_graph_optimizer_registry.cc:112] Plugin optimizer for device_type GPU is enabled.\n",
      "2022-01-26 11:45:54.715150: I tensorflow/core/grappler/optimizers/custom_graph_optimizer_registry.cc:112] Plugin optimizer for device_type GPU is enabled.\n",
      "2022-01-26 11:45:55.589870: I tensorflow/core/grappler/optimizers/custom_graph_optimizer_registry.cc:112] Plugin optimizer for device_type GPU is enabled.\n",
      "2022-01-26 11:45:55.600900: I tensorflow/core/grappler/optimizers/custom_graph_optimizer_registry.cc:112] Plugin optimizer for device_type GPU is enabled.\n",
      "2022-01-26 11:45:56.529510: I tensorflow/core/grappler/optimizers/custom_graph_optimizer_registry.cc:112] Plugin optimizer for device_type GPU is enabled.\n",
      "2022-01-26 11:45:56.539644: I tensorflow/core/grappler/optimizers/custom_graph_optimizer_registry.cc:112] Plugin optimizer for device_type GPU is enabled.\n"
     ]
    },
    {
     "name": "stdout",
     "output_type": "stream",
     "text": [
      "Epoch 1/3\n"
     ]
    },
    {
     "name": "stderr",
     "output_type": "stream",
     "text": [
      "2022-01-26 11:45:57.663721: I tensorflow/core/grappler/optimizers/custom_graph_optimizer_registry.cc:112] Plugin optimizer for device_type GPU is enabled.\n"
     ]
    },
    {
     "name": "stdout",
     "output_type": "stream",
     "text": [
      "375/375 [==============================] - 5s 12ms/step - loss: 0.6064 - accuracy: 0.5979\n",
      "Epoch 2/3\n",
      "375/375 [==============================] - 4s 12ms/step - loss: 0.5831 - accuracy: 0.6668\n",
      "Epoch 3/3\n",
      "375/375 [==============================] - 4s 12ms/step - loss: 0.5803 - accuracy: 0.6703\n",
      "10/94 [==>...........................] - ETA: 0s - loss: 0.6137 - accuracy: 0.6687 "
     ]
    },
    {
     "name": "stderr",
     "output_type": "stream",
     "text": [
      "2022-01-26 11:46:11.209123: I tensorflow/core/grappler/optimizers/custom_graph_optimizer_registry.cc:112] Plugin optimizer for device_type GPU is enabled.\n"
     ]
    },
    {
     "name": "stdout",
     "output_type": "stream",
     "text": [
      "94/94 [==============================] - 1s 5ms/step - loss: 0.5722 - accuracy: 0.6986\n"
     ]
    },
    {
     "data": {
      "text/plain": [
       "[0.5721990466117859, 0.698566198348999]"
      ]
     },
     "execution_count": 45,
     "metadata": {},
     "output_type": "execute_result"
    }
   ],
   "source": [
    "from sklearn.model_selection import train_test_split\n",
    "\n",
    "df_train, df_test = train_test_split(df, test_size=.2)\n",
    "\n",
    "ds_train = df_to_dataset(df_train, 'target', batch_size=32)\n",
    "ds_test = df_to_dataset(df_test, 'target', batch_size=32)\n",
    "\n",
    "model = col.TFCatEmbsModel(ds_train, feature_selection)\n",
    "# model(train_features)\n",
    "model.compile(optimizer='adam',\n",
    "              loss=tf.keras.losses.BinaryCrossentropy(from_logits=True),\n",
    "              metrics=[\"accuracy\"])\n",
    "\n",
    "model.fit(ds_train, epochs=3)\n",
    "model.evaluate(ds_test)"
   ]
  },
  {
   "cell_type": "code",
   "execution_count": 43,
   "id": "ce3fa03d-3e20-467e-b5d1-d345722f54b3",
   "metadata": {},
   "outputs": [
    {
     "data": {
      "text/plain": [
       "TensorShape([32, 247])"
      ]
     },
     "execution_count": 43,
     "metadata": {},
     "output_type": "execute_result"
    }
   ],
   "source": [
    "model.encode_features(train_features).shape"
   ]
  },
  {
   "cell_type": "code",
   "execution_count": null,
   "id": "af5776fa-0882-4432-b256-a699c74bfb01",
   "metadata": {},
   "outputs": [],
   "source": []
  }
 ],
 "metadata": {
  "kernelspec": {
   "display_name": "Python 3 (ipykernel)",
   "language": "python",
   "name": "python3"
  },
  "language_info": {
   "codemirror_mode": {
    "name": "ipython",
    "version": 3
   },
   "file_extension": ".py",
   "mimetype": "text/x-python",
   "name": "python",
   "nbconvert_exporter": "python",
   "pygments_lexer": "ipython3",
   "version": "3.9.7"
  }
 },
 "nbformat": 4,
 "nbformat_minor": 5
}
