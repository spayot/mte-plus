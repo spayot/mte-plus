{
 "cells": [
  {
   "cell_type": "code",
   "execution_count": 3,
   "id": "89d2c1e6-b362-49ab-bca0-454739b9622e",
   "metadata": {},
   "outputs": [],
   "source": [
    "import sys\n",
    "\n",
    "import pandas as pd\n",
    "import numpy as np\n",
    "\n",
    "import tensorflow as tf\n",
    "from tensorflow.keras import layers\n",
    "from sklearn import metrics\n",
    "\n",
    "sys.path.append('../src')\n",
    "import columnar as col\n",
    "\n",
    "%load_ext autoreload\n",
    "%autoreload 2"
   ]
  },
  {
   "cell_type": "markdown",
   "id": "3bf0a107-c4e1-4051-a4f0-55d13997f032",
   "metadata": {},
   "source": [
    "# Categorical Embeddings\n",
    "Alternative to General"
   ]
  },
  {
   "cell_type": "code",
   "execution_count": 4,
   "id": "d8da331f-1de6-467b-bbee-99a624ab18b7",
   "metadata": {},
   "outputs": [
    {
     "data": {
      "text/plain": [
       "[PhysicalDevice(name='/physical_device:CPU:0', device_type='CPU'),\n",
       " PhysicalDevice(name='/physical_device:GPU:0', device_type='GPU')]"
      ]
     },
     "execution_count": 4,
     "metadata": {},
     "output_type": "execute_result"
    }
   ],
   "source": [
    "tf.config.experimental.list_physical_devices()"
   ]
  },
  {
   "cell_type": "code",
   "execution_count": 5,
   "id": "b3c25718-6d87-4b0f-a0a4-3f6806c26332",
   "metadata": {},
   "outputs": [
    {
     "name": "stdout",
     "output_type": "stream",
     "text": [
      "Metal device set to: Apple M1 Pro\n"
     ]
    },
    {
     "name": "stderr",
     "output_type": "stream",
     "text": [
      "2022-02-10 20:53:20.769898: I tensorflow/core/common_runtime/pluggable_device/pluggable_device_factory.cc:305] Could not identify NUMA node of platform GPU ID 0, defaulting to 0. Your kernel may not have been built with NUMA support.\n",
      "2022-02-10 20:53:20.770015: I tensorflow/core/common_runtime/pluggable_device/pluggable_device_factory.cc:271] Created TensorFlow device (/job:localhost/replica:0/task:0/device:GPU:0 with 0 MB memory) -> physical PluggableDevice (device: 0, name: METAL, pci bus id: <undefined>)\n"
     ]
    }
   ],
   "source": [
    "from sklearn.model_selection import train_test_split\n",
    "\n",
    "df = col.loaders.petfinder._load('../')\n",
    "feature_selection = col.FeatureSelection(**col.loaders.petfinder._select_features(df))\n",
    "\n",
    "# split data\n",
    "df_train, df_test = train_test_split(df, test_size=.2)\n",
    "\n",
    "X_train, y_train = feature_selection.select_features(df_train)\n",
    "ds_train = col.embeddings.data.df_to_dataset(X_train, y_train, batch_size=32)\n",
    "\n",
    "X_test, y_test = feature_selection.select_features(df_test)\n",
    "ds_test = col.embeddings.data.df_to_dataset(X_test, y_test, batch_size=32, shuffle=False)\n",
    "\n",
    "# setup scorer\n",
    "scorer = col.Scorer(\n",
    "    acc=lambda ytrue, ypreds: metrics.accuracy_score(ytrue, ypreds > .5),\n",
    "    f1=lambda ytrue, ypreds: metrics.f1_score(ytrue, ypreds > .5),\n",
    "    auc=metrics.roc_auc_score,\n",
    ")"
   ]
  },
  {
   "cell_type": "code",
   "execution_count": 6,
   "id": "5252c2bc-032f-4b27-adad-9eeded512866",
   "metadata": {},
   "outputs": [
    {
     "data": {
      "text/plain": [
       "0.7200693657039952"
      ]
     },
     "execution_count": 6,
     "metadata": {},
     "output_type": "execute_result"
    }
   ],
   "source": [
    "df.target.mean()"
   ]
  },
  {
   "cell_type": "code",
   "execution_count": 7,
   "id": "1dad7d1a-2d6e-40d1-959b-f63ba31166bf",
   "metadata": {},
   "outputs": [
    {
     "data": {
      "text/plain": [
       "{'type': 2,\n",
       " 'age': 106,\n",
       " 'breed1': 176,\n",
       " 'breed2': 135,\n",
       " 'gender': 3,\n",
       " 'color1': 7,\n",
       " 'color2': 7,\n",
       " 'color3': 6,\n",
       " 'maturitysize': 4,\n",
       " 'furlength': 3,\n",
       " 'vaccinated': 3,\n",
       " 'dewormed': 3,\n",
       " 'sterilized': 3,\n",
       " 'health': 3,\n",
       " 'quantity': 19,\n",
       " 'fee': 74,\n",
       " 'state': 14,\n",
       " 'rescuerid': 5595,\n",
       " 'videoamt': 9,\n",
       " 'photoamt': 31,\n",
       " 'has_name': 2,\n",
       " 'target': 2}"
      ]
     },
     "execution_count": 7,
     "metadata": {},
     "output_type": "execute_result"
    }
   ],
   "source": [
    "{col: df[col].nunique() for col in df.columns}"
   ]
  },
  {
   "cell_type": "code",
   "execution_count": 29,
   "id": "87c83429-3436-4b63-a1ca-5fff3ecf848b",
   "metadata": {},
   "outputs": [
    {
     "data": {
      "text/plain": [
       "0.8469109947643979"
      ]
     },
     "execution_count": 29,
     "metadata": {},
     "output_type": "execute_result"
    }
   ],
   "source": [
    "from sklearn.metrics import accuracy_score, f1_score\n",
    "from sklearn.ensemble import RandomForestClassifier\n",
    "\n",
    "pipe = col.CategoricalPipeline(features=feature_selection,\n",
    "                              transformer=col.MeanTargetEncoder(),\n",
    "                              model=RandomForestClassifier(max_depth=5, n_estimators=100))\n",
    "\n",
    "pipe.fit(df_train)\n",
    "f1_score(df_test.target, (pipe.predict(df_test) > .5))\n"
   ]
  },
  {
   "cell_type": "markdown",
   "id": "0180f55f-c3dc-4f47-803a-976def0bd448",
   "metadata": {},
   "source": [
    "## test all transformers"
   ]
  },
  {
   "cell_type": "code",
   "execution_count": 56,
   "id": "f61e0a74-3b60-4738-8f14-03ac1e5bb1b2",
   "metadata": {},
   "outputs": [
    {
     "name": "stdout",
     "output_type": "stream",
     "text": [
      "MeanTargetEncoder(alpha=5) (1000, 21)\n",
      "TransformStrategy_OneHotEncoder()() (1000, 896)\n"
     ]
    },
    {
     "name": "stderr",
     "output_type": "stream",
     "text": [
      "2022-02-10 22:12:51.728606: I tensorflow/core/grappler/optimizers/custom_graph_optimizer_registry.cc:112] Plugin optimizer for device_type GPU is enabled.\n",
      "2022-02-10 22:12:51.792171: I tensorflow/core/grappler/optimizers/custom_graph_optimizer_registry.cc:112] Plugin optimizer for device_type GPU is enabled.\n",
      "2022-02-10 22:12:51.854966: I tensorflow/core/grappler/optimizers/custom_graph_optimizer_registry.cc:112] Plugin optimizer for device_type GPU is enabled.\n",
      "2022-02-10 22:12:51.917846: I tensorflow/core/grappler/optimizers/custom_graph_optimizer_registry.cc:112] Plugin optimizer for device_type GPU is enabled.\n",
      "2022-02-10 22:12:51.978814: I tensorflow/core/grappler/optimizers/custom_graph_optimizer_registry.cc:112] Plugin optimizer for device_type GPU is enabled.\n",
      "2022-02-10 22:12:52.036643: I tensorflow/core/grappler/optimizers/custom_graph_optimizer_registry.cc:112] Plugin optimizer for device_type GPU is enabled.\n",
      "2022-02-10 22:12:52.094816: I tensorflow/core/grappler/optimizers/custom_graph_optimizer_registry.cc:112] Plugin optimizer for device_type GPU is enabled.\n",
      "2022-02-10 22:12:52.153259: I tensorflow/core/grappler/optimizers/custom_graph_optimizer_registry.cc:112] Plugin optimizer for device_type GPU is enabled.\n",
      "2022-02-10 22:12:52.214461: I tensorflow/core/grappler/optimizers/custom_graph_optimizer_registry.cc:112] Plugin optimizer for device_type GPU is enabled.\n",
      "2022-02-10 22:12:52.274126: I tensorflow/core/grappler/optimizers/custom_graph_optimizer_registry.cc:112] Plugin optimizer for device_type GPU is enabled.\n",
      "2022-02-10 22:12:52.333059: I tensorflow/core/grappler/optimizers/custom_graph_optimizer_registry.cc:112] Plugin optimizer for device_type GPU is enabled.\n",
      "2022-02-10 22:12:52.390897: I tensorflow/core/grappler/optimizers/custom_graph_optimizer_registry.cc:112] Plugin optimizer for device_type GPU is enabled.\n",
      "2022-02-10 22:12:52.450095: I tensorflow/core/grappler/optimizers/custom_graph_optimizer_registry.cc:112] Plugin optimizer for device_type GPU is enabled.\n",
      "2022-02-10 22:12:52.506987: I tensorflow/core/grappler/optimizers/custom_graph_optimizer_registry.cc:112] Plugin optimizer for device_type GPU is enabled.\n",
      "2022-02-10 22:12:52.564148: I tensorflow/core/grappler/optimizers/custom_graph_optimizer_registry.cc:112] Plugin optimizer for device_type GPU is enabled.\n",
      "2022-02-10 22:12:52.620898: I tensorflow/core/grappler/optimizers/custom_graph_optimizer_registry.cc:112] Plugin optimizer for device_type GPU is enabled.\n",
      "2022-02-10 22:12:52.674613: I tensorflow/core/grappler/optimizers/custom_graph_optimizer_registry.cc:112] Plugin optimizer for device_type GPU is enabled.\n",
      "2022-02-10 22:12:52.759847: I tensorflow/core/grappler/optimizers/custom_graph_optimizer_registry.cc:112] Plugin optimizer for device_type GPU is enabled.\n",
      "2022-02-10 22:12:52.771515: I tensorflow/core/grappler/optimizers/custom_graph_optimizer_registry.cc:112] Plugin optimizer for device_type GPU is enabled.\n",
      "2022-02-10 22:12:52.909022: I tensorflow/core/grappler/optimizers/custom_graph_optimizer_registry.cc:112] Plugin optimizer for device_type GPU is enabled.\n",
      "2022-02-10 22:12:52.920570: I tensorflow/core/grappler/optimizers/custom_graph_optimizer_registry.cc:112] Plugin optimizer for device_type GPU is enabled.\n",
      "2022-02-10 22:12:53.061201: I tensorflow/core/grappler/optimizers/custom_graph_optimizer_registry.cc:112] Plugin optimizer for device_type GPU is enabled.\n",
      "2022-02-10 22:12:53.072254: I tensorflow/core/grappler/optimizers/custom_graph_optimizer_registry.cc:112] Plugin optimizer for device_type GPU is enabled.\n",
      "2022-02-10 22:12:53.389276: I tensorflow/core/grappler/optimizers/custom_graph_optimizer_registry.cc:112] Plugin optimizer for device_type GPU is enabled.\n",
      "2022-02-10 22:12:53.399793: I tensorflow/core/grappler/optimizers/custom_graph_optimizer_registry.cc:112] Plugin optimizer for device_type GPU is enabled.\n"
     ]
    },
    {
     "name": "stdout",
     "output_type": "stream",
     "text": [
      "Epoch 1/3\n"
     ]
    },
    {
     "name": "stderr",
     "output_type": "stream",
     "text": [
      "2022-02-10 22:12:54.031554: I tensorflow/core/grappler/optimizers/custom_graph_optimizer_registry.cc:112] Plugin optimizer for device_type GPU is enabled.\n"
     ]
    },
    {
     "name": "stdout",
     "output_type": "stream",
     "text": [
      "32/32 [==============================] - 4s 74ms/step - loss: 0.6831 - accuracy: 0.3210\n",
      "Epoch 2/3\n",
      "32/32 [==============================] - 2s 64ms/step - loss: 0.6398 - accuracy: 0.4510\n",
      "Epoch 3/3\n",
      "32/32 [==============================] - 2s 65ms/step - loss: 0.6030 - accuracy: 0.6530\n",
      "TFEmbeddingWrapper_Max2Strategy() (1000, 36)\n"
     ]
    },
    {
     "name": "stderr",
     "output_type": "stream",
     "text": [
      "2022-02-10 22:13:01.356993: I tensorflow/core/grappler/optimizers/custom_graph_optimizer_registry.cc:112] Plugin optimizer for device_type GPU is enabled.\n"
     ]
    }
   ],
   "source": [
    "from sklearn.preprocessing import OneHotEncoder\n",
    "\n",
    "\n",
    "transformers = [col.MeanTargetEncoder(),\n",
    "                 col.TransformStrategy(cat_encoder=OneHotEncoder()),\n",
    "                 col.embeddings.wrapper.TFEmbeddingWrapper('max2'),\n",
    "                ]\n",
    "for transformer in transformers:\n",
    "    print(transformer, transformer.fit_transform(X_train.sample(1000), y_train.sample(1000), feature_selection).shape)"
   ]
  },
  {
   "cell_type": "markdown",
   "id": "5383b408-7e59-41b6-b976-29a40ccb0771",
   "metadata": {
    "jp-MarkdownHeadingCollapsed": true,
    "tags": []
   },
   "source": [
    "## Test LGBM with early stopping"
   ]
  },
  {
   "cell_type": "code",
   "execution_count": 315,
   "id": "ae5e900f-b32e-46b5-ba23-51e5658bf16a",
   "metadata": {},
   "outputs": [
    {
     "name": "stderr",
     "output_type": "stream",
     "text": [
      "/Users/spayot/miniforge3/lib/python3.9/site-packages/pandas/core/indexing.py:1884: SettingWithCopyWarning: \n",
      "A value is trying to be set on a copy of a slice from a DataFrame.\n",
      "Try using .loc[row_indexer,col_indexer] = value instead\n",
      "\n",
      "See the caveats in the documentation: https://pandas.pydata.org/pandas-docs/stable/user_guide/indexing.html#returning-a-view-versus-a-copy\n",
      "  self._setitem_single_column(loc, val, pi)\n",
      "/Users/spayot/miniforge3/lib/python3.9/site-packages/lightgbm/basic.py:1780: UserWarning: Overriding the parameters from Reference Dataset.\n",
      "  _log_warning('Overriding the parameters from Reference Dataset.')\n",
      "/Users/spayot/miniforge3/lib/python3.9/site-packages/lightgbm/basic.py:1513: UserWarning: categorical_column in param dict is overridden.\n",
      "  _log_warning(f'{cat_alias} in param dict is overridden.')\n"
     ]
    },
    {
     "name": "stdout",
     "output_type": "stream",
     "text": [
      "[LightGBM] [Warning] boosting is set=gbdt, boosting_type=gbdt will be ignored. Current value: boosting=gbdt\n",
      "Training until validation scores don't improve for 150 rounds\n",
      "Early stopping, best iteration is:\n",
      "[25]\tvalid_0's binary_logloss: 0.436801\n",
      "[LightGBM] [Warning] boosting is set=gbdt, boosting_type=gbdt will be ignored. Current value: boosting=gbdt\n",
      "Training until validation scores don't improve for 150 rounds\n"
     ]
    },
    {
     "name": "stderr",
     "output_type": "stream",
     "text": [
      "/Users/spayot/miniforge3/lib/python3.9/site-packages/lightgbm/basic.py:1780: UserWarning: Overriding the parameters from Reference Dataset.\n",
      "  _log_warning('Overriding the parameters from Reference Dataset.')\n",
      "/Users/spayot/miniforge3/lib/python3.9/site-packages/lightgbm/basic.py:1513: UserWarning: categorical_column in param dict is overridden.\n",
      "  _log_warning(f'{cat_alias} in param dict is overridden.')\n"
     ]
    },
    {
     "name": "stdout",
     "output_type": "stream",
     "text": [
      "Early stopping, best iteration is:\n",
      "[26]\tvalid_0's binary_logloss: 0.436605\n",
      "[LightGBM] [Warning] boosting is set=gbdt, boosting_type=gbdt will be ignored. Current value: boosting=gbdt\n",
      "Training until validation scores don't improve for 150 rounds\n"
     ]
    },
    {
     "name": "stderr",
     "output_type": "stream",
     "text": [
      "/Users/spayot/miniforge3/lib/python3.9/site-packages/lightgbm/basic.py:1780: UserWarning: Overriding the parameters from Reference Dataset.\n",
      "  _log_warning('Overriding the parameters from Reference Dataset.')\n",
      "/Users/spayot/miniforge3/lib/python3.9/site-packages/lightgbm/basic.py:1513: UserWarning: categorical_column in param dict is overridden.\n",
      "  _log_warning(f'{cat_alias} in param dict is overridden.')\n"
     ]
    },
    {
     "name": "stdout",
     "output_type": "stream",
     "text": [
      "Early stopping, best iteration is:\n",
      "[32]\tvalid_0's binary_logloss: 0.429521\n",
      "[LightGBM] [Warning] boosting is set=gbdt, boosting_type=gbdt will be ignored. Current value: boosting=gbdt\n",
      "Training until validation scores don't improve for 150 rounds\n"
     ]
    },
    {
     "name": "stderr",
     "output_type": "stream",
     "text": [
      "/Users/spayot/miniforge3/lib/python3.9/site-packages/lightgbm/basic.py:1780: UserWarning: Overriding the parameters from Reference Dataset.\n",
      "  _log_warning('Overriding the parameters from Reference Dataset.')\n",
      "/Users/spayot/miniforge3/lib/python3.9/site-packages/lightgbm/basic.py:1513: UserWarning: categorical_column in param dict is overridden.\n",
      "  _log_warning(f'{cat_alias} in param dict is overridden.')\n"
     ]
    },
    {
     "name": "stdout",
     "output_type": "stream",
     "text": [
      "Early stopping, best iteration is:\n",
      "[39]\tvalid_0's binary_logloss: 0.43336\n",
      "[LightGBM] [Warning] boosting is set=gbdt, boosting_type=gbdt will be ignored. Current value: boosting=gbdt\n",
      "Training until validation scores don't improve for 150 rounds\n"
     ]
    },
    {
     "name": "stderr",
     "output_type": "stream",
     "text": [
      "/Users/spayot/miniforge3/lib/python3.9/site-packages/lightgbm/basic.py:1780: UserWarning: Overriding the parameters from Reference Dataset.\n",
      "  _log_warning('Overriding the parameters from Reference Dataset.')\n",
      "/Users/spayot/miniforge3/lib/python3.9/site-packages/lightgbm/basic.py:1513: UserWarning: categorical_column in param dict is overridden.\n",
      "  _log_warning(f'{cat_alias} in param dict is overridden.')\n"
     ]
    },
    {
     "name": "stdout",
     "output_type": "stream",
     "text": [
      "Early stopping, best iteration is:\n",
      "[26]\tvalid_0's binary_logloss: 0.438937\n",
      "      f1    acc    auc\n",
      "0  0.567  0.788  0.802\n",
      "1  0.584  0.798  0.799\n",
      "2  0.607  0.804  0.803\n",
      "3  0.592  0.794  0.806\n",
      "4  0.584  0.792  0.796\n"
     ]
    }
   ],
   "source": [
    "import lightgbm as lgbm\n",
    "from sklearn.model_selection import StratifiedKFold\n",
    "\n",
    "# load data and feature selection\n",
    "loader = col.DataLoader('hr_analytics', root='../')\n",
    "\n",
    "df = loader.load_data()\n",
    "features = col.FeatureSelection(**loader.get_selected_features(df))\n",
    "X, y = features.select_features(df)\n",
    "\n",
    "# define CV strategy\n",
    "kf = StratifiedKFold(5, shuffle=True)\n",
    "\n",
    "# define categorical features\n",
    "X.loc[:,features.categoricals] = X.copy()[features.categoricals].astype('category')\n",
    "\n",
    "scores = []\n",
    "for idx_train, idx_test in kf.split(X,y):\n",
    "    X_train, X_test = X.loc[idx_train,:], X.loc[idx_test,:]\n",
    "    y_train, y_test = y[idx_train], y[idx_test]\n",
    "\n",
    "    eval_set = [(X_test, y_test)]\n",
    "\n",
    "    lgbm_clf = lgbm.LGBMClassifier(\n",
    "        objective=\"binary\",\n",
    "        n_estimators=1000,\n",
    "        boosting=\"gbdt\",  # default histogram binning of LGBM\n",
    "        # device='gpu'  # uncomment to use GPU training\n",
    "    )\n",
    "\n",
    "    _ = lgbm_clf.fit(\n",
    "        X_train,\n",
    "        y_train,\n",
    "        categorical_feature='auto', # features.categoricals,\n",
    "        eval_set=eval_set,\n",
    "        callbacks = [lgbm.early_stopping(150)],\n",
    "        eval_metric=\"logloss\",\n",
    "    )\n",
    "\n",
    "    preds = lgbm_clf.predict_proba(X_test)[:,1]\n",
    "    \n",
    "    score = {'f1': metrics.f1_score(y_test, preds > .5),\n",
    "             'acc': metrics.accuracy_score(y_test, preds > .5),\n",
    "             'auc': metrics.roc_auc_score(y_test, preds)\n",
    "            }\n",
    "             \n",
    "    scores.append(score)\n",
    "    \n",
    "scores = pd.DataFrame(scores)\n",
    "print(scores.round(3))"
   ]
  },
  {
   "cell_type": "code",
   "execution_count": 316,
   "id": "f01ff2c3-a71c-420e-a4a3-7ccf7be607a1",
   "metadata": {},
   "outputs": [
    {
     "data": {
      "text/plain": [
       "f1     0.586837\n",
       "acc    0.795229\n",
       "auc    0.801267\n",
       "dtype: float64"
      ]
     },
     "execution_count": 316,
     "metadata": {},
     "output_type": "execute_result"
    }
   ],
   "source": [
    "scores.mean()"
   ]
  },
  {
   "cell_type": "code",
   "execution_count": 312,
   "id": "afe8ea98-4ff2-409d-83e3-0edbaa2d9c57",
   "metadata": {},
   "outputs": [
    {
     "data": {
      "text/plain": [
       "0.5841785782073935"
      ]
     },
     "execution_count": 312,
     "metadata": {},
     "output_type": "execute_result"
    }
   ],
   "source": [
    "scores.mean()"
   ]
  },
  {
   "cell_type": "code",
   "execution_count": 178,
   "id": "fbb1d09c-ba4d-4681-93be-74269648f2ab",
   "metadata": {},
   "outputs": [
    {
     "data": {
      "image/png": "[encoded data removed]",
      "text/plain": [
       "<Figure size 2880x360 with 4 Axes>"
      ]
     },
     "metadata": {},
     "output_type": "display_data"
    }
   ],
   "source": [
    "summaries = []\n",
    "for task in tasks:\n",
    "    filepath = os.path.join(RUNS_PATH, f'{task}.csv')    \n",
    "    report = col.Report.from_csv(filepath).report\n",
    "    summary = get_summary(report, metric).drop(columns='DNN')\n",
    "    clfs = summary.columns\n",
    "    summary['task'] = task\n",
    "    summaries.append(summary)\n",
    "    \n",
    "all_results = pd.concat(summaries)\n",
    "\n",
    "def plot_heatmap_by_classifier(metric, clf, ax, yticks: bool = False):\n",
    "    data = pd.pivot(all_results, columns='task', values=clf)\n",
    "    sns.heatmap(data, cmap='crest', annot=True, fmt='.1%', cbar=False, ax=ax)#, center=.411)\n",
    "    ax.set_title(f\"{metric} using {clf}\");\n",
    "    \n",
    "    if not yticks:\n",
    "        ax.set_yticklabels([])\n",
    "    \n",
    "\n",
    "fig, ax = plt.subplots(1,4, figsize=(40,5))\n",
    "\n",
    "tasks = ['petfinder', 'adults', 'mushrooms', 'titanic', 'hr_analytics']\n",
    "metric = 'f1'\n",
    "\n",
    "for i, clf in enumerate(clfs):\n",
    "    plot_heatmap_by_classifier(metric, clf, ax[i], yticks=(i==0))\n",
    "plt.show()"
   ]
  },
  {
   "cell_type": "markdown",
   "id": "3b281c48-1621-48fd-875c-198254854c65",
   "metadata": {
    "tags": []
   },
   "source": [
    "# testing classifier"
   ]
  },
  {
   "cell_type": "code",
   "execution_count": 9,
   "id": "37982409-9bf8-40bf-9a43-1cca2cff4920",
   "metadata": {},
   "outputs": [
    {
     "name": "stderr",
     "output_type": "stream",
     "text": [
      "2022-02-05 21:26:47.684343: W tensorflow/core/platform/profile_utils/cpu_utils.cc:128] Failed to get CPU frequency: 0 Hz\n",
      "2022-02-05 21:26:47.718298: I tensorflow/core/grappler/optimizers/custom_graph_optimizer_registry.cc:112] Plugin optimizer for device_type GPU is enabled.\n",
      "2022-02-05 21:26:48.136437: I tensorflow/core/grappler/optimizers/custom_graph_optimizer_registry.cc:112] Plugin optimizer for device_type GPU is enabled.\n",
      "2022-02-05 21:26:48.534193: I tensorflow/core/grappler/optimizers/custom_graph_optimizer_registry.cc:112] Plugin optimizer for device_type GPU is enabled.\n",
      "2022-02-05 21:26:48.949364: I tensorflow/core/grappler/optimizers/custom_graph_optimizer_registry.cc:112] Plugin optimizer for device_type GPU is enabled.\n",
      "2022-02-05 21:26:49.381182: I tensorflow/core/grappler/optimizers/custom_graph_optimizer_registry.cc:112] Plugin optimizer for device_type GPU is enabled.\n",
      "2022-02-05 21:26:49.790149: I tensorflow/core/grappler/optimizers/custom_graph_optimizer_registry.cc:112] Plugin optimizer for device_type GPU is enabled.\n",
      "2022-02-05 21:26:50.189191: I tensorflow/core/grappler/optimizers/custom_graph_optimizer_registry.cc:112] Plugin optimizer for device_type GPU is enabled.\n",
      "2022-02-05 21:26:50.606317: I tensorflow/core/grappler/optimizers/custom_graph_optimizer_registry.cc:112] Plugin optimizer for device_type GPU is enabled.\n",
      "2022-02-05 21:26:51.003976: I tensorflow/core/grappler/optimizers/custom_graph_optimizer_registry.cc:112] Plugin optimizer for device_type GPU is enabled.\n",
      "2022-02-05 21:26:51.407604: I tensorflow/core/grappler/optimizers/custom_graph_optimizer_registry.cc:112] Plugin optimizer for device_type GPU is enabled.\n",
      "2022-02-05 21:26:51.848259: I tensorflow/core/grappler/optimizers/custom_graph_optimizer_registry.cc:112] Plugin optimizer for device_type GPU is enabled.\n",
      "2022-02-05 21:26:52.274998: I tensorflow/core/grappler/optimizers/custom_graph_optimizer_registry.cc:112] Plugin optimizer for device_type GPU is enabled.\n",
      "2022-02-05 21:26:52.688010: I tensorflow/core/grappler/optimizers/custom_graph_optimizer_registry.cc:112] Plugin optimizer for device_type GPU is enabled.\n",
      "2022-02-05 21:26:53.105389: I tensorflow/core/grappler/optimizers/custom_graph_optimizer_registry.cc:112] Plugin optimizer for device_type GPU is enabled.\n",
      "2022-02-05 21:26:53.502022: I tensorflow/core/grappler/optimizers/custom_graph_optimizer_registry.cc:112] Plugin optimizer for device_type GPU is enabled.\n",
      "2022-02-05 21:26:53.913511: I tensorflow/core/grappler/optimizers/custom_graph_optimizer_registry.cc:112] Plugin optimizer for device_type GPU is enabled.\n",
      "2022-02-05 21:26:54.229357: I tensorflow/core/grappler/optimizers/custom_graph_optimizer_registry.cc:112] Plugin optimizer for device_type GPU is enabled.\n",
      "2022-02-05 21:26:54.661679: I tensorflow/core/grappler/optimizers/custom_graph_optimizer_registry.cc:112] Plugin optimizer for device_type GPU is enabled.\n",
      "2022-02-05 21:26:54.672353: I tensorflow/core/grappler/optimizers/custom_graph_optimizer_registry.cc:112] Plugin optimizer for device_type GPU is enabled.\n",
      "2022-02-05 21:26:55.467283: I tensorflow/core/grappler/optimizers/custom_graph_optimizer_registry.cc:112] Plugin optimizer for device_type GPU is enabled.\n",
      "2022-02-05 21:26:55.477681: I tensorflow/core/grappler/optimizers/custom_graph_optimizer_registry.cc:112] Plugin optimizer for device_type GPU is enabled.\n",
      "2022-02-05 21:26:56.490124: I tensorflow/core/grappler/optimizers/custom_graph_optimizer_registry.cc:112] Plugin optimizer for device_type GPU is enabled.\n",
      "2022-02-05 21:26:56.500498: I tensorflow/core/grappler/optimizers/custom_graph_optimizer_registry.cc:112] Plugin optimizer for device_type GPU is enabled.\n",
      "2022-02-05 21:26:57.422737: I tensorflow/core/grappler/optimizers/custom_graph_optimizer_registry.cc:112] Plugin optimizer for device_type GPU is enabled.\n",
      "2022-02-05 21:26:57.432807: I tensorflow/core/grappler/optimizers/custom_graph_optimizer_registry.cc:112] Plugin optimizer for device_type GPU is enabled.\n"
     ]
    },
    {
     "name": "stdout",
     "output_type": "stream",
     "text": [
      "Epoch 1/3\n"
     ]
    },
    {
     "name": "stderr",
     "output_type": "stream",
     "text": [
      "2022-02-05 21:26:58.942048: I tensorflow/core/grappler/optimizers/custom_graph_optimizer_registry.cc:112] Plugin optimizer for device_type GPU is enabled.\n"
     ]
    },
    {
     "name": "stdout",
     "output_type": "stream",
     "text": [
      "375/375 [==============================] - ETA: 0s - loss: 0.6034 - accuracy: 0.6161"
     ]
    },
    {
     "name": "stderr",
     "output_type": "stream",
     "text": [
      "2022-02-05 21:27:21.312415: I tensorflow/core/grappler/optimizers/custom_graph_optimizer_registry.cc:112] Plugin optimizer for device_type GPU is enabled.\n"
     ]
    },
    {
     "name": "stdout",
     "output_type": "stream",
     "text": [
      "375/375 [==============================] - 24s 60ms/step - loss: 0.6034 - accuracy: 0.6161 - val_loss: 0.5655 - val_accuracy: 0.7076\n",
      "Epoch 2/3\n",
      "375/375 [==============================] - 23s 60ms/step - loss: 0.5553 - accuracy: 0.7043 - val_loss: 0.5228 - val_accuracy: 0.7352\n",
      "Epoch 3/3\n",
      "375/375 [==============================] - 23s 60ms/step - loss: 0.4886 - accuracy: 0.7499 - val_loss: 0.4738 - val_accuracy: 0.7633\n"
     ]
    }
   ],
   "source": [
    "# define encoding_strategy\n",
    "transform_strategy = col.embeddings.models.BaseTransformStrategy(features=feature_selection, \n",
    "                                                                 emb_size_strategy='single')\n",
    "\n",
    "# instantiate embeddings encoder\n",
    "encoder = col.embeddings.models.TFCatEmbsEncoder(transform_strategy)\n",
    "# instantiate classifier\n",
    "model = col.embeddings.models.TFCatEmbsClassifier(encoder)\n",
    "\n",
    "# build model based on training data (generate embeddings)\n",
    "model.adapt(ds_train)\n",
    "\n",
    "model.compile(optimizer='adam',\n",
    "               loss=tf.keras.losses.BinaryCrossentropy(from_logits=True),\n",
    "               metrics=[\"accuracy\"])\n",
    "\n",
    "# fit on training data, validate on test\n",
    "hist = model.fit(ds_train, epochs=3, validation_data=ds_test)\n"
   ]
  },
  {
   "cell_type": "code",
   "execution_count": 10,
   "id": "2a38b029-6cca-4e30-9f37-2869bf60ec36",
   "metadata": {},
   "outputs": [
    {
     "data": {
      "image/png": "[encoded data removed]",
      "text/plain": [
       "<Figure size 432x288 with 1 Axes>"
      ]
     },
     "metadata": {
      "needs_background": "light"
     },
     "output_type": "display_data"
    }
   ],
   "source": [
    "import matplotlib.pyplot as plt\n",
    "plt.plot(hist.history.get('val_accuracy'))\n",
    "plt.plot(hist.history.get('accuracy'))\n",
    "plt.show()"
   ]
  },
  {
   "cell_type": "markdown",
   "id": "3d6dbbe2-8916-4bb0-8ede-8a45bc5bc062",
   "metadata": {},
   "source": [
    "# Testing Wrapper Transformer"
   ]
  },
  {
   "cell_type": "code",
   "execution_count": 11,
   "id": "f4a594b3-b3c3-41bf-9ff9-41d50895bfcb",
   "metadata": {},
   "outputs": [
    {
     "name": "stderr",
     "output_type": "stream",
     "text": [
      "2022-02-05 21:28:49.390709: I tensorflow/core/grappler/optimizers/custom_graph_optimizer_registry.cc:112] Plugin optimizer for device_type GPU is enabled.\n",
      "2022-02-05 21:28:49.788548: I tensorflow/core/grappler/optimizers/custom_graph_optimizer_registry.cc:112] Plugin optimizer for device_type GPU is enabled.\n",
      "2022-02-05 21:28:50.181296: I tensorflow/core/grappler/optimizers/custom_graph_optimizer_registry.cc:112] Plugin optimizer for device_type GPU is enabled.\n",
      "2022-02-05 21:28:50.584912: I tensorflow/core/grappler/optimizers/custom_graph_optimizer_registry.cc:112] Plugin optimizer for device_type GPU is enabled.\n",
      "2022-02-05 21:28:50.977249: I tensorflow/core/grappler/optimizers/custom_graph_optimizer_registry.cc:112] Plugin optimizer for device_type GPU is enabled.\n",
      "2022-02-05 21:28:51.370130: I tensorflow/core/grappler/optimizers/custom_graph_optimizer_registry.cc:112] Plugin optimizer for device_type GPU is enabled.\n",
      "2022-02-05 21:28:51.758633: I tensorflow/core/grappler/optimizers/custom_graph_optimizer_registry.cc:112] Plugin optimizer for device_type GPU is enabled.\n",
      "2022-02-05 21:28:52.162312: I tensorflow/core/grappler/optimizers/custom_graph_optimizer_registry.cc:112] Plugin optimizer for device_type GPU is enabled.\n",
      "2022-02-05 21:28:52.556127: I tensorflow/core/grappler/optimizers/custom_graph_optimizer_registry.cc:112] Plugin optimizer for device_type GPU is enabled.\n",
      "2022-02-05 21:28:52.945211: I tensorflow/core/grappler/optimizers/custom_graph_optimizer_registry.cc:112] Plugin optimizer for device_type GPU is enabled.\n",
      "2022-02-05 21:28:53.334382: I tensorflow/core/grappler/optimizers/custom_graph_optimizer_registry.cc:112] Plugin optimizer for device_type GPU is enabled.\n",
      "2022-02-05 21:28:53.776234: I tensorflow/core/grappler/optimizers/custom_graph_optimizer_registry.cc:112] Plugin optimizer for device_type GPU is enabled.\n",
      "2022-02-05 21:28:54.195977: I tensorflow/core/grappler/optimizers/custom_graph_optimizer_registry.cc:112] Plugin optimizer for device_type GPU is enabled.\n",
      "2022-02-05 21:28:54.638790: I tensorflow/core/grappler/optimizers/custom_graph_optimizer_registry.cc:112] Plugin optimizer for device_type GPU is enabled.\n",
      "2022-02-05 21:28:55.059373: I tensorflow/core/grappler/optimizers/custom_graph_optimizer_registry.cc:112] Plugin optimizer for device_type GPU is enabled.\n",
      "2022-02-05 21:28:55.444567: I tensorflow/core/grappler/optimizers/custom_graph_optimizer_registry.cc:112] Plugin optimizer for device_type GPU is enabled.\n",
      "2022-02-05 21:28:55.747487: I tensorflow/core/grappler/optimizers/custom_graph_optimizer_registry.cc:112] Plugin optimizer for device_type GPU is enabled.\n",
      "2022-02-05 21:28:56.152879: I tensorflow/core/grappler/optimizers/custom_graph_optimizer_registry.cc:112] Plugin optimizer for device_type GPU is enabled.\n",
      "2022-02-05 21:28:56.163207: I tensorflow/core/grappler/optimizers/custom_graph_optimizer_registry.cc:112] Plugin optimizer for device_type GPU is enabled.\n",
      "2022-02-05 21:28:56.945141: I tensorflow/core/grappler/optimizers/custom_graph_optimizer_registry.cc:112] Plugin optimizer for device_type GPU is enabled.\n",
      "2022-02-05 21:28:56.955269: I tensorflow/core/grappler/optimizers/custom_graph_optimizer_registry.cc:112] Plugin optimizer for device_type GPU is enabled.\n",
      "2022-02-05 21:28:57.862341: I tensorflow/core/grappler/optimizers/custom_graph_optimizer_registry.cc:112] Plugin optimizer for device_type GPU is enabled.\n",
      "2022-02-05 21:28:57.872703: I tensorflow/core/grappler/optimizers/custom_graph_optimizer_registry.cc:112] Plugin optimizer for device_type GPU is enabled.\n",
      "2022-02-05 21:28:58.781233: I tensorflow/core/grappler/optimizers/custom_graph_optimizer_registry.cc:112] Plugin optimizer for device_type GPU is enabled.\n",
      "2022-02-05 21:28:58.791383: I tensorflow/core/grappler/optimizers/custom_graph_optimizer_registry.cc:112] Plugin optimizer for device_type GPU is enabled.\n"
     ]
    },
    {
     "name": "stdout",
     "output_type": "stream",
     "text": [
      "Epoch 1/3\n"
     ]
    },
    {
     "name": "stderr",
     "output_type": "stream",
     "text": [
      "2022-02-05 21:29:00.285540: I tensorflow/core/grappler/optimizers/custom_graph_optimizer_registry.cc:112] Plugin optimizer for device_type GPU is enabled.\n"
     ]
    },
    {
     "name": "stdout",
     "output_type": "stream",
     "text": [
      "375/375 [==============================] - 25s 65ms/step - loss: 0.5961 - accuracy: 0.6125\n",
      "Epoch 2/3\n",
      "375/375 [==============================] - 24s 65ms/step - loss: 0.5423 - accuracy: 0.7164\n",
      "Epoch 3/3\n",
      "375/375 [==============================] - 24s 65ms/step - loss: 0.4701 - accuracy: 0.7696\n"
     ]
    },
    {
     "name": "stderr",
     "output_type": "stream",
     "text": [
      "2022-02-05 21:30:14.134096: I tensorflow/core/grappler/optimizers/custom_graph_optimizer_registry.cc:112] Plugin optimizer for device_type GPU is enabled.\n"
     ]
    }
   ],
   "source": [
    "transformer = col.embeddings.wrapper.TFEmbeddingWrapper(features=feature_selection, \n",
    "                                                        emb_size_strategy='single')\n",
    "transformer.fit(X_train, y_train, epochs=3);"
   ]
  },
  {
   "cell_type": "code",
   "execution_count": 14,
   "id": "69b4a60d-9aad-4b5e-97cf-38e8c813286a",
   "metadata": {},
   "outputs": [
    {
     "name": "stderr",
     "output_type": "stream",
     "text": [
      "2022-02-05 19:45:41.296655: I tensorflow/core/grappler/optimizers/custom_graph_optimizer_registry.cc:112] Plugin optimizer for device_type GPU is enabled.\n"
     ]
    }
   ],
   "source": [
    "X_train_ = transformer.transform(X_train)\n",
    "X_test_ = transformer.transform(X_test)"
   ]
  },
  {
   "cell_type": "code",
   "execution_count": 145,
   "id": "f6b3b4c3-ab61-452f-a16b-264073c3e8cc",
   "metadata": {},
   "outputs": [
    {
     "data": {
      "text/plain": [
       "\u001b[0;31mInit signature:\u001b[0m\n",
       "\u001b[0mcol\u001b[0m\u001b[0;34m.\u001b[0m\u001b[0membeddings\u001b[0m\u001b[0;34m.\u001b[0m\u001b[0mwrapper\u001b[0m\u001b[0;34m.\u001b[0m\u001b[0mTFEmbeddingWrapper\u001b[0m\u001b[0;34m(\u001b[0m\u001b[0;34m\u001b[0m\n",
       "\u001b[0;34m\u001b[0m    \u001b[0mfeatures\u001b[0m\u001b[0;34m:\u001b[0m \u001b[0mcolumnar\u001b[0m\u001b[0;34m.\u001b[0m\u001b[0mfeature_selection\u001b[0m\u001b[0;34m.\u001b[0m\u001b[0mFeatureSelection\u001b[0m\u001b[0;34m,\u001b[0m\u001b[0;34m\u001b[0m\n",
       "\u001b[0;34m\u001b[0m    \u001b[0memb_size_strategy\u001b[0m\u001b[0;34m:\u001b[0m \u001b[0mtyping\u001b[0m\u001b[0;34m.\u001b[0m\u001b[0mAnnotated\u001b[0m\u001b[0;34m[\u001b[0m\u001b[0mstr\u001b[0m\u001b[0;34m,\u001b[0m \u001b[0;34m'strategy to define the embedding size, given a categorical features cardinality'\u001b[0m\u001b[0;34m]\u001b[0m\u001b[0;34m,\u001b[0m\u001b[0;34m\u001b[0m\n",
       "\u001b[0;34m\u001b[0m\u001b[0;34m)\u001b[0m\u001b[0;34m\u001b[0m\u001b[0;34m\u001b[0m\u001b[0m\n",
       "\u001b[0;31mDocstring:\u001b[0m     \n",
       "Allows to transform categorical features into embeddings, \n",
       "after fitting a simple neural network on the dataset.\n",
       "Note: at fitting time, numerical features are normalized for the sake \n",
       "of generating quality embeddings, but at transform time, numerical\n",
       "features are passed through. \n",
       "\u001b[0;31mFile:\u001b[0m           ~/projects/mtePlus/src/columnar/embeddings/wrapper.py\n",
       "\u001b[0;31mType:\u001b[0m           type\n",
       "\u001b[0;31mSubclasses:\u001b[0m     \n"
      ]
     },
     "metadata": {},
     "output_type": "display_data"
    }
   ],
   "source": [
    "loader = col.DataLoader('titanic', '../')\n",
    "df = loader.load_data()\n",
    "features = col.FeatureSelection(**loader.get_selected_features())\n",
    "col.embeddings.wrapper.TFEmbeddingWrapper()"
   ]
  },
  {
   "cell_type": "code",
   "execution_count": 15,
   "id": "7f8c8ed3-a0d8-4583-8f49-7337e987d4ed",
   "metadata": {},
   "outputs": [
    {
     "data": {
      "text/plain": [
       "{'acc': 1.0, 'f1': 1.0, 'auc': 1.0}"
      ]
     },
     "execution_count": 15,
     "metadata": {},
     "output_type": "execute_result"
    }
   ],
   "source": [
    "from sklearn import metrics\n",
    "\n",
    "scorer = col.Scorer(\n",
    "        acc=lambda x, y: metrics.accuracy_score(x,y>.5),\n",
    "        f1=lambda x, y: metrics.f1_score(x,y>.5),\n",
    "        auc=metrics.roc_auc_score,\n",
    "    )\n",
    "\n",
    "scorer.score(y_test, y_test)"
   ]
  },
  {
   "cell_type": "markdown",
   "id": "e8b8cd19-5702-4ce9-bad6-1dcea5b2ab44",
   "metadata": {
    "tags": []
   },
   "source": [
    "# compare all classifiers on transformer's output"
   ]
  },
  {
   "cell_type": "code",
   "execution_count": 14,
   "id": "92a6ea2c-30c5-486e-92b5-2e69284b9533",
   "metadata": {},
   "outputs": [
    {
     "data": {
      "text/plain": [
       "'petfinder'"
      ]
     },
     "execution_count": 14,
     "metadata": {},
     "output_type": "execute_result"
    }
   ],
   "source": [
    "from collections import namedtuple\n",
    "Args = namedtuple(\"Args\", [\"task\"])\n",
    "\n",
    "args = Args(task='petfinder')\n",
    "args.task"
   ]
  },
  {
   "cell_type": "code",
   "execution_count": 29,
   "id": "eb0f2ab7-c352-45b2-a2eb-496ec7838d14",
   "metadata": {},
   "outputs": [
    {
     "name": "stderr",
     "output_type": "stream",
     "text": [
      "2022-02-06 15:23:10.064082: W tensorflow/core/platform/profile_utils/cpu_utils.cc:128] Failed to get CPU frequency: 0 Hz\n",
      "2022-02-06 15:23:10.095099: I tensorflow/core/grappler/optimizers/custom_graph_optimizer_registry.cc:112] Plugin optimizer for device_type GPU is enabled.\n",
      "2022-02-06 15:23:10.500821: I tensorflow/core/grappler/optimizers/custom_graph_optimizer_registry.cc:112] Plugin optimizer for device_type GPU is enabled.\n",
      "2022-02-06 15:23:10.900501: I tensorflow/core/grappler/optimizers/custom_graph_optimizer_registry.cc:112] Plugin optimizer for device_type GPU is enabled.\n",
      "2022-02-06 15:23:11.299681: I tensorflow/core/grappler/optimizers/custom_graph_optimizer_registry.cc:112] Plugin optimizer for device_type GPU is enabled.\n",
      "2022-02-06 15:23:11.708315: I tensorflow/core/grappler/optimizers/custom_graph_optimizer_registry.cc:112] Plugin optimizer for device_type GPU is enabled.\n",
      "2022-02-06 15:23:12.112414: I tensorflow/core/grappler/optimizers/custom_graph_optimizer_registry.cc:112] Plugin optimizer for device_type GPU is enabled.\n",
      "2022-02-06 15:23:12.503166: I tensorflow/core/grappler/optimizers/custom_graph_optimizer_registry.cc:112] Plugin optimizer for device_type GPU is enabled.\n",
      "2022-02-06 15:23:12.901845: I tensorflow/core/grappler/optimizers/custom_graph_optimizer_registry.cc:112] Plugin optimizer for device_type GPU is enabled.\n",
      "2022-02-06 15:23:13.302332: I tensorflow/core/grappler/optimizers/custom_graph_optimizer_registry.cc:112] Plugin optimizer for device_type GPU is enabled.\n",
      "2022-02-06 15:23:13.702414: I tensorflow/core/grappler/optimizers/custom_graph_optimizer_registry.cc:112] Plugin optimizer for device_type GPU is enabled.\n",
      "2022-02-06 15:23:14.105066: I tensorflow/core/grappler/optimizers/custom_graph_optimizer_registry.cc:112] Plugin optimizer for device_type GPU is enabled.\n",
      "2022-02-06 15:23:14.504458: I tensorflow/core/grappler/optimizers/custom_graph_optimizer_registry.cc:112] Plugin optimizer for device_type GPU is enabled.\n",
      "2022-02-06 15:23:14.906875: I tensorflow/core/grappler/optimizers/custom_graph_optimizer_registry.cc:112] Plugin optimizer for device_type GPU is enabled.\n",
      "2022-02-06 15:23:15.306790: I tensorflow/core/grappler/optimizers/custom_graph_optimizer_registry.cc:112] Plugin optimizer for device_type GPU is enabled.\n",
      "2022-02-06 15:23:15.701456: I tensorflow/core/grappler/optimizers/custom_graph_optimizer_registry.cc:112] Plugin optimizer for device_type GPU is enabled.\n",
      "2022-02-06 15:23:16.104711: I tensorflow/core/grappler/optimizers/custom_graph_optimizer_registry.cc:112] Plugin optimizer for device_type GPU is enabled.\n",
      "2022-02-06 15:23:16.425371: I tensorflow/core/grappler/optimizers/custom_graph_optimizer_registry.cc:112] Plugin optimizer for device_type GPU is enabled.\n",
      "2022-02-06 15:23:16.845452: I tensorflow/core/grappler/optimizers/custom_graph_optimizer_registry.cc:112] Plugin optimizer for device_type GPU is enabled.\n",
      "2022-02-06 15:23:16.855671: I tensorflow/core/grappler/optimizers/custom_graph_optimizer_registry.cc:112] Plugin optimizer for device_type GPU is enabled.\n",
      "2022-02-06 15:23:17.660482: I tensorflow/core/grappler/optimizers/custom_graph_optimizer_registry.cc:112] Plugin optimizer for device_type GPU is enabled.\n",
      "2022-02-06 15:23:17.670762: I tensorflow/core/grappler/optimizers/custom_graph_optimizer_registry.cc:112] Plugin optimizer for device_type GPU is enabled.\n",
      "2022-02-06 15:23:18.595861: I tensorflow/core/grappler/optimizers/custom_graph_optimizer_registry.cc:112] Plugin optimizer for device_type GPU is enabled.\n",
      "2022-02-06 15:23:18.605954: I tensorflow/core/grappler/optimizers/custom_graph_optimizer_registry.cc:112] Plugin optimizer for device_type GPU is enabled.\n",
      "2022-02-06 15:23:19.526921: I tensorflow/core/grappler/optimizers/custom_graph_optimizer_registry.cc:112] Plugin optimizer for device_type GPU is enabled.\n",
      "2022-02-06 15:23:19.537224: I tensorflow/core/grappler/optimizers/custom_graph_optimizer_registry.cc:112] Plugin optimizer for device_type GPU is enabled.\n"
     ]
    },
    {
     "name": "stdout",
     "output_type": "stream",
     "text": [
      "Epoch 1/3\n"
     ]
    },
    {
     "name": "stderr",
     "output_type": "stream",
     "text": [
      "2022-02-06 15:23:21.038708: I tensorflow/core/grappler/optimizers/custom_graph_optimizer_registry.cc:112] Plugin optimizer for device_type GPU is enabled.\n"
     ]
    },
    {
     "name": "stdout",
     "output_type": "stream",
     "text": [
      "375/375 [==============================] - 22s 57ms/step - loss: 0.6076 - accuracy: 0.5849\n",
      "Epoch 2/3\n",
      "375/375 [==============================] - 22s 58ms/step - loss: 0.5573 - accuracy: 0.7015\n",
      "Epoch 3/3\n",
      "375/375 [==============================] - 22s 57ms/step - loss: 0.4788 - accuracy: 0.7552\n"
     ]
    },
    {
     "data": {
      "text/plain": [
       "TFEmbeddingWrapper(emb_size_strategy=single)"
      ]
     },
     "execution_count": 29,
     "metadata": {},
     "output_type": "execute_result"
    }
   ],
   "source": [
    "wrapper = col.embeddings.wrapper.TFEmbeddingWrapper(feature_selection, emb_size_strategy='single')\n",
    "wrapper.fit(X_train, y_train)"
   ]
  },
  {
   "cell_type": "code",
   "execution_count": 32,
   "id": "438f86c1-4831-4472-8af6-e26c76bf2e60",
   "metadata": {},
   "outputs": [
    {
     "name": "stderr",
     "output_type": "stream",
     "text": [
      "2022-02-06 15:26:03.154699: I tensorflow/core/grappler/optimizers/custom_graph_optimizer_registry.cc:112] Plugin optimizer for device_type GPU is enabled.\n"
     ]
    },
    {
     "data": {
      "text/plain": [
       "{'acc': 0.8242747582527509,\n",
       " 'f1': 0.8807422493776874,\n",
       " 'auc': 0.8747022776609572}"
      ]
     },
     "execution_count": 32,
     "metadata": {},
     "output_type": "execute_result"
    }
   ],
   "source": [
    "preds = wrapper.model.predict(ds_test)\n",
    "scorer.score(y_test, preds)\n"
   ]
  },
  {
   "cell_type": "markdown",
   "id": "73598e61-3e09-406a-a85c-7a1064b49dff",
   "metadata": {},
   "source": [
    "TO DOS:\n",
    "- score wrapper independently\n",
    "- score TF classifier independently\n",
    "- compare with results"
   ]
  },
  {
   "cell_type": "code",
   "execution_count": 78,
   "id": "ea2df86f-bb6a-47ec-92f6-4c9186064e80",
   "metadata": {},
   "outputs": [
    {
     "name": "stderr",
     "output_type": "stream",
     "text": [
      "2022-02-05 23:58:11.776462: I tensorflow/core/grappler/optimizers/custom_graph_optimizer_registry.cc:112] Plugin optimizer for device_type GPU is enabled.\n"
     ]
    },
    {
     "data": {
      "text/plain": [
       "(2999, 1)"
      ]
     },
     "execution_count": 78,
     "metadata": {},
     "output_type": "execute_result"
    }
   ],
   "source": [
    "preds = model.model.predict(col.embeddings.data.df_to_dataset(X_test))\n",
    "preds.shape"
   ]
  },
  {
   "cell_type": "code",
   "execution_count": 69,
   "id": "abbd2845-a4e6-46c1-a5ca-5255ec6968ac",
   "metadata": {},
   "outputs": [
    {
     "name": "stderr",
     "output_type": "stream",
     "text": [
      "/Users/spayot/miniforge3/lib/python3.9/site-packages/pandas/core/indexing.py:1732: SettingWithCopyWarning: \n",
      "A value is trying to be set on a copy of a slice from a DataFrame\n",
      "\n",
      "See the caveats in the documentation: https://pandas.pydata.org/pandas-docs/stable/user_guide/indexing.html#returning-a-view-versus-a-copy\n",
      "  self._setitem_single_block(indexer, value, name)\n"
     ]
    }
   ],
   "source": [
    "reporter.report.transformer.iloc[8:12] = 'TransformStrategy_OrdinalEncoder()'"
   ]
  },
  {
   "cell_type": "code",
   "execution_count": 66,
   "id": "d5769805-e06d-4412-92e6-27fac29422cf",
   "metadata": {},
   "outputs": [
    {
     "data": {
      "text/html": [
       "<div>\n",
       "<style scoped>\n",
       "    .dataframe tbody tr th:only-of-type {\n",
       "        vertical-align: middle;\n",
       "    }\n",
       "\n",
       "    .dataframe tbody tr th {\n",
       "        vertical-align: top;\n",
       "    }\n",
       "\n",
       "    .dataframe thead th {\n",
       "        text-align: right;\n",
       "    }\n",
       "</style>\n",
       "<table border=\"1\" class=\"dataframe\">\n",
       "  <thead>\n",
       "    <tr style=\"text-align: right;\">\n",
       "      <th>transformer</th>\n",
       "      <th>MeanTargetEncoder(target=target, alpha=5)</th>\n",
       "      <th>TFEmbeddingWrapper()</th>\n",
       "      <th>TransformStrategy_OneHotEncoder(handle_unknown='ignore')()</th>\n",
       "      <th>TransformStrategy_OrdinalEncoder()</th>\n",
       "      <th>TransformStrategy_OrdinalEncoder(handle_unknown='use_encoded_value', unknown_value=-1)()</th>\n",
       "    </tr>\n",
       "    <tr>\n",
       "      <th>model</th>\n",
       "      <th></th>\n",
       "      <th></th>\n",
       "      <th></th>\n",
       "      <th></th>\n",
       "      <th></th>\n",
       "    </tr>\n",
       "  </thead>\n",
       "  <tbody>\n",
       "    <tr>\n",
       "      <th>KNeighborsClassifier(n_neighbors=10)</th>\n",
       "      <td>0.007418</td>\n",
       "      <td>0.012527</td>\n",
       "      <td>0.011174</td>\n",
       "      <td>NaN</td>\n",
       "      <td>0.009861</td>\n",
       "    </tr>\n",
       "    <tr>\n",
       "      <th>LGBMClassifier()</th>\n",
       "      <td>0.006733</td>\n",
       "      <td>0.005988</td>\n",
       "      <td>0.008376</td>\n",
       "      <td>0.007369</td>\n",
       "      <td>NaN</td>\n",
       "    </tr>\n",
       "    <tr>\n",
       "      <th>LogisticRegression(max_iter=500)</th>\n",
       "      <td>0.008298</td>\n",
       "      <td>0.006983</td>\n",
       "      <td>0.002123</td>\n",
       "      <td>NaN</td>\n",
       "      <td>0.007956</td>\n",
       "    </tr>\n",
       "    <tr>\n",
       "      <th>RandomForestClassifier(max_depth=5)</th>\n",
       "      <td>0.008696</td>\n",
       "      <td>0.006997</td>\n",
       "      <td>0.007741</td>\n",
       "      <td>NaN</td>\n",
       "      <td>0.008987</td>\n",
       "    </tr>\n",
       "  </tbody>\n",
       "</table>\n",
       "</div>"
      ],
      "text/plain": [
       "transformer                           MeanTargetEncoder(target=target, alpha=5)  \\\n",
       "model                                                                             \n",
       "KNeighborsClassifier(n_neighbors=10)                                   0.007418   \n",
       "LGBMClassifier()                                                       0.006733   \n",
       "LogisticRegression(max_iter=500)                                       0.008298   \n",
       "RandomForestClassifier(max_depth=5)                                    0.008696   \n",
       "\n",
       "transformer                           TFEmbeddingWrapper()  \\\n",
       "model                                                        \n",
       "KNeighborsClassifier(n_neighbors=10)              0.012527   \n",
       "LGBMClassifier()                                  0.005988   \n",
       "LogisticRegression(max_iter=500)                  0.006983   \n",
       "RandomForestClassifier(max_depth=5)               0.006997   \n",
       "\n",
       "transformer                           TransformStrategy_OneHotEncoder(handle_unknown='ignore')()  \\\n",
       "model                                                                                              \n",
       "KNeighborsClassifier(n_neighbors=10)                                           0.011174            \n",
       "LGBMClassifier()                                                               0.008376            \n",
       "LogisticRegression(max_iter=500)                                               0.002123            \n",
       "RandomForestClassifier(max_depth=5)                                            0.007741            \n",
       "\n",
       "transformer                           TransformStrategy_OrdinalEncoder()  \\\n",
       "model                                                                      \n",
       "KNeighborsClassifier(n_neighbors=10)                                 NaN   \n",
       "LGBMClassifier()                                                0.007369   \n",
       "LogisticRegression(max_iter=500)                                     NaN   \n",
       "RandomForestClassifier(max_depth=5)                                  NaN   \n",
       "\n",
       "transformer                           TransformStrategy_OrdinalEncoder(handle_unknown='use_encoded_value', unknown_value=-1)()  \n",
       "model                                                                                                                           \n",
       "KNeighborsClassifier(n_neighbors=10)                                           0.009861                                         \n",
       "LGBMClassifier()                                                                    NaN                                         \n",
       "LogisticRegression(max_iter=500)                                               0.007956                                         \n",
       "RandomForestClassifier(max_depth=5)                                            0.008987                                         "
      ]
     },
     "execution_count": 66,
     "metadata": {},
     "output_type": "execute_result"
    }
   ],
   "source": [
    "a = pd.pivot(reporter.report, index='model', columns='transformer', values='acc-std')\n",
    "a\n",
    "# col.plot._clean_index_column_names(a)"
   ]
  },
  {
   "cell_type": "code",
   "execution_count": 40,
   "id": "05b9d5cb-11aa-46ab-851b-742f1b487301",
   "metadata": {},
   "outputs": [
    {
     "data": {
      "text/plain": [
       "[('a', 'd'), ('a', 'e'), ('b', 'd'), ('b', 'e'), ('c', 'd'), ('c', 'e')]"
      ]
     },
     "execution_count": 40,
     "metadata": {},
     "output_type": "execute_result"
    }
   ],
   "source": [
    "from itertools import product\n",
    "list(product(list('abc'), list('de')))\n"
   ]
  },
  {
   "cell_type": "code",
   "execution_count": 24,
   "id": "9cc63428-4aaf-42f3-b565-bf600031b6bd",
   "metadata": {},
   "outputs": [],
   "source": [
    "pipe = col.CategoricalPipeline(features=feature_selection,\n",
    "                               transformer=transformer,\n",
    "                               scaler=None,\n",
    "                               model=RandomForestClassifier(max_depth=5))"
   ]
  },
  {
   "cell_type": "code",
   "execution_count": null,
   "id": "7c117782-a9ac-4bde-bbf0-43443d52ee8b",
   "metadata": {},
   "outputs": [],
   "source": []
  },
  {
   "cell_type": "code",
   "execution_count": null,
   "id": "ae4de704-1fb1-4984-8376-7130c4ebbf41",
   "metadata": {},
   "outputs": [
    {
     "name": "stderr",
     "output_type": "stream",
     "text": [
      "2022-02-05 20:08:22.811143: I tensorflow/core/grappler/optimizers/custom_graph_optimizer_registry.cc:112] Plugin optimizer for device_type GPU is enabled.\n",
      "2022-02-05 20:08:22.947026: I tensorflow/core/grappler/optimizers/custom_graph_optimizer_registry.cc:112] Plugin optimizer for device_type GPU is enabled.\n",
      "2022-02-05 20:08:23.081041: I tensorflow/core/grappler/optimizers/custom_graph_optimizer_registry.cc:112] Plugin optimizer for device_type GPU is enabled.\n",
      "2022-02-05 20:08:23.205140: I tensorflow/core/grappler/optimizers/custom_graph_optimizer_registry.cc:112] Plugin optimizer for device_type GPU is enabled.\n",
      "2022-02-05 20:08:23.331691: I tensorflow/core/grappler/optimizers/custom_graph_optimizer_registry.cc:112] Plugin optimizer for device_type GPU is enabled.\n",
      "2022-02-05 20:08:23.448462: I tensorflow/core/grappler/optimizers/custom_graph_optimizer_registry.cc:112] Plugin optimizer for device_type GPU is enabled.\n",
      "2022-02-05 20:08:23.567566: I tensorflow/core/grappler/optimizers/custom_graph_optimizer_registry.cc:112] Plugin optimizer for device_type GPU is enabled.\n",
      "2022-02-05 20:08:23.685192: I tensorflow/core/grappler/optimizers/custom_graph_optimizer_registry.cc:112] Plugin optimizer for device_type GPU is enabled.\n",
      "2022-02-05 20:08:23.807960: I tensorflow/core/grappler/optimizers/custom_graph_optimizer_registry.cc:112] Plugin optimizer for device_type GPU is enabled.\n",
      "2022-02-05 20:08:23.927509: I tensorflow/core/grappler/optimizers/custom_graph_optimizer_registry.cc:112] Plugin optimizer for device_type GPU is enabled.\n",
      "2022-02-05 20:08:24.047606: I tensorflow/core/grappler/optimizers/custom_graph_optimizer_registry.cc:112] Plugin optimizer for device_type GPU is enabled.\n",
      "2022-02-05 20:08:24.170263: I tensorflow/core/grappler/optimizers/custom_graph_optimizer_registry.cc:112] Plugin optimizer for device_type GPU is enabled.\n",
      "2022-02-05 20:08:24.294491: I tensorflow/core/grappler/optimizers/custom_graph_optimizer_registry.cc:112] Plugin optimizer for device_type GPU is enabled.\n",
      "2022-02-05 20:08:24.410695: I tensorflow/core/grappler/optimizers/custom_graph_optimizer_registry.cc:112] Plugin optimizer for device_type GPU is enabled.\n",
      "2022-02-05 20:08:24.533514: I tensorflow/core/grappler/optimizers/custom_graph_optimizer_registry.cc:112] Plugin optimizer for device_type GPU is enabled.\n",
      "2022-02-05 20:08:24.653199: I tensorflow/core/grappler/optimizers/custom_graph_optimizer_registry.cc:112] Plugin optimizer for device_type GPU is enabled.\n",
      "2022-02-05 20:08:24.751504: I tensorflow/core/grappler/optimizers/custom_graph_optimizer_registry.cc:112] Plugin optimizer for device_type GPU is enabled.\n"
     ]
    },
    {
     "name": "stdout",
     "output_type": "stream",
     "text": [
      "Epoch 1/3\n"
     ]
    },
    {
     "name": "stderr",
     "output_type": "stream",
     "text": [
      "2022-02-05 20:08:26.328743: I tensorflow/core/grappler/optimizers/custom_graph_optimizer_registry.cc:112] Plugin optimizer for device_type GPU is enabled.\n"
     ]
    },
    {
     "name": "stdout",
     "output_type": "stream",
     "text": [
      "94/94 [==============================] - 8s 70ms/step - loss: 0.5792 - accuracy: 0.6669\n",
      "Epoch 2/3\n",
      "94/94 [==============================] - 6s 69ms/step - loss: 0.5420 - accuracy: 0.7259\n",
      "Epoch 3/3\n",
      "94/94 [==============================] - 6s 69ms/step - loss: 0.5163 - accuracy: 0.7396\n"
     ]
    }
   ],
   "source": [
    "pipe.fit(df_test)"
   ]
  },
  {
   "cell_type": "code",
   "execution_count": 1,
   "id": "11651cd0-1f1b-430d-af3d-ac9d6bcb7670",
   "metadata": {},
   "outputs": [
    {
     "ename": "NameError",
     "evalue": "name 'pipe' is not defined",
     "output_type": "error",
     "traceback": [
      "\u001b[0;31m---------------------------------------------------------------------------\u001b[0m",
      "\u001b[0;31mNameError\u001b[0m                                 Traceback (most recent call last)",
      "\u001b[0;32m/var/folders/ds/s6rqbzwj33q811h82fdmj_6w0000gn/T/ipykernel_57591/969901715.py\u001b[0m in \u001b[0;36m<module>\u001b[0;34m\u001b[0m\n\u001b[0;32m----> 1\u001b[0;31m \u001b[0my_preds\u001b[0m \u001b[0;34m=\u001b[0m \u001b[0mpipe\u001b[0m\u001b[0;34m.\u001b[0m\u001b[0mpredict\u001b[0m\u001b[0;34m(\u001b[0m\u001b[0mdf_train\u001b[0m\u001b[0;34m)\u001b[0m\u001b[0;34m\u001b[0m\u001b[0;34m\u001b[0m\u001b[0m\n\u001b[0m\u001b[1;32m      2\u001b[0m \u001b[0mscorer\u001b[0m\u001b[0;34m.\u001b[0m\u001b[0mscore\u001b[0m\u001b[0;34m(\u001b[0m\u001b[0my_train\u001b[0m\u001b[0;34m,\u001b[0m \u001b[0my_preds\u001b[0m\u001b[0;34m)\u001b[0m\u001b[0;34m\u001b[0m\u001b[0;34m\u001b[0m\u001b[0m\n",
      "\u001b[0;31mNameError\u001b[0m: name 'pipe' is not defined"
     ]
    }
   ],
   "source": [
    "y_preds = pipe.predict(df_train)\n",
    "scorer.score(y_train, y_preds)"
   ]
  },
  {
   "cell_type": "code",
   "execution_count": null,
   "id": "1a70a77a-bb7a-41b9-8f4b-f3fa11e0f8ac",
   "metadata": {},
   "outputs": [],
   "source": [
    "scorer = col.Scorer(\n",
    "    acc=lambda ytrue, ypreds: metrics.accuracy_score(ytrue, ypreds > .5),\n",
    "    f1=lambda ytrue, ypreds: metrics.f1_score(ytrue, ypreds > .5),\n",
    "    auc=metrics.roc_auc_score,\n",
    ")\n",
    "\n",
    "scorer.score(y_test, y_preds)\n",
    "\n"
   ]
  },
  {
   "cell_type": "code",
   "execution_count": 15,
   "id": "a74c214e-2057-494f-9b23-eaa464804fbc",
   "metadata": {},
   "outputs": [
    {
     "data": {
      "text/plain": [
       "(11994, 21)"
      ]
     },
     "execution_count": 15,
     "metadata": {},
     "output_type": "execute_result"
    }
   ],
   "source": [
    "for model"
   ]
  },
  {
   "cell_type": "code",
   "execution_count": 29,
   "id": "64093041-6f6b-4ef1-91a8-d230d01dd1e1",
   "metadata": {},
   "outputs": [
    {
     "data": {
      "text/plain": [
       "0.7125708569523175"
      ]
     },
     "execution_count": 29,
     "metadata": {},
     "output_type": "execute_result"
    }
   ],
   "source": [
    "from lightgbm import LGBMClassifier\n",
    "lgbm = LGBMClassifier()\n",
    "lgbm.fit(X_train_, y_train)\n",
    "\n",
    "X_test, y_test = feature_selection.select_features(df_test)\n",
    "X_test_ = transformer.transform(X_test)\n",
    "lgbm.score(X_test_, y_test)"
   ]
  },
  {
   "cell_type": "code",
   "execution_count": 31,
   "id": "463b2f9f-ddc8-4c5d-9ab2-ad40060d1aaf",
   "metadata": {},
   "outputs": [
    {
     "name": "stderr",
     "output_type": "stream",
     "text": [
      "/Users/spayot/miniforge3/lib/python3.9/site-packages/sklearn/linear_model/_logistic.py:814: ConvergenceWarning: lbfgs failed to converge (status=1):\n",
      "STOP: TOTAL NO. of ITERATIONS REACHED LIMIT.\n",
      "\n",
      "Increase the number of iterations (max_iter) or scale the data as shown in:\n",
      "    https://scikit-learn.org/stable/modules/preprocessing.html\n",
      "Please also refer to the documentation for alternative solver options:\n",
      "    https://scikit-learn.org/stable/modules/linear_model.html#logistic-regression\n",
      "  n_iter_i = _check_optimize_result(\n"
     ]
    },
    {
     "data": {
      "text/plain": [
       "0.7105701900633544"
      ]
     },
     "execution_count": 31,
     "metadata": {},
     "output_type": "execute_result"
    }
   ],
   "source": [
    "from sklearn.linear_model import LogisticRegression\n",
    "\n",
    "clf = LogisticRegression()\n",
    "clf.fit(X_train_, y_train)\n",
    "clf.score(X_test_, y_test)"
   ]
  },
  {
   "cell_type": "code",
   "execution_count": 36,
   "id": "49caa382-29b1-4288-90f1-cfb2362366a5",
   "metadata": {},
   "outputs": [],
   "source": [
    "from typing import Annotated\n",
    "FeatureTransformStrategy = Annotated[dict[col.feature_selection.DatasetColumn, layers.Layer], \n",
    "                                     \"a dictionary defining the type of transformation to apply to each column\"]"
   ]
  },
  {
   "cell_type": "code",
   "execution_count": null,
   "id": "efc1ca06-7b27-4df2-b84b-650943aace0c",
   "metadata": {},
   "outputs": [],
   "source": []
  },
  {
   "cell_type": "code",
   "execution_count": 38,
   "id": "89093bd1-0305-4f2d-aeac-26a80b141e7d",
   "metadata": {},
   "outputs": [],
   "source": [
    "y_preds = model.predict(ds_test)"
   ]
  },
  {
   "cell_type": "code",
   "execution_count": 40,
   "id": "4cbc32fc-65a2-4f5f-a7ab-d7006fe79578",
   "metadata": {},
   "outputs": [
    {
     "data": {
      "text/plain": [
       "{'acc': 0.7325775258419474,\n",
       " 'f1': 0.7951991828396322,\n",
       " 'auc': 0.8213130383875554}"
      ]
     },
     "execution_count": 40,
     "metadata": {},
     "output_type": "execute_result"
    }
   ],
   "source": [
    "from sklearn import metrics\n",
    "\n",
    "scorer = col.Scorer(\n",
    "    acc=lambda ytrue, ypreds: metrics.accuracy_score(ytrue, ypreds > .5),\n",
    "    f1=lambda ytrue, ypreds: metrics.f1_score(ytrue, ypreds > .5),\n",
    "    auc=metrics.roc_auc_score,\n",
    ")\n",
    "\n",
    "scorer.score(y_test, y_preds)"
   ]
  },
  {
   "cell_type": "code",
   "execution_count": 45,
   "id": "851a3e36-edce-4051-bff1-fbbebcd00c9a",
   "metadata": {},
   "outputs": [
    {
     "data": {
      "text/plain": [
       "{'acc': 0.7249083027675892, 'f1': 0.8405180746182099, 'auc': 0.5}"
      ]
     },
     "execution_count": 45,
     "metadata": {},
     "output_type": "execute_result"
    }
   ],
   "source": [
    "# majority class baseline\n",
    "scorer.score(y_test, np.ones(len(y_test)))"
   ]
  },
  {
   "cell_type": "code",
   "execution_count": 54,
   "id": "b5abc7e3-4891-4594-a46b-55835180982a",
   "metadata": {},
   "outputs": [
    {
     "data": {
      "text/plain": [
       "FeatureTransformStrategy(name='base', _encoding_layers={'c': 'bv'})"
      ]
     },
     "execution_count": 54,
     "metadata": {},
     "output_type": "execute_result"
    }
   ],
   "source": [
    "a = FeatureTransformStrategy('base', dict(c='bv'))\n",
    "a"
   ]
  },
  {
   "cell_type": "code",
   "execution_count": 43,
   "id": "910048e4-77de-45db-9056-9967a4ed57e2",
   "metadata": {},
   "outputs": [
    {
     "name": "stdout",
     "output_type": "stream",
     "text": [
      "Metal device set to: Apple M1 Pro\n"
     ]
    },
    {
     "name": "stderr",
     "output_type": "stream",
     "text": [
      "2022-02-05 11:29:21.204761: I tensorflow/core/common_runtime/pluggable_device/pluggable_device_factory.cc:305] Could not identify NUMA node of platform GPU ID 0, defaulting to 0. Your kernel may not have been built with NUMA support.\n",
      "2022-02-05 11:29:21.204871: I tensorflow/core/common_runtime/pluggable_device/pluggable_device_factory.cc:271] Created TensorFlow device (/job:localhost/replica:0/task:0/device:GPU:0 with 0 MB memory) -> physical PluggableDevice (device: 0, name: METAL, pci bus id: <undefined>)\n"
     ]
    }
   ],
   "source": [
    "encoder = col.embeddings.models.TFCatEmbsEncoder(base_strategy)"
   ]
  },
  {
   "cell_type": "code",
   "execution_count": 44,
   "id": "b254e774-3d99-4930-bb15-9d3f6a2ca830",
   "metadata": {},
   "outputs": [
    {
     "data": {
      "text/plain": [
       "TFCatEmbsEncoder(strategy=BaseTransformStrategy(name='base_strategy', emb_size_strategy='single'))"
      ]
     },
     "execution_count": 44,
     "metadata": {},
     "output_type": "execute_result"
    }
   ],
   "source": [
    "encoder"
   ]
  },
  {
   "cell_type": "code",
   "execution_count": 45,
   "id": "fda7cc80-5ee7-48e2-b2a3-abe56b47edfb",
   "metadata": {},
   "outputs": [],
   "source": [
    "model = col.embeddings.models.TFCatEmbsClassifier(encoder=encoder)"
   ]
  },
  {
   "cell_type": "code",
   "execution_count": 46,
   "id": "e3658b2a-606a-4746-b7bc-dac004fdd46d",
   "metadata": {},
   "outputs": [
    {
     "name": "stderr",
     "output_type": "stream",
     "text": [
      "[autoreload of columnar.embeddings.wrapper failed: Traceback (most recent call last):\n",
      "  File \"/Users/spayot/miniforge3/lib/python3.9/site-packages/IPython/extensions/autoreload.py\", line 245, in check\n",
      "    superreload(m, reload, self.old_objects)\n",
      "  File \"/Users/spayot/miniforge3/lib/python3.9/site-packages/IPython/extensions/autoreload.py\", line 394, in superreload\n",
      "    module = reload(module)\n",
      "  File \"/Users/spayot/miniforge3/lib/python3.9/imp.py\", line 314, in reload\n",
      "    return importlib.reload(module)\n",
      "  File \"/Users/spayot/miniforge3/lib/python3.9/importlib/__init__.py\", line 169, in reload\n",
      "    _bootstrap._exec(spec, module)\n",
      "  File \"<frozen importlib._bootstrap>\", line 613, in _exec\n",
      "  File \"<frozen importlib._bootstrap_external>\", line 850, in exec_module\n",
      "  File \"<frozen importlib._bootstrap>\", line 228, in _call_with_frames_removed\n",
      "  File \"/Users/spayot/projects/mtePlus/notebooks/../src/columnar/embeddings/wrapper.py\", line 18, in <module>\n",
      "    from .models import TFCatEmbsClassifier, TFCatEmbsEncoder, Base\n",
      "ImportError: cannot import name 'Base' from 'columnar.embeddings.models' (/Users/spayot/projects/mtePlus/notebooks/../src/columnar/embeddings/models.py)\n",
      "]\n"
     ]
    },
    {
     "ename": "NameError",
     "evalue": "name 'ds_test' is not defined",
     "output_type": "error",
     "traceback": [
      "\u001b[0;31m---------------------------------------------------------------------------\u001b[0m",
      "\u001b[0;31mNameError\u001b[0m                                 Traceback (most recent call last)",
      "\u001b[0;32m/var/folders/ds/s6rqbzwj33q811h82fdmj_6w0000gn/T/ipykernel_56746/1278951559.py\u001b[0m in \u001b[0;36m<module>\u001b[0;34m\u001b[0m\n\u001b[0;32m----> 1\u001b[0;31m \u001b[0mmodel\u001b[0m\u001b[0;34m.\u001b[0m\u001b[0madapt\u001b[0m\u001b[0;34m(\u001b[0m\u001b[0mds_test\u001b[0m\u001b[0;34m.\u001b[0m\u001b[0mtake\u001b[0m\u001b[0;34m(\u001b[0m\u001b[0;36m10\u001b[0m\u001b[0;34m)\u001b[0m\u001b[0;34m)\u001b[0m\u001b[0;34m\u001b[0m\u001b[0;34m\u001b[0m\u001b[0m\n\u001b[0m",
      "\u001b[0;31mNameError\u001b[0m: name 'ds_test' is not defined"
     ]
    }
   ],
   "source": [
    "model.adapt(ds_test.take(10))"
   ]
  },
  {
   "cell_type": "code",
   "execution_count": 44,
   "id": "cc9866f8-714b-443b-9741-b45c2860c977",
   "metadata": {},
   "outputs": [
    {
     "data": {
      "text/html": [
       "<div>\n",
       "<style scoped>\n",
       "    .dataframe tbody tr th:only-of-type {\n",
       "        vertical-align: middle;\n",
       "    }\n",
       "\n",
       "    .dataframe tbody tr th {\n",
       "        vertical-align: top;\n",
       "    }\n",
       "\n",
       "    .dataframe thead th {\n",
       "        text-align: right;\n",
       "    }\n",
       "</style>\n",
       "<table border=\"1\" class=\"dataframe\">\n",
       "  <thead>\n",
       "    <tr style=\"text-align: right;\">\n",
       "      <th></th>\n",
       "      <th>features</th>\n",
       "      <th>transform</th>\n",
       "      <th>scaler</th>\n",
       "      <th>model</th>\n",
       "      <th>pipe</th>\n",
       "      <th>acc</th>\n",
       "      <th>f1</th>\n",
       "      <th>auc</th>\n",
       "      <th>acc-std</th>\n",
       "      <th>f1-std</th>\n",
       "      <th>auc-std</th>\n",
       "    </tr>\n",
       "  </thead>\n",
       "  <tbody>\n",
       "    <tr>\n",
       "      <th>0</th>\n",
       "      <td>FeatureSelection(categoricals=['type', 'breed1...</td>\n",
       "      <td>MeanTargetEncoder(target=target, alpha=5)</td>\n",
       "      <td>MaxAbsScaler()</td>\n",
       "      <td>RandomForestClassifier(max_depth=5)</td>\n",
       "      <td>Pipeline(steps=[('transform', MeanTargetEncode...</td>\n",
       "      <td>0.762756</td>\n",
       "      <td>0.850068</td>\n",
       "      <td>0.811104</td>\n",
       "      <td>0.008774</td>\n",
       "      <td>0.006405</td>\n",
       "      <td>0.010199</td>\n",
       "    </tr>\n",
       "    <tr>\n",
       "      <th>9</th>\n",
       "      <td>FeatureSelection(categoricals=['type', 'breed1...</td>\n",
       "      <td>MeanTargetEncoder(target=target, alpha=5)</td>\n",
       "      <td>MaxAbsScaler()</td>\n",
       "      <td>LGBMClassifier()</td>\n",
       "      <td>Pipeline(steps=[('transform', MeanTargetEncode...</td>\n",
       "      <td>0.783632</td>\n",
       "      <td>0.859122</td>\n",
       "      <td>0.809476</td>\n",
       "      <td>0.006733</td>\n",
       "      <td>0.005400</td>\n",
       "      <td>0.010421</td>\n",
       "    </tr>\n",
       "    <tr>\n",
       "      <th>4</th>\n",
       "      <td>FeatureSelection(categoricals=['type', 'breed1...</td>\n",
       "      <td>TransformStrategy(cat_encoder=OneHotEncoder(ha...</td>\n",
       "      <td>MaxAbsScaler()</td>\n",
       "      <td>LogisticRegression(max_iter=500)</td>\n",
       "      <td>Pipeline(steps=[('transform',\\n               ...</td>\n",
       "      <td>0.778897</td>\n",
       "      <td>0.858412</td>\n",
       "      <td>0.809063</td>\n",
       "      <td>0.002123</td>\n",
       "      <td>0.002247</td>\n",
       "      <td>0.008694</td>\n",
       "    </tr>\n",
       "    <tr>\n",
       "      <th>3</th>\n",
       "      <td>FeatureSelection(categoricals=['type', 'breed1...</td>\n",
       "      <td>MeanTargetEncoder(target=target, alpha=5)</td>\n",
       "      <td>MaxAbsScaler()</td>\n",
       "      <td>LogisticRegression(max_iter=500)</td>\n",
       "      <td>Pipeline(steps=[('transform', MeanTargetEncode...</td>\n",
       "      <td>0.762889</td>\n",
       "      <td>0.848827</td>\n",
       "      <td>0.803403</td>\n",
       "      <td>0.008298</td>\n",
       "      <td>0.006527</td>\n",
       "      <td>0.009249</td>\n",
       "    </tr>\n",
       "    <tr>\n",
       "      <th>10</th>\n",
       "      <td>FeatureSelection(categoricals=['type', 'breed1...</td>\n",
       "      <td>TransformStrategy(cat_encoder=OneHotEncoder(ha...</td>\n",
       "      <td>MaxAbsScaler()</td>\n",
       "      <td>LGBMClassifier()</td>\n",
       "      <td>Pipeline(steps=[('transform',\\n               ...</td>\n",
       "      <td>0.770026</td>\n",
       "      <td>0.850893</td>\n",
       "      <td>0.796153</td>\n",
       "      <td>0.008376</td>\n",
       "      <td>0.006053</td>\n",
       "      <td>0.010728</td>\n",
       "    </tr>\n",
       "    <tr>\n",
       "      <th>11</th>\n",
       "      <td>FeatureSelection(categoricals=['type', 'breed1...</td>\n",
       "      <td>TransformStrategy(cat_encoder=OrdinalEncoder(h...</td>\n",
       "      <td>MaxAbsScaler()</td>\n",
       "      <td>LGBMClassifier()</td>\n",
       "      <td>Pipeline(steps=[('transform',\\n               ...</td>\n",
       "      <td>0.762423</td>\n",
       "      <td>0.846906</td>\n",
       "      <td>0.784756</td>\n",
       "      <td>0.007369</td>\n",
       "      <td>0.005769</td>\n",
       "      <td>0.007110</td>\n",
       "    </tr>\n",
       "    <tr>\n",
       "      <th>6</th>\n",
       "      <td>FeatureSelection(categoricals=['type', 'breed1...</td>\n",
       "      <td>MeanTargetEncoder(target=target, alpha=5)</td>\n",
       "      <td>MaxAbsScaler()</td>\n",
       "      <td>KNeighborsClassifier(n_neighbors=10)</td>\n",
       "      <td>Pipeline(steps=[('transform', MeanTargetEncode...</td>\n",
       "      <td>0.762222</td>\n",
       "      <td>0.845596</td>\n",
       "      <td>0.757023</td>\n",
       "      <td>0.007418</td>\n",
       "      <td>0.005206</td>\n",
       "      <td>0.010578</td>\n",
       "    </tr>\n",
       "    <tr>\n",
       "      <th>2</th>\n",
       "      <td>FeatureSelection(categoricals=['type', 'breed1...</td>\n",
       "      <td>TransformStrategy(cat_encoder=OrdinalEncoder(h...</td>\n",
       "      <td>MaxAbsScaler()</td>\n",
       "      <td>RandomForestClassifier(max_depth=5)</td>\n",
       "      <td>Pipeline(steps=[('transform',\\n               ...</td>\n",
       "      <td>0.726473</td>\n",
       "      <td>0.839944</td>\n",
       "      <td>0.748843</td>\n",
       "      <td>0.009344</td>\n",
       "      <td>0.006042</td>\n",
       "      <td>0.002867</td>\n",
       "    </tr>\n",
       "    <tr>\n",
       "      <th>1</th>\n",
       "      <td>FeatureSelection(categoricals=['type', 'breed1...</td>\n",
       "      <td>TransformStrategy(cat_encoder=OneHotEncoder(ha...</td>\n",
       "      <td>MaxAbsScaler()</td>\n",
       "      <td>RandomForestClassifier(max_depth=5)</td>\n",
       "      <td>Pipeline(steps=[('transform',\\n               ...</td>\n",
       "      <td>0.720070</td>\n",
       "      <td>0.837238</td>\n",
       "      <td>0.729488</td>\n",
       "      <td>0.007741</td>\n",
       "      <td>0.005247</td>\n",
       "      <td>0.011212</td>\n",
       "    </tr>\n",
       "    <tr>\n",
       "      <th>7</th>\n",
       "      <td>FeatureSelection(categoricals=['type', 'breed1...</td>\n",
       "      <td>TransformStrategy(cat_encoder=OneHotEncoder(ha...</td>\n",
       "      <td>MaxAbsScaler()</td>\n",
       "      <td>KNeighborsClassifier(n_neighbors=10)</td>\n",
       "      <td>Pipeline(steps=[('transform',\\n               ...</td>\n",
       "      <td>0.729808</td>\n",
       "      <td>0.825313</td>\n",
       "      <td>0.698832</td>\n",
       "      <td>0.011174</td>\n",
       "      <td>0.008160</td>\n",
       "      <td>0.008155</td>\n",
       "    </tr>\n",
       "    <tr>\n",
       "      <th>5</th>\n",
       "      <td>FeatureSelection(categoricals=['type', 'breed1...</td>\n",
       "      <td>TransformStrategy(cat_encoder=OrdinalEncoder(h...</td>\n",
       "      <td>MaxAbsScaler()</td>\n",
       "      <td>LogisticRegression(max_iter=500)</td>\n",
       "      <td>Pipeline(steps=[('transform',\\n               ...</td>\n",
       "      <td>0.725073</td>\n",
       "      <td>0.835967</td>\n",
       "      <td>0.674918</td>\n",
       "      <td>0.007956</td>\n",
       "      <td>0.005011</td>\n",
       "      <td>0.007179</td>\n",
       "    </tr>\n",
       "    <tr>\n",
       "      <th>8</th>\n",
       "      <td>FeatureSelection(categoricals=['type', 'breed1...</td>\n",
       "      <td>TransformStrategy(cat_encoder=OrdinalEncoder(h...</td>\n",
       "      <td>MaxAbsScaler()</td>\n",
       "      <td>KNeighborsClassifier(n_neighbors=10)</td>\n",
       "      <td>Pipeline(steps=[('transform',\\n               ...</td>\n",
       "      <td>0.709932</td>\n",
       "      <td>0.812999</td>\n",
       "      <td>0.644267</td>\n",
       "      <td>0.009861</td>\n",
       "      <td>0.006946</td>\n",
       "      <td>0.005780</td>\n",
       "    </tr>\n",
       "  </tbody>\n",
       "</table>\n",
       "</div>"
      ],
      "text/plain": [
       "                                             features  \\\n",
       "0   FeatureSelection(categoricals=['type', 'breed1...   \n",
       "9   FeatureSelection(categoricals=['type', 'breed1...   \n",
       "4   FeatureSelection(categoricals=['type', 'breed1...   \n",
       "3   FeatureSelection(categoricals=['type', 'breed1...   \n",
       "10  FeatureSelection(categoricals=['type', 'breed1...   \n",
       "11  FeatureSelection(categoricals=['type', 'breed1...   \n",
       "6   FeatureSelection(categoricals=['type', 'breed1...   \n",
       "2   FeatureSelection(categoricals=['type', 'breed1...   \n",
       "1   FeatureSelection(categoricals=['type', 'breed1...   \n",
       "7   FeatureSelection(categoricals=['type', 'breed1...   \n",
       "5   FeatureSelection(categoricals=['type', 'breed1...   \n",
       "8   FeatureSelection(categoricals=['type', 'breed1...   \n",
       "\n",
       "                                            transform          scaler  \\\n",
       "0           MeanTargetEncoder(target=target, alpha=5)  MaxAbsScaler()   \n",
       "9           MeanTargetEncoder(target=target, alpha=5)  MaxAbsScaler()   \n",
       "4   TransformStrategy(cat_encoder=OneHotEncoder(ha...  MaxAbsScaler()   \n",
       "3           MeanTargetEncoder(target=target, alpha=5)  MaxAbsScaler()   \n",
       "10  TransformStrategy(cat_encoder=OneHotEncoder(ha...  MaxAbsScaler()   \n",
       "11  TransformStrategy(cat_encoder=OrdinalEncoder(h...  MaxAbsScaler()   \n",
       "6           MeanTargetEncoder(target=target, alpha=5)  MaxAbsScaler()   \n",
       "2   TransformStrategy(cat_encoder=OrdinalEncoder(h...  MaxAbsScaler()   \n",
       "1   TransformStrategy(cat_encoder=OneHotEncoder(ha...  MaxAbsScaler()   \n",
       "7   TransformStrategy(cat_encoder=OneHotEncoder(ha...  MaxAbsScaler()   \n",
       "5   TransformStrategy(cat_encoder=OrdinalEncoder(h...  MaxAbsScaler()   \n",
       "8   TransformStrategy(cat_encoder=OrdinalEncoder(h...  MaxAbsScaler()   \n",
       "\n",
       "                                   model  \\\n",
       "0    RandomForestClassifier(max_depth=5)   \n",
       "9                       LGBMClassifier()   \n",
       "4       LogisticRegression(max_iter=500)   \n",
       "3       LogisticRegression(max_iter=500)   \n",
       "10                      LGBMClassifier()   \n",
       "11                      LGBMClassifier()   \n",
       "6   KNeighborsClassifier(n_neighbors=10)   \n",
       "2    RandomForestClassifier(max_depth=5)   \n",
       "1    RandomForestClassifier(max_depth=5)   \n",
       "7   KNeighborsClassifier(n_neighbors=10)   \n",
       "5       LogisticRegression(max_iter=500)   \n",
       "8   KNeighborsClassifier(n_neighbors=10)   \n",
       "\n",
       "                                                 pipe       acc        f1  \\\n",
       "0   Pipeline(steps=[('transform', MeanTargetEncode...  0.762756  0.850068   \n",
       "9   Pipeline(steps=[('transform', MeanTargetEncode...  0.783632  0.859122   \n",
       "4   Pipeline(steps=[('transform',\\n               ...  0.778897  0.858412   \n",
       "3   Pipeline(steps=[('transform', MeanTargetEncode...  0.762889  0.848827   \n",
       "10  Pipeline(steps=[('transform',\\n               ...  0.770026  0.850893   \n",
       "11  Pipeline(steps=[('transform',\\n               ...  0.762423  0.846906   \n",
       "6   Pipeline(steps=[('transform', MeanTargetEncode...  0.762222  0.845596   \n",
       "2   Pipeline(steps=[('transform',\\n               ...  0.726473  0.839944   \n",
       "1   Pipeline(steps=[('transform',\\n               ...  0.720070  0.837238   \n",
       "7   Pipeline(steps=[('transform',\\n               ...  0.729808  0.825313   \n",
       "5   Pipeline(steps=[('transform',\\n               ...  0.725073  0.835967   \n",
       "8   Pipeline(steps=[('transform',\\n               ...  0.709932  0.812999   \n",
       "\n",
       "         auc   acc-std    f1-std   auc-std  \n",
       "0   0.811104  0.008774  0.006405  0.010199  \n",
       "9   0.809476  0.006733  0.005400  0.010421  \n",
       "4   0.809063  0.002123  0.002247  0.008694  \n",
       "3   0.803403  0.008298  0.006527  0.009249  \n",
       "10  0.796153  0.008376  0.006053  0.010728  \n",
       "11  0.784756  0.007369  0.005769  0.007110  \n",
       "6   0.757023  0.007418  0.005206  0.010578  \n",
       "2   0.748843  0.009344  0.006042  0.002867  \n",
       "1   0.729488  0.007741  0.005247  0.011212  \n",
       "7   0.698832  0.011174  0.008160  0.008155  \n",
       "5   0.674918  0.007956  0.005011  0.007179  \n",
       "8   0.644267  0.009861  0.006946  0.005780  "
      ]
     },
     "execution_count": 44,
     "metadata": {},
     "output_type": "execute_result"
    }
   ],
   "source": [
    "results = pd.read_csv('../runs/petfinder.csv', sep=';')\n",
    "results.sort_values('auc', ascending=False)"
   ]
  },
  {
   "cell_type": "code",
   "execution_count": null,
   "id": "a6fdeae8-0816-4d92-b220-abd5c95e83ec",
   "metadata": {},
   "outputs": [],
   "source": [
    "from sklearn import metrics\n",
    "from sklearn.model_selection import KFold\n",
    "from sklearn.ensemble import RandomForestClassifier\n",
    "\n",
    "\n",
    "pipe = col.CategoricalPipeline(features=feature_selection,\n",
    "                               transformer = col.embeddings.wrapper.TFEmbeddingWrapper(feature_selection),\n",
    "                               model=RandomForestClassifier(n_estimators=100, max_depth=5)\n",
    "                              )\n",
    "\n",
    "scorer = col.Scorer(\n",
    "    acc=lambda ytrue, ypreds: metrics.accuracy_score(ytrue, ypreds > .5),\n",
    "    f1=lambda ytrue, ypreds: metrics.f1_score(ytrue, ypreds > .5),\n",
    "    auc=metrics.roc_auc_score,\n",
    ")\n",
    "\n",
    "kf = KFold(n_splits=5)\n",
    "\n",
    "# create a reporting object\n",
    "reporter = col.Report(scorer=scorer)\n",
    "\n",
    "cv_score = col.cv_score(\n",
    "    pipeline=pipe,\n",
    "    data=df, \n",
    "    kf=kf,\n",
    "    scorer=reporter.scorer)"
   ]
  },
  {
   "cell_type": "code",
   "execution_count": 120,
   "id": "790b7d44-8106-427f-91ef-bea54ccc74ef",
   "metadata": {},
   "outputs": [
    {
     "data": {
      "text/plain": [
       "acc    0.720070\n",
       "f1     0.837238\n",
       "auc    0.653890\n",
       "dtype: float64"
      ]
     },
     "execution_count": 120,
     "metadata": {},
     "output_type": "execute_result"
    }
   ],
   "source": [
    "cv_score.mean()"
   ]
  },
  {
   "cell_type": "code",
   "execution_count": 126,
   "id": "5fe1ca3a-1d7e-4875-a5e9-98f267537958",
   "metadata": {},
   "outputs": [],
   "source": [
    "other_results = pd.read_csv('../runs/petfinder.csv', sep=';')\n",
    "other_results = other_results.drop(columns=['scaler', 'features', 'pipe'])"
   ]
  },
  {
   "cell_type": "code",
   "execution_count": 128,
   "id": "f05da207-9720-4b32-9724-5359b4b0c2de",
   "metadata": {},
   "outputs": [
    {
     "data": {
      "text/html": [
       "<div>\n",
       "<style scoped>\n",
       "    .dataframe tbody tr th:only-of-type {\n",
       "        vertical-align: middle;\n",
       "    }\n",
       "\n",
       "    .dataframe tbody tr th {\n",
       "        vertical-align: top;\n",
       "    }\n",
       "\n",
       "    .dataframe thead th {\n",
       "        text-align: right;\n",
       "    }\n",
       "</style>\n",
       "<table border=\"1\" class=\"dataframe\">\n",
       "  <thead>\n",
       "    <tr style=\"text-align: right;\">\n",
       "      <th></th>\n",
       "      <th>transform</th>\n",
       "      <th>model</th>\n",
       "      <th>acc</th>\n",
       "      <th>f1</th>\n",
       "      <th>auc</th>\n",
       "      <th>acc-std</th>\n",
       "      <th>f1-std</th>\n",
       "      <th>auc-std</th>\n",
       "    </tr>\n",
       "  </thead>\n",
       "  <tbody>\n",
       "    <tr>\n",
       "      <th>0</th>\n",
       "      <td>MeanTargetEncoder(target=target, alpha=5)</td>\n",
       "      <td>RandomForestClassifier(max_depth=5)</td>\n",
       "      <td>0.762756</td>\n",
       "      <td>0.850068</td>\n",
       "      <td>0.811104</td>\n",
       "      <td>0.008774</td>\n",
       "      <td>0.006405</td>\n",
       "      <td>0.010199</td>\n",
       "    </tr>\n",
       "    <tr>\n",
       "      <th>1</th>\n",
       "      <td>TransformStrategy(cat_encoder=OneHotEncoder(ha...</td>\n",
       "      <td>RandomForestClassifier(max_depth=5)</td>\n",
       "      <td>0.720070</td>\n",
       "      <td>0.837238</td>\n",
       "      <td>0.729488</td>\n",
       "      <td>0.007741</td>\n",
       "      <td>0.005247</td>\n",
       "      <td>0.011212</td>\n",
       "    </tr>\n",
       "    <tr>\n",
       "      <th>2</th>\n",
       "      <td>TransformStrategy(cat_encoder=OrdinalEncoder(h...</td>\n",
       "      <td>RandomForestClassifier(max_depth=5)</td>\n",
       "      <td>0.726473</td>\n",
       "      <td>0.839944</td>\n",
       "      <td>0.748843</td>\n",
       "      <td>0.009344</td>\n",
       "      <td>0.006042</td>\n",
       "      <td>0.002867</td>\n",
       "    </tr>\n",
       "    <tr>\n",
       "      <th>3</th>\n",
       "      <td>MeanTargetEncoder(target=target, alpha=5)</td>\n",
       "      <td>LogisticRegression(max_iter=500)</td>\n",
       "      <td>0.762889</td>\n",
       "      <td>0.848827</td>\n",
       "      <td>0.803403</td>\n",
       "      <td>0.008298</td>\n",
       "      <td>0.006527</td>\n",
       "      <td>0.009249</td>\n",
       "    </tr>\n",
       "    <tr>\n",
       "      <th>4</th>\n",
       "      <td>TransformStrategy(cat_encoder=OneHotEncoder(ha...</td>\n",
       "      <td>LogisticRegression(max_iter=500)</td>\n",
       "      <td>0.778897</td>\n",
       "      <td>0.858412</td>\n",
       "      <td>0.809063</td>\n",
       "      <td>0.002123</td>\n",
       "      <td>0.002247</td>\n",
       "      <td>0.008694</td>\n",
       "    </tr>\n",
       "    <tr>\n",
       "      <th>5</th>\n",
       "      <td>TransformStrategy(cat_encoder=OrdinalEncoder(h...</td>\n",
       "      <td>LogisticRegression(max_iter=500)</td>\n",
       "      <td>0.725073</td>\n",
       "      <td>0.835967</td>\n",
       "      <td>0.674918</td>\n",
       "      <td>0.007956</td>\n",
       "      <td>0.005011</td>\n",
       "      <td>0.007179</td>\n",
       "    </tr>\n",
       "    <tr>\n",
       "      <th>6</th>\n",
       "      <td>MeanTargetEncoder(target=target, alpha=5)</td>\n",
       "      <td>KNeighborsClassifier(n_neighbors=10)</td>\n",
       "      <td>0.762222</td>\n",
       "      <td>0.845596</td>\n",
       "      <td>0.757023</td>\n",
       "      <td>0.007418</td>\n",
       "      <td>0.005206</td>\n",
       "      <td>0.010578</td>\n",
       "    </tr>\n",
       "    <tr>\n",
       "      <th>7</th>\n",
       "      <td>TransformStrategy(cat_encoder=OneHotEncoder(ha...</td>\n",
       "      <td>KNeighborsClassifier(n_neighbors=10)</td>\n",
       "      <td>0.729808</td>\n",
       "      <td>0.825313</td>\n",
       "      <td>0.698832</td>\n",
       "      <td>0.011174</td>\n",
       "      <td>0.008160</td>\n",
       "      <td>0.008155</td>\n",
       "    </tr>\n",
       "    <tr>\n",
       "      <th>8</th>\n",
       "      <td>TransformStrategy(cat_encoder=OrdinalEncoder(h...</td>\n",
       "      <td>KNeighborsClassifier(n_neighbors=10)</td>\n",
       "      <td>0.709932</td>\n",
       "      <td>0.812999</td>\n",
       "      <td>0.644267</td>\n",
       "      <td>0.009861</td>\n",
       "      <td>0.006946</td>\n",
       "      <td>0.005780</td>\n",
       "    </tr>\n",
       "    <tr>\n",
       "      <th>9</th>\n",
       "      <td>MeanTargetEncoder(target=target, alpha=5)</td>\n",
       "      <td>LGBMClassifier()</td>\n",
       "      <td>0.783632</td>\n",
       "      <td>0.859122</td>\n",
       "      <td>0.809476</td>\n",
       "      <td>0.006733</td>\n",
       "      <td>0.005400</td>\n",
       "      <td>0.010421</td>\n",
       "    </tr>\n",
       "    <tr>\n",
       "      <th>10</th>\n",
       "      <td>TransformStrategy(cat_encoder=OneHotEncoder(ha...</td>\n",
       "      <td>LGBMClassifier()</td>\n",
       "      <td>0.770026</td>\n",
       "      <td>0.850893</td>\n",
       "      <td>0.796153</td>\n",
       "      <td>0.008376</td>\n",
       "      <td>0.006053</td>\n",
       "      <td>0.010728</td>\n",
       "    </tr>\n",
       "    <tr>\n",
       "      <th>11</th>\n",
       "      <td>TransformStrategy(cat_encoder=OrdinalEncoder(h...</td>\n",
       "      <td>LGBMClassifier()</td>\n",
       "      <td>0.762423</td>\n",
       "      <td>0.846906</td>\n",
       "      <td>0.784756</td>\n",
       "      <td>0.007369</td>\n",
       "      <td>0.005769</td>\n",
       "      <td>0.007110</td>\n",
       "    </tr>\n",
       "  </tbody>\n",
       "</table>\n",
       "</div>"
      ],
      "text/plain": [
       "                                            transform  \\\n",
       "0           MeanTargetEncoder(target=target, alpha=5)   \n",
       "1   TransformStrategy(cat_encoder=OneHotEncoder(ha...   \n",
       "2   TransformStrategy(cat_encoder=OrdinalEncoder(h...   \n",
       "3           MeanTargetEncoder(target=target, alpha=5)   \n",
       "4   TransformStrategy(cat_encoder=OneHotEncoder(ha...   \n",
       "5   TransformStrategy(cat_encoder=OrdinalEncoder(h...   \n",
       "6           MeanTargetEncoder(target=target, alpha=5)   \n",
       "7   TransformStrategy(cat_encoder=OneHotEncoder(ha...   \n",
       "8   TransformStrategy(cat_encoder=OrdinalEncoder(h...   \n",
       "9           MeanTargetEncoder(target=target, alpha=5)   \n",
       "10  TransformStrategy(cat_encoder=OneHotEncoder(ha...   \n",
       "11  TransformStrategy(cat_encoder=OrdinalEncoder(h...   \n",
       "\n",
       "                                   model       acc        f1       auc  \\\n",
       "0    RandomForestClassifier(max_depth=5)  0.762756  0.850068  0.811104   \n",
       "1    RandomForestClassifier(max_depth=5)  0.720070  0.837238  0.729488   \n",
       "2    RandomForestClassifier(max_depth=5)  0.726473  0.839944  0.748843   \n",
       "3       LogisticRegression(max_iter=500)  0.762889  0.848827  0.803403   \n",
       "4       LogisticRegression(max_iter=500)  0.778897  0.858412  0.809063   \n",
       "5       LogisticRegression(max_iter=500)  0.725073  0.835967  0.674918   \n",
       "6   KNeighborsClassifier(n_neighbors=10)  0.762222  0.845596  0.757023   \n",
       "7   KNeighborsClassifier(n_neighbors=10)  0.729808  0.825313  0.698832   \n",
       "8   KNeighborsClassifier(n_neighbors=10)  0.709932  0.812999  0.644267   \n",
       "9                       LGBMClassifier()  0.783632  0.859122  0.809476   \n",
       "10                      LGBMClassifier()  0.770026  0.850893  0.796153   \n",
       "11                      LGBMClassifier()  0.762423  0.846906  0.784756   \n",
       "\n",
       "     acc-std    f1-std   auc-std  \n",
       "0   0.008774  0.006405  0.010199  \n",
       "1   0.007741  0.005247  0.011212  \n",
       "2   0.009344  0.006042  0.002867  \n",
       "3   0.008298  0.006527  0.009249  \n",
       "4   0.002123  0.002247  0.008694  \n",
       "5   0.007956  0.005011  0.007179  \n",
       "6   0.007418  0.005206  0.010578  \n",
       "7   0.011174  0.008160  0.008155  \n",
       "8   0.009861  0.006946  0.005780  \n",
       "9   0.006733  0.005400  0.010421  \n",
       "10  0.008376  0.006053  0.010728  \n",
       "11  0.007369  0.005769  0.007110  "
      ]
     },
     "execution_count": 128,
     "metadata": {},
     "output_type": "execute_result"
    }
   ],
   "source": [
    "other_results"
   ]
  },
  {
   "cell_type": "code",
   "execution_count": 18,
   "id": "f2406162-dd2a-403c-ad82-89d4db43f3f8",
   "metadata": {},
   "outputs": [
    {
     "data": {
      "text/plain": [
       "array([[-0.8262427 , -0.16302028, -0.26930034,  0.08379945],\n",
       "       [-0.25766945, -0.16302028, -0.26930034,  2.049002  ],\n",
       "       [ 0.3109038 , -0.16302028,  0.3774347 , -0.51667905],\n",
       "       ...,\n",
       "       [ 0.3109038 , -0.16302028,  4.90458   ,  2.049002  ],\n",
       "       [-0.25766945, -0.16302028, -0.26930034, -0.51667905],\n",
       "       [-0.8262427 , -0.16302028, -0.26930034, -0.51667905]],\n",
       "      dtype=float32)"
      ]
     },
     "execution_count": 18,
     "metadata": {},
     "output_type": "execute_result"
    }
   ],
   "source": [
    "name = 'color2'\n",
    "model.encoder.predict(ds_test.map(lambda x, y: {name: x[name] for name in feature_selection.numericals}))"
   ]
  },
  {
   "cell_type": "code",
   "execution_count": 115,
   "id": "26ce33c9-3723-4381-bcd1-226d71a568e5",
   "metadata": {},
   "outputs": [
    {
     "name": "stderr",
     "output_type": "stream",
     "text": [
      "2022-02-02 21:45:32.552979: I tensorflow/core/grappler/optimizers/custom_graph_optimizer_registry.cc:112] Plugin optimizer for device_type GPU is enabled.\n"
     ]
    }
   ],
   "source": [
    "# encoder = model.encoder\n",
    "# for col_name in feature_selection.numericals:\n",
    "#     encoder.encoding_layers[col_name] = col.embeddings.layers.PassThroughLayer(col_name)\n",
    "    \n",
    "output = model.encoder.predict(ds_test)\n",
    "\n",
    "\n",
    "output2 = model.encoder.predict(ds_test)"
   ]
  },
  {
   "cell_type": "code",
   "execution_count": 132,
   "id": "389d1e0c-af4a-49ce-aae9-29896024db7a",
   "metadata": {},
   "outputs": [
    {
     "name": "stderr",
     "output_type": "stream",
     "text": [
      "2022-02-02 21:52:29.787308: I tensorflow/core/grappler/optimizers/custom_graph_optimizer_registry.cc:112] Plugin optimizer for device_type GPU is enabled.\n",
      "2022-02-02 21:52:29.912644: I tensorflow/core/grappler/optimizers/custom_graph_optimizer_registry.cc:112] Plugin optimizer for device_type GPU is enabled.\n",
      "2022-02-02 21:52:30.037731: I tensorflow/core/grappler/optimizers/custom_graph_optimizer_registry.cc:112] Plugin optimizer for device_type GPU is enabled.\n",
      "2022-02-02 21:52:30.157193: I tensorflow/core/grappler/optimizers/custom_graph_optimizer_registry.cc:112] Plugin optimizer for device_type GPU is enabled.\n",
      "2022-02-02 21:52:30.279564: I tensorflow/core/grappler/optimizers/custom_graph_optimizer_registry.cc:112] Plugin optimizer for device_type GPU is enabled.\n",
      "2022-02-02 21:52:30.399974: I tensorflow/core/grappler/optimizers/custom_graph_optimizer_registry.cc:112] Plugin optimizer for device_type GPU is enabled.\n",
      "2022-02-02 21:52:30.520977: I tensorflow/core/grappler/optimizers/custom_graph_optimizer_registry.cc:112] Plugin optimizer for device_type GPU is enabled.\n",
      "2022-02-02 21:52:30.640493: I tensorflow/core/grappler/optimizers/custom_graph_optimizer_registry.cc:112] Plugin optimizer for device_type GPU is enabled.\n",
      "2022-02-02 21:52:30.762005: I tensorflow/core/grappler/optimizers/custom_graph_optimizer_registry.cc:112] Plugin optimizer for device_type GPU is enabled.\n",
      "2022-02-02 21:52:30.880078: I tensorflow/core/grappler/optimizers/custom_graph_optimizer_registry.cc:112] Plugin optimizer for device_type GPU is enabled.\n",
      "2022-02-02 21:52:31.003234: I tensorflow/core/grappler/optimizers/custom_graph_optimizer_registry.cc:112] Plugin optimizer for device_type GPU is enabled.\n",
      "2022-02-02 21:52:31.121263: I tensorflow/core/grappler/optimizers/custom_graph_optimizer_registry.cc:112] Plugin optimizer for device_type GPU is enabled.\n",
      "2022-02-02 21:52:31.249903: I tensorflow/core/grappler/optimizers/custom_graph_optimizer_registry.cc:112] Plugin optimizer for device_type GPU is enabled.\n",
      "2022-02-02 21:52:31.375267: I tensorflow/core/grappler/optimizers/custom_graph_optimizer_registry.cc:112] Plugin optimizer for device_type GPU is enabled.\n",
      "2022-02-02 21:52:31.504259: I tensorflow/core/grappler/optimizers/custom_graph_optimizer_registry.cc:112] Plugin optimizer for device_type GPU is enabled.\n",
      "2022-02-02 21:52:31.624689: I tensorflow/core/grappler/optimizers/custom_graph_optimizer_registry.cc:112] Plugin optimizer for device_type GPU is enabled.\n",
      "2022-02-02 21:52:31.728375: I tensorflow/core/grappler/optimizers/custom_graph_optimizer_registry.cc:112] Plugin optimizer for device_type GPU is enabled.\n"
     ]
    }
   ],
   "source": [
    "encoder = col.embeddings.models.TFCatEmbsEncoder(strategy)\n",
    "encoder.adapt(ds_test)\n",
    "encoder.set_weights(model.encoder.get_weights())"
   ]
  },
  {
   "cell_type": "code",
   "execution_count": 136,
   "id": "68861d8f-4f35-4762-add3-2c9cdd00cf04",
   "metadata": {},
   "outputs": [],
   "source": [
    "df[feature_selection.numericals]"
   ]
  },
  {
   "cell_type": "code",
   "execution_count": 137,
   "id": "9bbd7d15-0d8f-4f22-942d-55fc6c98f790",
   "metadata": {},
   "outputs": [
    {
     "name": "stderr",
     "output_type": "stream",
     "text": [
      "2022-02-02 21:53:13.526267: I tensorflow/core/grappler/optimizers/custom_graph_optimizer_registry.cc:112] Plugin optimizer for device_type GPU is enabled.\n"
     ]
    },
    {
     "data": {
      "text/plain": [
       "array([[ 0.03962818, -0.3452057 ,  0.00186167, ..., -0.16189812,\n",
       "         0.30397525, -0.04112478],\n",
       "       [-0.03914329, -0.45344108,  0.03778389, ..., -0.16189812,\n",
       "         0.02671814, -0.04112478],\n",
       "       [ 0.03962818,  0.08773584,  0.00186167, ..., -0.16189812,\n",
       "        -0.80505323, -0.04112478],\n",
       "       ...,\n",
       "       [ 0.03962818, -0.07461724,  0.02039905, ..., -0.16189812,\n",
       "        -0.25053898, -0.04112478],\n",
       "       [ 0.03962818, -0.45344108,  0.00186167, ..., -0.16189812,\n",
       "        -0.25053898,  0.02086807],\n",
       "       [-0.03914329, -0.50755876,  0.03778389, ..., -0.16189812,\n",
       "         0.30397525, -0.04112478]], dtype=float32)"
      ]
     },
     "execution_count": 137,
     "metadata": {},
     "output_type": "execute_result"
    }
   ],
   "source": [
    "encoder.predict(t[0])"
   ]
  },
  {
   "cell_type": "code",
   "execution_count": 57,
   "id": "bdd4e9a6-9a4e-43ea-8e9c-2adc8ffbd6e7",
   "metadata": {},
   "outputs": [
    {
     "data": {
      "text/plain": [
       "((2999, 1), numpy.ndarray)"
      ]
     },
     "execution_count": 57,
     "metadata": {},
     "output_type": "execute_result"
    }
   ],
   "source": [
    "a = model.predict(ds_test)\n",
    "a.shape, type(a)"
   ]
  },
  {
   "cell_type": "code",
   "execution_count": 143,
   "id": "b4410630-32f8-499e-8d28-7edf29b38bca",
   "metadata": {},
   "outputs": [
    {
     "name": "stderr",
     "output_type": "stream",
     "text": [
      "2022-02-01 20:01:56.874997: I tensorflow/core/grappler/optimizers/custom_graph_optimizer_registry.cc:112] Plugin optimizer for device_type GPU is enabled.\n"
     ]
    },
    {
     "name": "stdout",
     "output_type": "stream",
     "text": [
      "32/32 [==============================] - 0s 3ms/step - loss: 0.0408\n"
     ]
    },
    {
     "name": "stderr",
     "output_type": "stream",
     "text": [
      "2022-02-01 20:02:06.064416: I tensorflow/core/grappler/optimizers/custom_graph_optimizer_registry.cc:112] Plugin optimizer for device_type GPU is enabled.\n"
     ]
    },
    {
     "data": {
      "text/plain": [
       "0.0407966785132885"
      ]
     },
     "execution_count": 143,
     "metadata": {},
     "output_type": "execute_result"
    }
   ],
   "source": [
    "X = np.random.randn(1000,4)\n",
    "y = X[:,0] + np.random.randn(1000) / 5\n",
    "\n",
    "inp = tf.keras.layers.Input(shape=(4,))\n",
    "x = tf.keras.layers.Dense(2)(inp)\n",
    "a = tf.keras.models.Model(inp, x)\n",
    "\n",
    "out = tf.keras.layers.Dense(1)(a(inp))\n",
    "\n",
    "m = tf.keras.models.Model(inp, out)\n",
    "m.compile(optimizer='adam', loss='mean_squared_error')\n",
    "hist = m.fit(X, y, epochs=20, verbose=0, batch_size=5)\n",
    "m.evaluate(X, y)"
   ]
  },
  {
   "cell_type": "markdown",
   "id": "712d52ad-9521-42ff-b2d1-69be8cf74bb7",
   "metadata": {},
   "source": [
    "# Plot Heatmap"
   ]
  },
  {
   "cell_type": "code",
   "execution_count": 11,
   "id": "b0b97db8-d7a6-4278-af3d-8f69626be0d2",
   "metadata": {},
   "outputs": [
    {
     "data": {
      "text/html": [
       "<div>\n",
       "<style scoped>\n",
       "    .dataframe tbody tr th:only-of-type {\n",
       "        vertical-align: middle;\n",
       "    }\n",
       "\n",
       "    .dataframe tbody tr th {\n",
       "        vertical-align: top;\n",
       "    }\n",
       "\n",
       "    .dataframe thead th {\n",
       "        text-align: right;\n",
       "    }\n",
       "</style>\n",
       "<table border=\"1\" class=\"dataframe\">\n",
       "  <thead>\n",
       "    <tr style=\"text-align: right;\">\n",
       "      <th></th>\n",
       "      <th>feature_selection</th>\n",
       "      <th>transformer</th>\n",
       "      <th>scaler</th>\n",
       "      <th>classifier</th>\n",
       "      <th>acc</th>\n",
       "      <th>f1</th>\n",
       "      <th>auc</th>\n",
       "      <th>acc-std</th>\n",
       "      <th>f1-std</th>\n",
       "      <th>auc-std</th>\n",
       "      <th>score</th>\n",
       "    </tr>\n",
       "  </thead>\n",
       "  <tbody>\n",
       "    <tr>\n",
       "      <th>25</th>\n",
       "      <td>FeatureSelection(categoricals=['type', 'breed1...</td>\n",
       "      <td>TFEmbeddingWrapper_Max50Strategy</td>\n",
       "      <td>MaxAbsScaler()</td>\n",
       "      <td>LGBMClassifier()</td>\n",
       "      <td>0.791769</td>\n",
       "      <td>0.856381</td>\n",
       "      <td>0.825467</td>\n",
       "      <td>0.004239</td>\n",
       "      <td>0.003831</td>\n",
       "      <td>0.011024</td>\n",
       "      <td>0.412851</td>\n",
       "    </tr>\n",
       "    <tr>\n",
       "      <th>15</th>\n",
       "      <td>FeatureSelection(categoricals=['type', 'breed1...</td>\n",
       "      <td>TFEmbeddingWrapper_SingleStrategy</td>\n",
       "      <td>MaxAbsScaler()</td>\n",
       "      <td>LGBMClassifier()</td>\n",
       "      <td>0.778563</td>\n",
       "      <td>0.847397</td>\n",
       "      <td>0.830678</td>\n",
       "      <td>0.005054</td>\n",
       "      <td>0.008439</td>\n",
       "      <td>0.006720</td>\n",
       "      <td>0.411940</td>\n",
       "    </tr>\n",
       "    <tr>\n",
       "      <th>5</th>\n",
       "      <td>FeatureSelection(categoricals=['type', 'breed1...</td>\n",
       "      <td>TransformStrategy_OneHotEncoder(handle_unknown...</td>\n",
       "      <td>MaxAbsScaler()</td>\n",
       "      <td>LogisticRegression(max_iter=500)</td>\n",
       "      <td>0.778897</td>\n",
       "      <td>0.858412</td>\n",
       "      <td>0.809063</td>\n",
       "      <td>0.002123</td>\n",
       "      <td>0.002247</td>\n",
       "      <td>0.008694</td>\n",
       "      <td>0.410949</td>\n",
       "    </tr>\n",
       "    <tr>\n",
       "      <th>18</th>\n",
       "      <td>FeatureSelection(categoricals=['type', 'breed1...</td>\n",
       "      <td>TFEmbeddingWrapper_Max2Strategy</td>\n",
       "      <td>MaxAbsScaler()</td>\n",
       "      <td>LogisticRegression(max_iter=500)</td>\n",
       "      <td>0.776095</td>\n",
       "      <td>0.848886</td>\n",
       "      <td>0.813520</td>\n",
       "      <td>0.004885</td>\n",
       "      <td>0.003152</td>\n",
       "      <td>0.007788</td>\n",
       "      <td>0.409909</td>\n",
       "    </tr>\n",
       "    <tr>\n",
       "      <th>20</th>\n",
       "      <td>FeatureSelection(categoricals=['type', 'breed1...</td>\n",
       "      <td>TFEmbeddingWrapper_Max2Strategy</td>\n",
       "      <td>MaxAbsScaler()</td>\n",
       "      <td>LGBMClassifier()</td>\n",
       "      <td>0.778829</td>\n",
       "      <td>0.844330</td>\n",
       "      <td>0.833621</td>\n",
       "      <td>0.012992</td>\n",
       "      <td>0.013648</td>\n",
       "      <td>0.006843</td>\n",
       "      <td>0.409303</td>\n",
       "    </tr>\n",
       "    <tr>\n",
       "      <th>3</th>\n",
       "      <td>FeatureSelection(categoricals=['type', 'breed1...</td>\n",
       "      <td>MeanTargetEncoder(target=target, alpha=5)</td>\n",
       "      <td>MaxAbsScaler()</td>\n",
       "      <td>LGBMClassifier()</td>\n",
       "      <td>0.783632</td>\n",
       "      <td>0.859122</td>\n",
       "      <td>0.809476</td>\n",
       "      <td>0.006733</td>\n",
       "      <td>0.005400</td>\n",
       "      <td>0.010421</td>\n",
       "      <td>0.408829</td>\n",
       "    </tr>\n",
       "    <tr>\n",
       "      <th>13</th>\n",
       "      <td>FeatureSelection(categoricals=['type', 'breed1...</td>\n",
       "      <td>TFEmbeddingWrapper_SingleStrategy</td>\n",
       "      <td>MaxAbsScaler()</td>\n",
       "      <td>LogisticRegression(max_iter=500)</td>\n",
       "      <td>0.772827</td>\n",
       "      <td>0.849207</td>\n",
       "      <td>0.805647</td>\n",
       "      <td>0.004041</td>\n",
       "      <td>0.003867</td>\n",
       "      <td>0.007078</td>\n",
       "      <td>0.407929</td>\n",
       "    </tr>\n",
       "    <tr>\n",
       "      <th>0</th>\n",
       "      <td>FeatureSelection(categoricals=['type', 'breed1...</td>\n",
       "      <td>MeanTargetEncoder(target=target, alpha=5)</td>\n",
       "      <td>MaxAbsScaler()</td>\n",
       "      <td>RandomForestClassifier(max_depth=5)</td>\n",
       "      <td>0.762422</td>\n",
       "      <td>0.849789</td>\n",
       "      <td>0.812806</td>\n",
       "      <td>0.008118</td>\n",
       "      <td>0.006002</td>\n",
       "      <td>0.009579</td>\n",
       "      <td>0.407647</td>\n",
       "    </tr>\n",
       "    <tr>\n",
       "      <th>21</th>\n",
       "      <td>FeatureSelection(categoricals=['type', 'breed1...</td>\n",
       "      <td>TFEmbeddingWrapper_Max2Strategy</td>\n",
       "      <td>MaxAbsScaler()</td>\n",
       "      <td>DNN</td>\n",
       "      <td>0.772693</td>\n",
       "      <td>0.840014</td>\n",
       "      <td>0.824273</td>\n",
       "      <td>0.011027</td>\n",
       "      <td>0.010218</td>\n",
       "      <td>0.008846</td>\n",
       "      <td>0.406564</td>\n",
       "    </tr>\n",
       "    <tr>\n",
       "      <th>1</th>\n",
       "      <td>FeatureSelection(categoricals=['type', 'breed1...</td>\n",
       "      <td>MeanTargetEncoder(target=target, alpha=5)</td>\n",
       "      <td>MaxAbsScaler()</td>\n",
       "      <td>LogisticRegression(max_iter=500)</td>\n",
       "      <td>0.762889</td>\n",
       "      <td>0.848827</td>\n",
       "      <td>0.803403</td>\n",
       "      <td>0.008298</td>\n",
       "      <td>0.006527</td>\n",
       "      <td>0.009249</td>\n",
       "      <td>0.404856</td>\n",
       "    </tr>\n",
       "    <tr>\n",
       "      <th>26</th>\n",
       "      <td>FeatureSelection(categoricals=['type', 'breed1...</td>\n",
       "      <td>TFEmbeddingWrapper_Max50Strategy</td>\n",
       "      <td>MaxAbsScaler()</td>\n",
       "      <td>DNN</td>\n",
       "      <td>0.774093</td>\n",
       "      <td>0.840741</td>\n",
       "      <td>0.820946</td>\n",
       "      <td>0.010337</td>\n",
       "      <td>0.008521</td>\n",
       "      <td>0.012632</td>\n",
       "      <td>0.404826</td>\n",
       "    </tr>\n",
       "    <tr>\n",
       "      <th>16</th>\n",
       "      <td>FeatureSelection(categoricals=['type', 'breed1...</td>\n",
       "      <td>TFEmbeddingWrapper_SingleStrategy</td>\n",
       "      <td>MaxAbsScaler()</td>\n",
       "      <td>DNN</td>\n",
       "      <td>0.763356</td>\n",
       "      <td>0.834252</td>\n",
       "      <td>0.808303</td>\n",
       "      <td>0.005861</td>\n",
       "      <td>0.005995</td>\n",
       "      <td>0.005829</td>\n",
       "      <td>0.404647</td>\n",
       "    </tr>\n",
       "    <tr>\n",
       "      <th>12</th>\n",
       "      <td>FeatureSelection(categoricals=['type', 'breed1...</td>\n",
       "      <td>TFEmbeddingWrapper_SingleStrategy</td>\n",
       "      <td>MaxAbsScaler()</td>\n",
       "      <td>RandomForestClassifier(max_depth=5)</td>\n",
       "      <td>0.769492</td>\n",
       "      <td>0.846469</td>\n",
       "      <td>0.810078</td>\n",
       "      <td>0.008550</td>\n",
       "      <td>0.008909</td>\n",
       "      <td>0.010232</td>\n",
       "      <td>0.404407</td>\n",
       "    </tr>\n",
       "    <tr>\n",
       "      <th>7</th>\n",
       "      <td>FeatureSelection(categoricals=['type', 'breed1...</td>\n",
       "      <td>TransformStrategy_OneHotEncoder(handle_unknown...</td>\n",
       "      <td>MaxAbsScaler()</td>\n",
       "      <td>LGBMClassifier()</td>\n",
       "      <td>0.770026</td>\n",
       "      <td>0.850893</td>\n",
       "      <td>0.796153</td>\n",
       "      <td>0.008376</td>\n",
       "      <td>0.006053</td>\n",
       "      <td>0.010728</td>\n",
       "      <td>0.402878</td>\n",
       "    </tr>\n",
       "    <tr>\n",
       "      <th>24</th>\n",
       "      <td>FeatureSelection(categoricals=['type', 'breed1...</td>\n",
       "      <td>TFEmbeddingWrapper_Max50Strategy</td>\n",
       "      <td>MaxAbsScaler()</td>\n",
       "      <td>KNeighborsClassifier(n_neighbors=10)</td>\n",
       "      <td>0.771827</td>\n",
       "      <td>0.845517</td>\n",
       "      <td>0.796426</td>\n",
       "      <td>0.002433</td>\n",
       "      <td>0.001818</td>\n",
       "      <td>0.014894</td>\n",
       "      <td>0.401584</td>\n",
       "    </tr>\n",
       "    <tr>\n",
       "      <th>23</th>\n",
       "      <td>FeatureSelection(categoricals=['type', 'breed1...</td>\n",
       "      <td>TFEmbeddingWrapper_Max50Strategy</td>\n",
       "      <td>MaxAbsScaler()</td>\n",
       "      <td>LogisticRegression(max_iter=500)</td>\n",
       "      <td>0.770025</td>\n",
       "      <td>0.840603</td>\n",
       "      <td>0.810993</td>\n",
       "      <td>0.009662</td>\n",
       "      <td>0.010130</td>\n",
       "      <td>0.012678</td>\n",
       "      <td>0.401417</td>\n",
       "    </tr>\n",
       "    <tr>\n",
       "      <th>11</th>\n",
       "      <td>FeatureSelection(categoricals=['type', 'breed1...</td>\n",
       "      <td>TransformStrategy_OrdinalEncoder(handle_unknow...</td>\n",
       "      <td>MaxAbsScaler()</td>\n",
       "      <td>LGBMClassifier()</td>\n",
       "      <td>0.762423</td>\n",
       "      <td>0.846906</td>\n",
       "      <td>0.784756</td>\n",
       "      <td>0.007369</td>\n",
       "      <td>0.005769</td>\n",
       "      <td>0.007110</td>\n",
       "      <td>0.400884</td>\n",
       "    </tr>\n",
       "    <tr>\n",
       "      <th>17</th>\n",
       "      <td>FeatureSelection(categoricals=['type', 'breed1...</td>\n",
       "      <td>TFEmbeddingWrapper_Max2Strategy</td>\n",
       "      <td>MaxAbsScaler()</td>\n",
       "      <td>RandomForestClassifier(max_depth=5)</td>\n",
       "      <td>0.756620</td>\n",
       "      <td>0.829774</td>\n",
       "      <td>0.813879</td>\n",
       "      <td>0.015055</td>\n",
       "      <td>0.017251</td>\n",
       "      <td>0.006429</td>\n",
       "      <td>0.399155</td>\n",
       "    </tr>\n",
       "    <tr>\n",
       "      <th>22</th>\n",
       "      <td>FeatureSelection(categoricals=['type', 'breed1...</td>\n",
       "      <td>TFEmbeddingWrapper_Max50Strategy</td>\n",
       "      <td>MaxAbsScaler()</td>\n",
       "      <td>RandomForestClassifier(max_depth=5)</td>\n",
       "      <td>0.763422</td>\n",
       "      <td>0.845214</td>\n",
       "      <td>0.802181</td>\n",
       "      <td>0.015626</td>\n",
       "      <td>0.013245</td>\n",
       "      <td>0.013423</td>\n",
       "      <td>0.398339</td>\n",
       "    </tr>\n",
       "    <tr>\n",
       "      <th>2</th>\n",
       "      <td>FeatureSelection(categoricals=['type', 'breed1...</td>\n",
       "      <td>MeanTargetEncoder(target=target, alpha=5)</td>\n",
       "      <td>MaxAbsScaler()</td>\n",
       "      <td>KNeighborsClassifier(n_neighbors=10)</td>\n",
       "      <td>0.762222</td>\n",
       "      <td>0.845596</td>\n",
       "      <td>0.757023</td>\n",
       "      <td>0.007418</td>\n",
       "      <td>0.005206</td>\n",
       "      <td>0.010578</td>\n",
       "      <td>0.391425</td>\n",
       "    </tr>\n",
       "    <tr>\n",
       "      <th>8</th>\n",
       "      <td>FeatureSelection(categoricals=['type', 'breed1...</td>\n",
       "      <td>TransformStrategy_OrdinalEncoder(handle_unknow...</td>\n",
       "      <td>MaxAbsScaler()</td>\n",
       "      <td>RandomForestClassifier(max_depth=5)</td>\n",
       "      <td>0.727140</td>\n",
       "      <td>0.840088</td>\n",
       "      <td>0.748097</td>\n",
       "      <td>0.006276</td>\n",
       "      <td>0.004788</td>\n",
       "      <td>0.004230</td>\n",
       "      <td>0.391234</td>\n",
       "    </tr>\n",
       "    <tr>\n",
       "      <th>19</th>\n",
       "      <td>FeatureSelection(categoricals=['type', 'breed1...</td>\n",
       "      <td>TFEmbeddingWrapper_Max2Strategy</td>\n",
       "      <td>MaxAbsScaler()</td>\n",
       "      <td>KNeighborsClassifier(n_neighbors=10)</td>\n",
       "      <td>0.748082</td>\n",
       "      <td>0.832140</td>\n",
       "      <td>0.754833</td>\n",
       "      <td>0.010543</td>\n",
       "      <td>0.006297</td>\n",
       "      <td>0.016236</td>\n",
       "      <td>0.384357</td>\n",
       "    </tr>\n",
       "    <tr>\n",
       "      <th>14</th>\n",
       "      <td>FeatureSelection(categoricals=['type', 'breed1...</td>\n",
       "      <td>TFEmbeddingWrapper_SingleStrategy</td>\n",
       "      <td>MaxAbsScaler()</td>\n",
       "      <td>KNeighborsClassifier(n_neighbors=10)</td>\n",
       "      <td>0.739145</td>\n",
       "      <td>0.826104</td>\n",
       "      <td>0.740784</td>\n",
       "      <td>0.005813</td>\n",
       "      <td>0.003401</td>\n",
       "      <td>0.013642</td>\n",
       "      <td>0.381790</td>\n",
       "    </tr>\n",
       "    <tr>\n",
       "      <th>4</th>\n",
       "      <td>FeatureSelection(categoricals=['type', 'breed1...</td>\n",
       "      <td>TransformStrategy_OneHotEncoder(handle_unknown...</td>\n",
       "      <td>MaxAbsScaler()</td>\n",
       "      <td>RandomForestClassifier(max_depth=5)</td>\n",
       "      <td>0.720070</td>\n",
       "      <td>0.837238</td>\n",
       "      <td>0.724218</td>\n",
       "      <td>0.007741</td>\n",
       "      <td>0.005247</td>\n",
       "      <td>0.009279</td>\n",
       "      <td>0.380941</td>\n",
       "    </tr>\n",
       "    <tr>\n",
       "      <th>6</th>\n",
       "      <td>FeatureSelection(categoricals=['type', 'breed1...</td>\n",
       "      <td>TransformStrategy_OneHotEncoder(handle_unknown...</td>\n",
       "      <td>MaxAbsScaler()</td>\n",
       "      <td>KNeighborsClassifier(n_neighbors=10)</td>\n",
       "      <td>0.729808</td>\n",
       "      <td>0.825313</td>\n",
       "      <td>0.698832</td>\n",
       "      <td>0.011174</td>\n",
       "      <td>0.008160</td>\n",
       "      <td>0.008155</td>\n",
       "      <td>0.370299</td>\n",
       "    </tr>\n",
       "    <tr>\n",
       "      <th>9</th>\n",
       "      <td>FeatureSelection(categoricals=['type', 'breed1...</td>\n",
       "      <td>TransformStrategy_OrdinalEncoder(handle_unknow...</td>\n",
       "      <td>MaxAbsScaler()</td>\n",
       "      <td>LogisticRegression(max_iter=500)</td>\n",
       "      <td>0.725073</td>\n",
       "      <td>0.835967</td>\n",
       "      <td>0.674918</td>\n",
       "      <td>0.007956</td>\n",
       "      <td>0.005011</td>\n",
       "      <td>0.007179</td>\n",
       "      <td>0.367242</td>\n",
       "    </tr>\n",
       "    <tr>\n",
       "      <th>10</th>\n",
       "      <td>FeatureSelection(categoricals=['type', 'breed1...</td>\n",
       "      <td>TransformStrategy_OrdinalEncoder(handle_unknow...</td>\n",
       "      <td>MaxAbsScaler()</td>\n",
       "      <td>KNeighborsClassifier(n_neighbors=10)</td>\n",
       "      <td>0.709932</td>\n",
       "      <td>0.812999</td>\n",
       "      <td>0.644267</td>\n",
       "      <td>0.009861</td>\n",
       "      <td>0.006946</td>\n",
       "      <td>0.005780</td>\n",
       "      <td>0.353164</td>\n",
       "    </tr>\n",
       "  </tbody>\n",
       "</table>\n",
       "</div>"
      ],
      "text/plain": [
       "                                    feature_selection  \\\n",
       "25  FeatureSelection(categoricals=['type', 'breed1...   \n",
       "15  FeatureSelection(categoricals=['type', 'breed1...   \n",
       "5   FeatureSelection(categoricals=['type', 'breed1...   \n",
       "18  FeatureSelection(categoricals=['type', 'breed1...   \n",
       "20  FeatureSelection(categoricals=['type', 'breed1...   \n",
       "3   FeatureSelection(categoricals=['type', 'breed1...   \n",
       "13  FeatureSelection(categoricals=['type', 'breed1...   \n",
       "0   FeatureSelection(categoricals=['type', 'breed1...   \n",
       "21  FeatureSelection(categoricals=['type', 'breed1...   \n",
       "1   FeatureSelection(categoricals=['type', 'breed1...   \n",
       "26  FeatureSelection(categoricals=['type', 'breed1...   \n",
       "16  FeatureSelection(categoricals=['type', 'breed1...   \n",
       "12  FeatureSelection(categoricals=['type', 'breed1...   \n",
       "7   FeatureSelection(categoricals=['type', 'breed1...   \n",
       "24  FeatureSelection(categoricals=['type', 'breed1...   \n",
       "23  FeatureSelection(categoricals=['type', 'breed1...   \n",
       "11  FeatureSelection(categoricals=['type', 'breed1...   \n",
       "17  FeatureSelection(categoricals=['type', 'breed1...   \n",
       "22  FeatureSelection(categoricals=['type', 'breed1...   \n",
       "2   FeatureSelection(categoricals=['type', 'breed1...   \n",
       "8   FeatureSelection(categoricals=['type', 'breed1...   \n",
       "19  FeatureSelection(categoricals=['type', 'breed1...   \n",
       "14  FeatureSelection(categoricals=['type', 'breed1...   \n",
       "4   FeatureSelection(categoricals=['type', 'breed1...   \n",
       "6   FeatureSelection(categoricals=['type', 'breed1...   \n",
       "9   FeatureSelection(categoricals=['type', 'breed1...   \n",
       "10  FeatureSelection(categoricals=['type', 'breed1...   \n",
       "\n",
       "                                          transformer          scaler  \\\n",
       "25                   TFEmbeddingWrapper_Max50Strategy  MaxAbsScaler()   \n",
       "15                  TFEmbeddingWrapper_SingleStrategy  MaxAbsScaler()   \n",
       "5   TransformStrategy_OneHotEncoder(handle_unknown...  MaxAbsScaler()   \n",
       "18                    TFEmbeddingWrapper_Max2Strategy  MaxAbsScaler()   \n",
       "20                    TFEmbeddingWrapper_Max2Strategy  MaxAbsScaler()   \n",
       "3           MeanTargetEncoder(target=target, alpha=5)  MaxAbsScaler()   \n",
       "13                  TFEmbeddingWrapper_SingleStrategy  MaxAbsScaler()   \n",
       "0           MeanTargetEncoder(target=target, alpha=5)  MaxAbsScaler()   \n",
       "21                    TFEmbeddingWrapper_Max2Strategy  MaxAbsScaler()   \n",
       "1           MeanTargetEncoder(target=target, alpha=5)  MaxAbsScaler()   \n",
       "26                   TFEmbeddingWrapper_Max50Strategy  MaxAbsScaler()   \n",
       "16                  TFEmbeddingWrapper_SingleStrategy  MaxAbsScaler()   \n",
       "12                  TFEmbeddingWrapper_SingleStrategy  MaxAbsScaler()   \n",
       "7   TransformStrategy_OneHotEncoder(handle_unknown...  MaxAbsScaler()   \n",
       "24                   TFEmbeddingWrapper_Max50Strategy  MaxAbsScaler()   \n",
       "23                   TFEmbeddingWrapper_Max50Strategy  MaxAbsScaler()   \n",
       "11  TransformStrategy_OrdinalEncoder(handle_unknow...  MaxAbsScaler()   \n",
       "17                    TFEmbeddingWrapper_Max2Strategy  MaxAbsScaler()   \n",
       "22                   TFEmbeddingWrapper_Max50Strategy  MaxAbsScaler()   \n",
       "2           MeanTargetEncoder(target=target, alpha=5)  MaxAbsScaler()   \n",
       "8   TransformStrategy_OrdinalEncoder(handle_unknow...  MaxAbsScaler()   \n",
       "19                    TFEmbeddingWrapper_Max2Strategy  MaxAbsScaler()   \n",
       "14                  TFEmbeddingWrapper_SingleStrategy  MaxAbsScaler()   \n",
       "4   TransformStrategy_OneHotEncoder(handle_unknown...  MaxAbsScaler()   \n",
       "6   TransformStrategy_OneHotEncoder(handle_unknown...  MaxAbsScaler()   \n",
       "9   TransformStrategy_OrdinalEncoder(handle_unknow...  MaxAbsScaler()   \n",
       "10  TransformStrategy_OrdinalEncoder(handle_unknow...  MaxAbsScaler()   \n",
       "\n",
       "                              classifier       acc        f1       auc  \\\n",
       "25                      LGBMClassifier()  0.791769  0.856381  0.825467   \n",
       "15                      LGBMClassifier()  0.778563  0.847397  0.830678   \n",
       "5       LogisticRegression(max_iter=500)  0.778897  0.858412  0.809063   \n",
       "18      LogisticRegression(max_iter=500)  0.776095  0.848886  0.813520   \n",
       "20                      LGBMClassifier()  0.778829  0.844330  0.833621   \n",
       "3                       LGBMClassifier()  0.783632  0.859122  0.809476   \n",
       "13      LogisticRegression(max_iter=500)  0.772827  0.849207  0.805647   \n",
       "0    RandomForestClassifier(max_depth=5)  0.762422  0.849789  0.812806   \n",
       "21                                   DNN  0.772693  0.840014  0.824273   \n",
       "1       LogisticRegression(max_iter=500)  0.762889  0.848827  0.803403   \n",
       "26                                   DNN  0.774093  0.840741  0.820946   \n",
       "16                                   DNN  0.763356  0.834252  0.808303   \n",
       "12   RandomForestClassifier(max_depth=5)  0.769492  0.846469  0.810078   \n",
       "7                       LGBMClassifier()  0.770026  0.850893  0.796153   \n",
       "24  KNeighborsClassifier(n_neighbors=10)  0.771827  0.845517  0.796426   \n",
       "23      LogisticRegression(max_iter=500)  0.770025  0.840603  0.810993   \n",
       "11                      LGBMClassifier()  0.762423  0.846906  0.784756   \n",
       "17   RandomForestClassifier(max_depth=5)  0.756620  0.829774  0.813879   \n",
       "22   RandomForestClassifier(max_depth=5)  0.763422  0.845214  0.802181   \n",
       "2   KNeighborsClassifier(n_neighbors=10)  0.762222  0.845596  0.757023   \n",
       "8    RandomForestClassifier(max_depth=5)  0.727140  0.840088  0.748097   \n",
       "19  KNeighborsClassifier(n_neighbors=10)  0.748082  0.832140  0.754833   \n",
       "14  KNeighborsClassifier(n_neighbors=10)  0.739145  0.826104  0.740784   \n",
       "4    RandomForestClassifier(max_depth=5)  0.720070  0.837238  0.724218   \n",
       "6   KNeighborsClassifier(n_neighbors=10)  0.729808  0.825313  0.698832   \n",
       "9       LogisticRegression(max_iter=500)  0.725073  0.835967  0.674918   \n",
       "10  KNeighborsClassifier(n_neighbors=10)  0.709932  0.812999  0.644267   \n",
       "\n",
       "     acc-std    f1-std   auc-std     score  \n",
       "25  0.004239  0.003831  0.011024  0.412851  \n",
       "15  0.005054  0.008439  0.006720  0.411940  \n",
       "5   0.002123  0.002247  0.008694  0.410949  \n",
       "18  0.004885  0.003152  0.007788  0.409909  \n",
       "20  0.012992  0.013648  0.006843  0.409303  \n",
       "3   0.006733  0.005400  0.010421  0.408829  \n",
       "13  0.004041  0.003867  0.007078  0.407929  \n",
       "0   0.008118  0.006002  0.009579  0.407647  \n",
       "21  0.011027  0.010218  0.008846  0.406564  \n",
       "1   0.008298  0.006527  0.009249  0.404856  \n",
       "26  0.010337  0.008521  0.012632  0.404826  \n",
       "16  0.005861  0.005995  0.005829  0.404647  \n",
       "12  0.008550  0.008909  0.010232  0.404407  \n",
       "7   0.008376  0.006053  0.010728  0.402878  \n",
       "24  0.002433  0.001818  0.014894  0.401584  \n",
       "23  0.009662  0.010130  0.012678  0.401417  \n",
       "11  0.007369  0.005769  0.007110  0.400884  \n",
       "17  0.015055  0.017251  0.006429  0.399155  \n",
       "22  0.015626  0.013245  0.013423  0.398339  \n",
       "2   0.007418  0.005206  0.010578  0.391425  \n",
       "8   0.006276  0.004788  0.004230  0.391234  \n",
       "19  0.010543  0.006297  0.016236  0.384357  \n",
       "14  0.005813  0.003401  0.013642  0.381790  \n",
       "4   0.007741  0.005247  0.009279  0.380941  \n",
       "6   0.011174  0.008160  0.008155  0.370299  \n",
       "9   0.007956  0.005011  0.007179  0.367242  \n",
       "10  0.009861  0.006946  0.005780  0.353164  "
      ]
     },
     "execution_count": 11,
     "metadata": {},
     "output_type": "execute_result"
    }
   ],
   "source": [
    "report = pd.read_csv('../runs/petfinder.csv', sep=';')\n",
    "report['score'] = (report.auc - report['auc-std']) * (report.f1 - report['f1-std']) / (report.auc + report.f1)\n",
    "report.sort_values('score', ascending=False)"
   ]
  },
  {
   "cell_type": "code",
   "execution_count": 235,
   "id": "85a2f92f-33c9-4597-913f-5cb374df7ae3",
   "metadata": {},
   "outputs": [
    {
     "data": {
      "image/png": "[encoded data removed]",
      "text/plain": [
       "<Figure size 360x288 with 5 Axes>"
      ]
     },
     "metadata": {},
     "output_type": "display_data"
    },
    {
     "data": {
      "image/png": "[encoded data removed]",
      "text/plain": [
       "<Figure size 360x288 with 5 Axes>"
      ]
     },
     "metadata": {},
     "output_type": "display_data"
    },
    {
     "data": {
      "image/png": "[encoded data removed]",
      "text/plain": [
       "<Figure size 360x288 with 5 Axes>"
      ]
     },
     "metadata": {},
     "output_type": "display_data"
    },
    {
     "data": {
      "image/png": "[encoded data removed]",
      "text/plain": [
       "<Figure size 360x288 with 5 Axes>"
      ]
     },
     "metadata": {},
     "output_type": "display_data"
    }
   ],
   "source": [
    "import os\n",
    "import matplotlib.pyplot as plt\n",
    "import seaborn as sns\n",
    "\n",
    "\n",
    "def get_summary(df, metric):\n",
    "    summary = pd.pivot(df, columns='classifier', index='transformer', values=metric)\n",
    "    summary = col.plot._clean_index_column_names(summary)\n",
    "    return summary\n",
    "\n",
    "\n",
    "def calculate_score(report):\n",
    "    \"\"\"score ~ f1 * auc / (f1 + auc)\"\"\"\n",
    "    score = (report.f1 - report['f1-std']) * (report.auc - report['auc-std']) / (report.f1 + report.auc)\n",
    "\n",
    "transformer_naming = {\n",
    "    'MeanTargetEncoder': 'MeanTarget',\n",
    " \"TransformStrategy_OneHotEncoder\": 'OneHot',\n",
    " \"TransformStrategy_OrdinalEncoder\": \"Ordinal\",\n",
    " 'TFEmbeddingWrapper_SingleStrategy': \"Embeddings-1dim\",\n",
    " 'TFEmbeddingWrapper_Max2Strategy': \"Embeddings-Max2\",\n",
    " 'TFEmbeddingWrapper_Max50Strategy': \"Embeddings-Max50\",\n",
    "}\n",
    "    \n",
    "RUNS_PATH = '../runs'\n",
    "def plot_heatmap(task, metric, clf, ax, yticks: bool = False) -> None:\n",
    "    filepath = os.path.join(RUNS_PATH, f'{task}.csv')\n",
    "    \n",
    "    report = col.Report.from_csv(filepath).report\n",
    "\n",
    "    summary = get_summary(report, metric)\n",
    "    \n",
    "    baseline = summary.loc['TransformStrategy_OneHotEncoder', 'LogisticRegression']\n",
    "    \n",
    "    summary = summary[[clf]]\n",
    "    summary.columns = [f'{task:<10}']\n",
    "    summary.index = summary.index.map(transformer_naming)\n",
    "    \n",
    "    delta = .05\n",
    "    sns.heatmap(summary, cmap='vlag', annot=True, fmt='.1%', cbar=False, ax=ax, center=baseline, vmin=baseline -delta, vmax=baseline + delta)\n",
    "    # plt.title('score ~ f1 * auc / (f1 + auc)');\n",
    "    # ax.set_title(f\"{metric} on {task}\");\n",
    "    # ax.set_xticklabels([])\n",
    "    \n",
    "    if not yticks:\n",
    "        ax.set_yticklabels([])\n",
    "        \n",
    "    \n",
    "\n",
    "\n",
    "tasks = ['petfinder', 'adults', 'mushrooms', 'titanic', 'hr_analytics']\n",
    "metric = 'f1'\n",
    "clfs = ['KNeighborsClassifier', 'LGBMClassifier', 'LogisticRegression', 'RandomForestClassifier']\n",
    "for j, clf in enumerate(clfs):\n",
    "    fig, ax = plt.subplots(1,5, figsize=(5,4))\n",
    "    for i, task in enumerate(tasks):\n",
    "        plot_heatmap(task, metric, clf=clf, ax=ax[i], yticks=(i==0) & (j==0))\n",
    "\n",
    "    plt.subplots_adjust(wspace=0, hspace=0)\n",
    "    ax[2].set_title(clf)\n",
    "    plt.savefig(f'../figures/heatmap_{clf}.png', transparent=False, facecolor='white')\n",
    "    plt.show()"
   ]
  },
  {
   "cell_type": "code",
   "execution_count": null,
   "id": "68d4a179-0be3-40aa-b507-81a7e416672a",
   "metadata": {},
   "outputs": [],
   "source": []
  }
 ],
 "metadata": {
  "kernelspec": {
   "display_name": "Python 3 (ipykernel)",
   "language": "python",
   "name": "python3"
  },
  "language_info": {
   "codemirror_mode": {
    "name": "ipython",
    "version": 3
   },
   "file_extension": ".py",
   "mimetype": "text/x-python",
   "name": "python",
   "nbconvert_exporter": "python",
   "pygments_lexer": "ipython3",
   "version": "3.9.7"
  }
 },
 "nbformat": 4,
 "nbformat_minor": 5
}
