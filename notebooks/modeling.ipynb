{
 "cells": [
  {
   "cell_type": "code",
   "execution_count": 1,
   "metadata": {
    "collapsed": false,
    "jupyter": {
     "outputs_hidden": false
    },
    "pycharm": {
     "name": "#%%\n"
    }
   },
   "outputs": [],
   "source": [
    "import sys\n",
    "import re\n",
    "\n",
    "import matplotlib.pyplot as plt\n",
    "import numpy as np\n",
    "import pandas as pd\n",
    "from sklearn import metrics\n",
    "from sklearn.model_selection import KFold\n",
    "from sklearn.ensemble import RandomForestClassifier\n",
    "\n",
    "sys.path.append('../src')\n",
    "\n",
    "import columnar as col\n",
    "\n",
    "\n",
    "\n",
    "# plt.style.use('dark_background')\n",
    "\n",
    "%load_ext autoreload\n",
    "%autoreload 2"
   ]
  },
  {
   "cell_type": "markdown",
   "metadata": {
    "pycharm": {
     "name": "#%% md\n"
    },
    "tags": []
   },
   "source": [
    "# Testing Mean Target Encoding vs categorical data embeddings\n",
    "## Prediction Task\n",
    "Predict whether an adult's income is higher or lower than $50k, using census information\n",
    "\n",
    "### Dataset\n",
    "We are leveraging the Adult dataset, which provides various census features about individuals and aims to predict whether an individual is earning over $50k or not.\n",
    "[https://archive.ics.uci.edu/ml/datasets/Adult](https://archive.ics.uci.edu/ml/datasets/Adult)\n",
    "\n",
    "### Definitions\n",
    "* **Mean Target Encoding** is a technique to transform categorical data into numerical by replacing the categorical value by the mean target value for all observations belonging to that category.\n",
    "* **Categorical data embeddings** is a potentially more expressive generalization of MTE which represents each categorical value as an embedding. embeddings sizes can be defined based on the cardinality of each feature. An embedding of size 1 should replicate closely the principle of MTE (even though values are learnt more indireclty), but weights are learnt instead of explicitly defined.\n",
    "\n",
    "## Load Data"
   ]
  },
  {
   "cell_type": "code",
   "execution_count": 2,
   "metadata": {},
   "outputs": [
    {
     "data": {
      "text/html": [
       "<div>\n",
       "<style scoped>\n",
       "    .dataframe tbody tr th:only-of-type {\n",
       "        vertical-align: middle;\n",
       "    }\n",
       "\n",
       "    .dataframe tbody tr th {\n",
       "        vertical-align: top;\n",
       "    }\n",
       "\n",
       "    .dataframe thead th {\n",
       "        text-align: right;\n",
       "    }\n",
       "</style>\n",
       "<table border=\"1\" class=\"dataframe\">\n",
       "  <thead>\n",
       "    <tr style=\"text-align: right;\">\n",
       "      <th></th>\n",
       "      <th>age</th>\n",
       "      <th>workclass</th>\n",
       "      <th>fnlwgt</th>\n",
       "      <th>education</th>\n",
       "      <th>education_num</th>\n",
       "      <th>marital-status</th>\n",
       "      <th>occupation</th>\n",
       "      <th>relationship</th>\n",
       "      <th>race</th>\n",
       "      <th>sex</th>\n",
       "      <th>capital_gain</th>\n",
       "      <th>capital_loss</th>\n",
       "      <th>hours-per-week</th>\n",
       "      <th>native-country</th>\n",
       "      <th>income</th>\n",
       "      <th>target</th>\n",
       "    </tr>\n",
       "  </thead>\n",
       "  <tbody>\n",
       "    <tr>\n",
       "      <th>10567</th>\n",
       "      <td>47</td>\n",
       "      <td>Federal-gov</td>\n",
       "      <td>55377</td>\n",
       "      <td>Bachelors</td>\n",
       "      <td>13</td>\n",
       "      <td>Never-married</td>\n",
       "      <td>Adm-clerical</td>\n",
       "      <td>Unmarried</td>\n",
       "      <td>Black</td>\n",
       "      <td>Male</td>\n",
       "      <td>0</td>\n",
       "      <td>0</td>\n",
       "      <td>40</td>\n",
       "      <td>United-States</td>\n",
       "      <td>&gt;50K</td>\n",
       "      <td>True</td>\n",
       "    </tr>\n",
       "    <tr>\n",
       "      <th>31893</th>\n",
       "      <td>49</td>\n",
       "      <td>Local-gov</td>\n",
       "      <td>78859</td>\n",
       "      <td>Masters</td>\n",
       "      <td>14</td>\n",
       "      <td>Widowed</td>\n",
       "      <td>Prof-specialty</td>\n",
       "      <td>Unmarried</td>\n",
       "      <td>White</td>\n",
       "      <td>Female</td>\n",
       "      <td>0</td>\n",
       "      <td>323</td>\n",
       "      <td>20</td>\n",
       "      <td>United-States</td>\n",
       "      <td>&lt;=50K</td>\n",
       "      <td>False</td>\n",
       "    </tr>\n",
       "    <tr>\n",
       "      <th>32166</th>\n",
       "      <td>42</td>\n",
       "      <td>Local-gov</td>\n",
       "      <td>189956</td>\n",
       "      <td>Bachelors</td>\n",
       "      <td>13</td>\n",
       "      <td>Divorced</td>\n",
       "      <td>Prof-specialty</td>\n",
       "      <td>Unmarried</td>\n",
       "      <td>Black</td>\n",
       "      <td>Female</td>\n",
       "      <td>0</td>\n",
       "      <td>0</td>\n",
       "      <td>30</td>\n",
       "      <td>United-States</td>\n",
       "      <td>&lt;=50K</td>\n",
       "      <td>False</td>\n",
       "    </tr>\n",
       "    <tr>\n",
       "      <th>7701</th>\n",
       "      <td>57</td>\n",
       "      <td>Private</td>\n",
       "      <td>245193</td>\n",
       "      <td>Masters</td>\n",
       "      <td>14</td>\n",
       "      <td>Married-civ-spouse</td>\n",
       "      <td>Exec-managerial</td>\n",
       "      <td>Husband</td>\n",
       "      <td>White</td>\n",
       "      <td>Male</td>\n",
       "      <td>0</td>\n",
       "      <td>0</td>\n",
       "      <td>60</td>\n",
       "      <td>United-States</td>\n",
       "      <td>&gt;50K</td>\n",
       "      <td>True</td>\n",
       "    </tr>\n",
       "    <tr>\n",
       "      <th>32520</th>\n",
       "      <td>27</td>\n",
       "      <td>Private</td>\n",
       "      <td>177398</td>\n",
       "      <td>HS-grad</td>\n",
       "      <td>9</td>\n",
       "      <td>Never-married</td>\n",
       "      <td>Other-service</td>\n",
       "      <td>Unmarried</td>\n",
       "      <td>White</td>\n",
       "      <td>Female</td>\n",
       "      <td>0</td>\n",
       "      <td>0</td>\n",
       "      <td>64</td>\n",
       "      <td>United-States</td>\n",
       "      <td>&lt;=50K</td>\n",
       "      <td>False</td>\n",
       "    </tr>\n",
       "  </tbody>\n",
       "</table>\n",
       "</div>"
      ],
      "text/plain": [
       "       age     workclass  fnlwgt   education  education_num  \\\n",
       "10567   47   Federal-gov   55377   Bachelors             13   \n",
       "31893   49     Local-gov   78859     Masters             14   \n",
       "32166   42     Local-gov  189956   Bachelors             13   \n",
       "7701    57       Private  245193     Masters             14   \n",
       "32520   27       Private  177398     HS-grad              9   \n",
       "\n",
       "            marital-status        occupation relationship    race      sex  \\\n",
       "10567        Never-married      Adm-clerical    Unmarried   Black     Male   \n",
       "31893              Widowed    Prof-specialty    Unmarried   White   Female   \n",
       "32166             Divorced    Prof-specialty    Unmarried   Black   Female   \n",
       "7701    Married-civ-spouse   Exec-managerial      Husband   White     Male   \n",
       "32520        Never-married     Other-service    Unmarried   White   Female   \n",
       "\n",
       "       capital_gain  capital_loss  hours-per-week  native-country  income  \\\n",
       "10567             0             0              40   United-States    >50K   \n",
       "31893             0           323              20   United-States   <=50K   \n",
       "32166             0             0              30   United-States   <=50K   \n",
       "7701              0             0              60   United-States    >50K   \n",
       "32520             0             0              64   United-States   <=50K   \n",
       "\n",
       "       target  \n",
       "10567    True  \n",
       "31893   False  \n",
       "32166   False  \n",
       "7701     True  \n",
       "32520   False  "
      ]
     },
     "metadata": {},
     "output_type": "display_data"
    }
   ],
   "source": [
    "loader = col.DataLoader('adults')\n",
    "df = loader.load_data()\n",
    "display(df.sample(5))"
   ]
  },
  {
   "cell_type": "markdown",
   "metadata": {
    "pycharm": {
     "name": "#%% md\n"
    }
   },
   "source": [
    "## Define Metrics for Success"
   ]
  },
  {
   "cell_type": "code",
   "execution_count": 3,
   "metadata": {},
   "outputs": [
    {
     "name": "stdout",
     "output_type": "stream",
     "text": [
      "Report(\n",
      "        scorer: Scorer(scoring_fcts=[acc,f1,auc]), \n",
      "        to_show: [encoder,acc,f1,auc]\n",
      "        )\n"
     ]
    }
   ],
   "source": [
    "# define scoring metrics of interest\n",
    "scorer = col.Scorer(\n",
    "    acc=metrics.accuracy_score,\n",
    "    f1=metrics.f1_score,\n",
    "    auc=metrics.roc_auc_score,\n",
    ")\n",
    "\n",
    "# create a reporting object\n",
    "reporter = col.Report(scorer=scorer)\n",
    "\n",
    "# define which columns should be shown when reporting experiments results so far\n",
    "reporter.set_columns_to_show(['encoder'] + list(scorer.scoring_fcts.keys()))\n",
    "\n",
    "print(reporter)"
   ]
  },
  {
   "cell_type": "markdown",
   "metadata": {
    "pycharm": {
     "name": "#%% md\n"
    },
    "tags": []
   },
   "source": [
    "## Define Cross Validation Strategy"
   ]
  },
  {
   "cell_type": "code",
   "execution_count": 4,
   "metadata": {
    "collapsed": false,
    "jupyter": {
     "outputs_hidden": false
    },
    "pycharm": {
     "name": "#%%\n"
    }
   },
   "outputs": [],
   "source": [
    "# cross validation strategy\n",
    "kf = KFold(n_splits=5)"
   ]
  },
  {
   "cell_type": "markdown",
   "metadata": {
    "pycharm": {
     "name": "#%% md\n"
    }
   },
   "source": [
    "## Feature Selection and Processing\n",
    "* define which variables should be fed into the downstream classifiers, and which ones should be considered as categorical or numerical.\n",
    "* pass through all numerical variables"
   ]
  },
  {
   "cell_type": "code",
   "execution_count": 5,
   "metadata": {
    "collapsed": false,
    "jupyter": {
     "outputs_hidden": false
    },
    "pycharm": {
     "name": "#%%\n"
    }
   },
   "outputs": [
    {
     "name": "stdout",
     "output_type": "stream",
     "text": [
      "FeatureSelection(categoricals=['workclass', 'education', 'marital-status', 'occupation', 'relationship', 'race', 'sex', 'native-country'], numericals=['age', 'fnlwgt', 'education_num', 'capital_gain', 'capital_loss', 'hours-per-week'], target='target')\n"
     ]
    }
   ],
   "source": [
    "feature_selection = loader.get_selected_features(df)\n",
    "\n",
    "print(feature_selection)"
   ]
  },
  {
   "cell_type": "markdown",
   "metadata": {
    "pycharm": {
     "name": "#%% md\n"
    }
   },
   "source": [
    "## Model Selection and Fitting"
   ]
  },
  {
   "cell_type": "code",
   "execution_count": 6,
   "metadata": {},
   "outputs": [
    {
     "data": {
      "text/html": [
       "<div>\n",
       "<style scoped>\n",
       "    .dataframe tbody tr th:only-of-type {\n",
       "        vertical-align: middle;\n",
       "    }\n",
       "\n",
       "    .dataframe tbody tr th {\n",
       "        vertical-align: top;\n",
       "    }\n",
       "\n",
       "    .dataframe thead th {\n",
       "        text-align: right;\n",
       "    }\n",
       "</style>\n",
       "<table border=\"1\" class=\"dataframe\">\n",
       "  <thead>\n",
       "    <tr style=\"text-align: right;\">\n",
       "      <th></th>\n",
       "      <th>encoder</th>\n",
       "      <th>acc</th>\n",
       "      <th>f1</th>\n",
       "      <th>auc</th>\n",
       "    </tr>\n",
       "  </thead>\n",
       "  <tbody>\n",
       "    <tr>\n",
       "      <th>0</th>\n",
       "      <td>MeanTargetEncoder(target=target, alpha=5)</td>\n",
       "      <td>0.851878</td>\n",
       "      <td>0.626548</td>\n",
       "      <td>0.7372</td>\n",
       "    </tr>\n",
       "  </tbody>\n",
       "</table>\n",
       "</div>"
      ],
      "text/plain": [
       "                                     encoder       acc        f1     auc\n",
       "0  MeanTargetEncoder(target=target, alpha=5)  0.851878  0.626548  0.7372"
      ]
     },
     "metadata": {},
     "output_type": "display_data"
    }
   ],
   "source": [
    "# define fitting function\n",
    "mte_encoder = col.MeanTargetEncoder(feature_selection)\n",
    "\n",
    "pipe = col.CategoricalPipeline(features=feature_selection,\n",
    "                               model=RandomForestClassifier(n_estimators=100, max_depth=5),\n",
    "                               encoder=mte_encoder)\n",
    "\n",
    "cv_score = col.cv_score(\n",
    "    pipeline=pipe,\n",
    "    data=df, \n",
    "    kf=kf,\n",
    "    scorer=reporter.scorer)\n",
    "\n",
    "reporter.add_to_report(pipe.config, cv_score, show=True)"
   ]
  },
  {
   "cell_type": "markdown",
   "metadata": {},
   "source": [
    "## Compare to Baseline\n",
    "### Baseline 1: Assign all predictions to majority class"
   ]
  },
  {
   "cell_type": "code",
   "execution_count": 7,
   "metadata": {
    "collapsed": false,
    "jupyter": {
     "outputs_hidden": false
    },
    "pycharm": {
     "name": "#%%\n"
    }
   },
   "outputs": [
    {
     "data": {
      "text/html": [
       "<div>\n",
       "<style scoped>\n",
       "    .dataframe tbody tr th:only-of-type {\n",
       "        vertical-align: middle;\n",
       "    }\n",
       "\n",
       "    .dataframe tbody tr th {\n",
       "        vertical-align: top;\n",
       "    }\n",
       "\n",
       "    .dataframe thead th {\n",
       "        text-align: right;\n",
       "    }\n",
       "</style>\n",
       "<table border=\"1\" class=\"dataframe\">\n",
       "  <thead>\n",
       "    <tr style=\"text-align: right;\">\n",
       "      <th></th>\n",
       "      <th>encoder</th>\n",
       "      <th>acc</th>\n",
       "      <th>f1</th>\n",
       "      <th>auc</th>\n",
       "    </tr>\n",
       "  </thead>\n",
       "  <tbody>\n",
       "    <tr>\n",
       "      <th>0</th>\n",
       "      <td>MeanTargetEncoder(target=target, alpha=5)</td>\n",
       "      <td>0.851878</td>\n",
       "      <td>0.626548</td>\n",
       "      <td>0.7372</td>\n",
       "    </tr>\n",
       "    <tr>\n",
       "      <th>1</th>\n",
       "      <td>MajorityClass</td>\n",
       "      <td>0.759190</td>\n",
       "      <td>0.000000</td>\n",
       "      <td>0.5000</td>\n",
       "    </tr>\n",
       "  </tbody>\n",
       "</table>\n",
       "</div>"
      ],
      "text/plain": [
       "                                     encoder       acc        f1     auc\n",
       "0  MeanTargetEncoder(target=target, alpha=5)  0.851878  0.626548  0.7372\n",
       "1                              MajorityClass  0.759190  0.000000  0.5000"
      ]
     },
     "metadata": {},
     "output_type": "display_data"
    }
   ],
   "source": [
    "# baseline: assign all predictions to majority class\n",
    "maj_results = pd.DataFrame([reporter.score(df.target, np.zeros(len(df))) for _ in range(5)])\n",
    "maj_config = dict(features=str(feature_selection),\n",
    "                  encoder='MajorityClass',\n",
    "                  model='Nonę',\n",
    "                  scaler='None'\n",
    "                 )\n",
    "\n",
    "reporter.add_to_report(maj_config, maj_results, show=True)"
   ]
  },
  {
   "cell_type": "markdown",
   "metadata": {
    "tags": []
   },
   "source": [
    "## Baseline 2: one hot encode all categories"
   ]
  },
  {
   "cell_type": "code",
   "execution_count": 8,
   "metadata": {
    "collapsed": false,
    "jupyter": {
     "outputs_hidden": false
    },
    "pycharm": {
     "name": "#%%\n"
    }
   },
   "outputs": [
    {
     "data": {
      "text/html": [
       "<div>\n",
       "<style scoped>\n",
       "    .dataframe tbody tr th:only-of-type {\n",
       "        vertical-align: middle;\n",
       "    }\n",
       "\n",
       "    .dataframe tbody tr th {\n",
       "        vertical-align: top;\n",
       "    }\n",
       "\n",
       "    .dataframe thead th {\n",
       "        text-align: right;\n",
       "    }\n",
       "</style>\n",
       "<table border=\"1\" class=\"dataframe\">\n",
       "  <thead>\n",
       "    <tr style=\"text-align: right;\">\n",
       "      <th></th>\n",
       "      <th>encoder</th>\n",
       "      <th>acc</th>\n",
       "      <th>f1</th>\n",
       "      <th>auc</th>\n",
       "    </tr>\n",
       "  </thead>\n",
       "  <tbody>\n",
       "    <tr>\n",
       "      <th>0</th>\n",
       "      <td>MeanTargetEncoder(target=target, alpha=5)</td>\n",
       "      <td>0.851878</td>\n",
       "      <td>0.626548</td>\n",
       "      <td>0.737200</td>\n",
       "    </tr>\n",
       "    <tr>\n",
       "      <th>1</th>\n",
       "      <td>MajorityClass</td>\n",
       "      <td>0.759190</td>\n",
       "      <td>0.000000</td>\n",
       "      <td>0.500000</td>\n",
       "    </tr>\n",
       "    <tr>\n",
       "      <th>2</th>\n",
       "      <td>OneHotEncoder(handle_unknown='ignore')</td>\n",
       "      <td>0.838181</td>\n",
       "      <td>0.553344</td>\n",
       "      <td>0.694219</td>\n",
       "    </tr>\n",
       "  </tbody>\n",
       "</table>\n",
       "</div>"
      ],
      "text/plain": [
       "                                     encoder       acc        f1       auc\n",
       "0  MeanTargetEncoder(target=target, alpha=5)  0.851878  0.626548  0.737200\n",
       "1                              MajorityClass  0.759190  0.000000  0.500000\n",
       "2     OneHotEncoder(handle_unknown='ignore')  0.838181  0.553344  0.694219"
      ]
     },
     "metadata": {},
     "output_type": "display_data"
    }
   ],
   "source": [
    "from sklearn.preprocessing import OneHotEncoder\n",
    "\n",
    "# define fitting function\n",
    "ohe_encoder = OneHotEncoder(handle_unknown='ignore')\n",
    "\n",
    "pipe = col.CategoricalPipeline(features=feature_selection,\n",
    "                               model=RandomForestClassifier(n_estimators=100, max_depth=5),\n",
    "                               encoder=ohe_encoder)\n",
    "\n",
    "cv_score = col.cv_score(\n",
    "    pipeline=pipe,\n",
    "    data=df, \n",
    "    kf=kf,\n",
    "    scorer=reporter.scorer)\n",
    "\n",
    "reporter.add_to_report(pipe.config, cv_score, show=True)"
   ]
  },
  {
   "cell_type": "markdown",
   "metadata": {},
   "source": [
    "## Baseline 3: OrdinalEncoder"
   ]
  },
  {
   "cell_type": "code",
   "execution_count": 9,
   "metadata": {},
   "outputs": [
    {
     "data": {
      "text/html": [
       "<div>\n",
       "<style scoped>\n",
       "    .dataframe tbody tr th:only-of-type {\n",
       "        vertical-align: middle;\n",
       "    }\n",
       "\n",
       "    .dataframe tbody tr th {\n",
       "        vertical-align: top;\n",
       "    }\n",
       "\n",
       "    .dataframe thead th {\n",
       "        text-align: right;\n",
       "    }\n",
       "</style>\n",
       "<table border=\"1\" class=\"dataframe\">\n",
       "  <thead>\n",
       "    <tr style=\"text-align: right;\">\n",
       "      <th></th>\n",
       "      <th>encoder</th>\n",
       "      <th>acc</th>\n",
       "      <th>f1</th>\n",
       "      <th>auc</th>\n",
       "    </tr>\n",
       "  </thead>\n",
       "  <tbody>\n",
       "    <tr>\n",
       "      <th>0</th>\n",
       "      <td>MeanTargetEncoder(target=target, alpha=5)</td>\n",
       "      <td>0.851878</td>\n",
       "      <td>0.626548</td>\n",
       "      <td>0.737200</td>\n",
       "    </tr>\n",
       "    <tr>\n",
       "      <th>1</th>\n",
       "      <td>MajorityClass</td>\n",
       "      <td>0.759190</td>\n",
       "      <td>0.000000</td>\n",
       "      <td>0.500000</td>\n",
       "    </tr>\n",
       "    <tr>\n",
       "      <th>2</th>\n",
       "      <td>OneHotEncoder(handle_unknown='ignore')</td>\n",
       "      <td>0.838181</td>\n",
       "      <td>0.553344</td>\n",
       "      <td>0.694219</td>\n",
       "    </tr>\n",
       "    <tr>\n",
       "      <th>3</th>\n",
       "      <td>OrdinalEncoder(handle_unknown='use_encoded_val...</td>\n",
       "      <td>0.850189</td>\n",
       "      <td>0.615975</td>\n",
       "      <td>0.730317</td>\n",
       "    </tr>\n",
       "  </tbody>\n",
       "</table>\n",
       "</div>"
      ],
      "text/plain": [
       "                                             encoder       acc        f1  \\\n",
       "0          MeanTargetEncoder(target=target, alpha=5)  0.851878  0.626548   \n",
       "1                                      MajorityClass  0.759190  0.000000   \n",
       "2             OneHotEncoder(handle_unknown='ignore')  0.838181  0.553344   \n",
       "3  OrdinalEncoder(handle_unknown='use_encoded_val...  0.850189  0.615975   \n",
       "\n",
       "        auc  \n",
       "0  0.737200  \n",
       "1  0.500000  \n",
       "2  0.694219  \n",
       "3  0.730317  "
      ]
     },
     "metadata": {},
     "output_type": "display_data"
    }
   ],
   "source": [
    "from sklearn.preprocessing import OrdinalEncoder\n",
    "\n",
    "# define fitting function\n",
    "ord_encoder = OrdinalEncoder(handle_unknown='use_encoded_value', unknown_value=-1)\n",
    "\n",
    "pipe = col.CategoricalPipeline(features=feature_selection,\n",
    "                               model=RandomForestClassifier(n_estimators=100, max_depth=5),\n",
    "                               encoder=ord_encoder)\n",
    "\n",
    "cv_score = col.cv_score(\n",
    "    pipeline=pipe,\n",
    "    data=df, \n",
    "    kf=kf,\n",
    "    scorer=reporter.scorer)\n",
    "\n",
    "reporter.add_to_report(pipe.config, cv_score, show=True)"
   ]
  },
  {
   "cell_type": "code",
   "execution_count": 10,
   "metadata": {},
   "outputs": [
    {
     "data": {
      "text/html": [
       "<div>\n",
       "<style scoped>\n",
       "    .dataframe tbody tr th:only-of-type {\n",
       "        vertical-align: middle;\n",
       "    }\n",
       "\n",
       "    .dataframe tbody tr th {\n",
       "        vertical-align: top;\n",
       "    }\n",
       "\n",
       "    .dataframe thead th {\n",
       "        text-align: right;\n",
       "    }\n",
       "</style>\n",
       "<table border=\"1\" class=\"dataframe\">\n",
       "  <thead>\n",
       "    <tr style=\"text-align: right;\">\n",
       "      <th>encoder</th>\n",
       "      <th>MajorityClass</th>\n",
       "      <th>MeanTargetEncoder(target=target, alpha=5)</th>\n",
       "      <th>OneHotEncoder(handle_unknown='ignore')</th>\n",
       "      <th>OrdinalEncoder(handle_unknown='use_encoded_value', unknown_value=-1)</th>\n",
       "    </tr>\n",
       "    <tr>\n",
       "      <th>model</th>\n",
       "      <th></th>\n",
       "      <th></th>\n",
       "      <th></th>\n",
       "      <th></th>\n",
       "    </tr>\n",
       "  </thead>\n",
       "  <tbody>\n",
       "    <tr>\n",
       "      <th>Nonę</th>\n",
       "      <td>0.75919</td>\n",
       "      <td>NaN</td>\n",
       "      <td>NaN</td>\n",
       "      <td>NaN</td>\n",
       "    </tr>\n",
       "    <tr>\n",
       "      <th>RandomForestClassifier(max_depth=5)</th>\n",
       "      <td>NaN</td>\n",
       "      <td>0.851878</td>\n",
       "      <td>0.838181</td>\n",
       "      <td>0.850189</td>\n",
       "    </tr>\n",
       "  </tbody>\n",
       "</table>\n",
       "</div>"
      ],
      "text/plain": [
       "encoder                              MajorityClass  \\\n",
       "model                                                \n",
       "Nonę                                       0.75919   \n",
       "RandomForestClassifier(max_depth=5)            NaN   \n",
       "\n",
       "encoder                              MeanTargetEncoder(target=target, alpha=5)  \\\n",
       "model                                                                            \n",
       "Nonę                                                                       NaN   \n",
       "RandomForestClassifier(max_depth=5)                                   0.851878   \n",
       "\n",
       "encoder                              OneHotEncoder(handle_unknown='ignore')  \\\n",
       "model                                                                         \n",
       "Nonę                                                                    NaN   \n",
       "RandomForestClassifier(max_depth=5)                                0.838181   \n",
       "\n",
       "encoder                              OrdinalEncoder(handle_unknown='use_encoded_value', unknown_value=-1)  \n",
       "model                                                                                                      \n",
       "Nonę                                                                               NaN                     \n",
       "RandomForestClassifier(max_depth=5)                                           0.850189                     "
      ]
     },
     "execution_count": 10,
     "metadata": {},
     "output_type": "execute_result"
    }
   ],
   "source": [
    "pd.pivot(reporter.report, index='model', columns='encoder', values='acc')"
   ]
  },
  {
   "cell_type": "code",
   "execution_count": 11,
   "metadata": {},
   "outputs": [
    {
     "data": {
      "text/html": [
       "<div>\n",
       "<style scoped>\n",
       "    .dataframe tbody tr th:only-of-type {\n",
       "        vertical-align: middle;\n",
       "    }\n",
       "\n",
       "    .dataframe tbody tr th {\n",
       "        vertical-align: top;\n",
       "    }\n",
       "\n",
       "    .dataframe thead th {\n",
       "        text-align: right;\n",
       "    }\n",
       "</style>\n",
       "<table border=\"1\" class=\"dataframe\">\n",
       "  <thead>\n",
       "    <tr style=\"text-align: right;\">\n",
       "      <th></th>\n",
       "      <th>features</th>\n",
       "      <th>encoder</th>\n",
       "      <th>scaler</th>\n",
       "      <th>model</th>\n",
       "      <th>pipe</th>\n",
       "      <th>acc</th>\n",
       "      <th>f1</th>\n",
       "      <th>auc</th>\n",
       "      <th>acc-std</th>\n",
       "      <th>f1-std</th>\n",
       "      <th>auc-std</th>\n",
       "    </tr>\n",
       "  </thead>\n",
       "  <tbody>\n",
       "    <tr>\n",
       "      <th>0</th>\n",
       "      <td>FeatureSelection(categoricals=['workclass', 'e...</td>\n",
       "      <td>MeanTargetEncoder(target=target, alpha=5)</td>\n",
       "      <td>None</td>\n",
       "      <td>RandomForestClassifier(max_depth=5)</td>\n",
       "      <td>Pipeline(steps=[('transform',\\n               ...</td>\n",
       "      <td>0.851878</td>\n",
       "      <td>0.626548</td>\n",
       "      <td>0.737200</td>\n",
       "      <td>0.004407</td>\n",
       "      <td>0.008807</td>\n",
       "      <td>0.004789</td>\n",
       "    </tr>\n",
       "    <tr>\n",
       "      <th>1</th>\n",
       "      <td>FeatureSelection(categoricals=['workclass', 'e...</td>\n",
       "      <td>MajorityClass</td>\n",
       "      <td>None</td>\n",
       "      <td>Nonę</td>\n",
       "      <td>NaN</td>\n",
       "      <td>0.759190</td>\n",
       "      <td>0.000000</td>\n",
       "      <td>0.500000</td>\n",
       "      <td>0.000000</td>\n",
       "      <td>0.000000</td>\n",
       "      <td>0.000000</td>\n",
       "    </tr>\n",
       "    <tr>\n",
       "      <th>2</th>\n",
       "      <td>FeatureSelection(categoricals=['workclass', 'e...</td>\n",
       "      <td>OneHotEncoder(handle_unknown='ignore')</td>\n",
       "      <td>None</td>\n",
       "      <td>RandomForestClassifier(max_depth=5)</td>\n",
       "      <td>Pipeline(steps=[('transform',\\n               ...</td>\n",
       "      <td>0.838181</td>\n",
       "      <td>0.553344</td>\n",
       "      <td>0.694219</td>\n",
       "      <td>0.004552</td>\n",
       "      <td>0.014382</td>\n",
       "      <td>0.007759</td>\n",
       "    </tr>\n",
       "    <tr>\n",
       "      <th>3</th>\n",
       "      <td>FeatureSelection(categoricals=['workclass', 'e...</td>\n",
       "      <td>OrdinalEncoder(handle_unknown='use_encoded_val...</td>\n",
       "      <td>None</td>\n",
       "      <td>RandomForestClassifier(max_depth=5)</td>\n",
       "      <td>Pipeline(steps=[('transform',\\n               ...</td>\n",
       "      <td>0.850189</td>\n",
       "      <td>0.615975</td>\n",
       "      <td>0.730317</td>\n",
       "      <td>0.002841</td>\n",
       "      <td>0.010417</td>\n",
       "      <td>0.005757</td>\n",
       "    </tr>\n",
       "  </tbody>\n",
       "</table>\n",
       "</div>"
      ],
      "text/plain": [
       "                                            features  \\\n",
       "0  FeatureSelection(categoricals=['workclass', 'e...   \n",
       "1  FeatureSelection(categoricals=['workclass', 'e...   \n",
       "2  FeatureSelection(categoricals=['workclass', 'e...   \n",
       "3  FeatureSelection(categoricals=['workclass', 'e...   \n",
       "\n",
       "                                             encoder scaler  \\\n",
       "0          MeanTargetEncoder(target=target, alpha=5)   None   \n",
       "1                                      MajorityClass   None   \n",
       "2             OneHotEncoder(handle_unknown='ignore')   None   \n",
       "3  OrdinalEncoder(handle_unknown='use_encoded_val...   None   \n",
       "\n",
       "                                 model  \\\n",
       "0  RandomForestClassifier(max_depth=5)   \n",
       "1                                 Nonę   \n",
       "2  RandomForestClassifier(max_depth=5)   \n",
       "3  RandomForestClassifier(max_depth=5)   \n",
       "\n",
       "                                                pipe       acc        f1  \\\n",
       "0  Pipeline(steps=[('transform',\\n               ...  0.851878  0.626548   \n",
       "1                                                NaN  0.759190  0.000000   \n",
       "2  Pipeline(steps=[('transform',\\n               ...  0.838181  0.553344   \n",
       "3  Pipeline(steps=[('transform',\\n               ...  0.850189  0.615975   \n",
       "\n",
       "        auc   acc-std    f1-std   auc-std  \n",
       "0  0.737200  0.004407  0.008807  0.004789  \n",
       "1  0.500000  0.000000  0.000000  0.000000  \n",
       "2  0.694219  0.004552  0.014382  0.007759  \n",
       "3  0.730317  0.002841  0.010417  0.005757  "
      ]
     },
     "execution_count": 11,
     "metadata": {},
     "output_type": "execute_result"
    }
   ],
   "source": [
    "reporter.report"
   ]
  },
  {
   "cell_type": "code",
   "execution_count": 12,
   "metadata": {},
   "outputs": [
    {
     "data": {
      "image/png": "[encoded data removed]",
      "text/plain": [
       "<Figure size 2160x360 with 3 Axes>"
      ]
     },
     "metadata": {
      "needs_background": "light"
     },
     "output_type": "display_data"
    }
   ],
   "source": [
    "col.plot_model_encoder_pairs(reporter)"
   ]
  },
  {
   "cell_type": "markdown",
   "metadata": {
    "tags": []
   },
   "source": [
    "## Inspect MTE output"
   ]
  },
  {
   "cell_type": "code",
   "execution_count": 13,
   "metadata": {
    "collapsed": false,
    "jupyter": {
     "outputs_hidden": false
    },
    "pycharm": {
     "name": "#%%\n"
    }
   },
   "outputs": [
    {
     "data": {
      "image/png": "[encoded data removed]",
      "text/plain": [
       "<Figure size 432x288 with 1 Axes>"
      ]
     },
     "metadata": {
      "needs_background": "light"
     },
     "output_type": "display_data"
    },
    {
     "data": {
      "image/png": "[encoded data removed]",
      "text/plain": [
       "<Figure size 432x288 with 1 Axes>"
      ]
     },
     "metadata": {
      "needs_background": "light"
     },
     "output_type": "display_data"
    },
    {
     "data": {
      "image/png": "[encoded data removed]",
      "text/plain": [
       "<Figure size 432x288 with 1 Axes>"
      ]
     },
     "metadata": {
      "needs_background": "light"
     },
     "output_type": "display_data"
    },
    {
     "data": {
      "image/png": "[encoded data removed]",
      "text/plain": [
       "<Figure size 432x288 with 1 Axes>"
      ]
     },
     "metadata": {
      "needs_background": "light"
     },
     "output_type": "display_data"
    },
    {
     "data": {
      "image/png": "[encoded data removed]",
      "text/plain": [
       "<Figure size 432x288 with 1 Axes>"
      ]
     },
     "metadata": {
      "needs_background": "light"
     },
     "output_type": "display_data"
    },
    {
     "data": {
      "image/png": "[encoded data removed]",
      "text/plain": [
       "<Figure size 432x288 with 1 Axes>"
      ]
     },
     "metadata": {
      "needs_background": "light"
     },
     "output_type": "display_data"
    },
    {
     "data": {
      "image/png": "[encoded data removed]",
      "text/plain": [
       "<Figure size 432x288 with 1 Axes>"
      ]
     },
     "metadata": {
      "needs_background": "light"
     },
     "output_type": "display_data"
    },
    {
     "data": {
      "image/png": "[encoded data removed]",
      "text/plain": [
       "<Figure size 432x288 with 1 Axes>"
      ]
     },
     "metadata": {
      "needs_background": "light"
     },
     "output_type": "display_data"
    }
   ],
   "source": [
    "# define fitting function\n",
    "mte_encoder = col.MeanTargetEncoder(feature_selection)\n",
    "\n",
    "pipe = col.CategoricalPipeline(features=feature_selection,\n",
    "                               model=RandomForestClassifier(n_estimators=100, max_depth=5),\n",
    "                               encoder=mte_encoder)\n",
    "\n",
    "# train model on entire dataset (no CV)\n",
    "pipe.fit(df)\n",
    "\n",
    "\n",
    "\n",
    "# get Mean Target Encoder learned weights for each categorical variable:\n",
    "mapper = pipe.pipe[0].named_transformers_['categories'].mapper\n",
    "for k, v in mapper.items():\n",
    "    pd.Series(v).sort_values(ascending=False).plot.bar()\n",
    "    plt.title(k)\n",
    "    plt.show()\n"
   ]
  },
  {
   "cell_type": "markdown",
   "metadata": {},
   "source": [
    "## Plot Feature Importance"
   ]
  },
  {
   "cell_type": "code",
   "execution_count": 14,
   "metadata": {
    "collapsed": false,
    "jupyter": {
     "outputs_hidden": false
    },
    "pycharm": {
     "name": "#%%\n"
    }
   },
   "outputs": [
    {
     "data": {
      "image/png": "[encoded data removed]",
      "text/plain": [
       "<Figure size 432x288 with 1 Axes>"
      ]
     },
     "metadata": {
      "needs_background": "light"
     },
     "output_type": "display_data"
    },
    {
     "data": {
      "text/plain": [
       "<Figure size 432x288 with 0 Axes>"
      ]
     },
     "metadata": {},
     "output_type": "display_data"
    }
   ],
   "source": [
    "def plot_feature_importance(pipe: col.CategoricalPipeline, *args, **kwargs):\n",
    "    fi = (pd.Series(pipe.model.feature_importances_, \n",
    "                   index=pipe.features.categoricals + pipe.features.numericals)\n",
    "          .sort_values())\n",
    "    fi.plot.barh(*args, **kwargs)\n",
    "    plt.show()\n",
    "\n",
    "\n",
    "plot_feature_importance(pipe)\n",
    "plt.savefig('../figures/feature_importance.png', facecolor='white');"
   ]
  },
  {
   "cell_type": "code",
   "execution_count": 15,
   "metadata": {
    "collapsed": false,
    "jupyter": {
     "outputs_hidden": false
    },
    "pycharm": {
     "name": "#%%\n"
    }
   },
   "outputs": [
    {
     "data": {
      "text/plain": [
       "{'workclass': 9,\n",
       " 'education': 16,\n",
       " 'marital-status': 7,\n",
       " 'occupation': 15,\n",
       " 'relationship': 6,\n",
       " 'race': 5,\n",
       " 'sex': 2,\n",
       " 'native-country': 42}"
      ]
     },
     "execution_count": 15,
     "metadata": {},
     "output_type": "execute_result"
    }
   ],
   "source": [
    "# number of unique values for each categorical column\n",
    "{col: df[col].nunique() for col in feature_selection.categoricals}"
   ]
  },
  {
   "cell_type": "markdown",
   "metadata": {},
   "source": [
    "# Compare value of MTE for linear models vs non-linear (RandomForest)"
   ]
  },
  {
   "cell_type": "code",
   "execution_count": 16,
   "metadata": {},
   "outputs": [
    {
     "data": {
      "text/html": [
       "<div>\n",
       "<style scoped>\n",
       "    .dataframe tbody tr th:only-of-type {\n",
       "        vertical-align: middle;\n",
       "    }\n",
       "\n",
       "    .dataframe tbody tr th {\n",
       "        vertical-align: top;\n",
       "    }\n",
       "\n",
       "    .dataframe thead th {\n",
       "        text-align: right;\n",
       "    }\n",
       "</style>\n",
       "<table border=\"1\" class=\"dataframe\">\n",
       "  <thead>\n",
       "    <tr style=\"text-align: right;\">\n",
       "      <th></th>\n",
       "      <th>model</th>\n",
       "      <th>encoder</th>\n",
       "      <th>acc</th>\n",
       "      <th>f1</th>\n",
       "      <th>auc</th>\n",
       "    </tr>\n",
       "  </thead>\n",
       "  <tbody>\n",
       "    <tr>\n",
       "      <th>0</th>\n",
       "      <td>RandomForestClassifier(max_depth=5)</td>\n",
       "      <td>MeanTargetEncoder(target=target, alpha=5)</td>\n",
       "      <td>0.852400</td>\n",
       "      <td>0.628353</td>\n",
       "      <td>0.738325</td>\n",
       "    </tr>\n",
       "    <tr>\n",
       "      <th>1</th>\n",
       "      <td>RandomForestClassifier(max_depth=5)</td>\n",
       "      <td>OneHotEncoder(handle_unknown='ignore')</td>\n",
       "      <td>0.838181</td>\n",
       "      <td>0.554504</td>\n",
       "      <td>0.694786</td>\n",
       "    </tr>\n",
       "    <tr>\n",
       "      <th>2</th>\n",
       "      <td>RandomForestClassifier(max_depth=5)</td>\n",
       "      <td>OrdinalEncoder(handle_unknown='use_encoded_val...</td>\n",
       "      <td>0.849513</td>\n",
       "      <td>0.612035</td>\n",
       "      <td>0.727779</td>\n",
       "    </tr>\n",
       "    <tr>\n",
       "      <th>3</th>\n",
       "      <td>LogisticRegression(max_iter=500)</td>\n",
       "      <td>MeanTargetEncoder(target=target, alpha=5)</td>\n",
       "      <td>0.845429</td>\n",
       "      <td>0.639919</td>\n",
       "      <td>0.751560</td>\n",
       "    </tr>\n",
       "    <tr>\n",
       "      <th>4</th>\n",
       "      <td>LogisticRegression(max_iter=500)</td>\n",
       "      <td>OneHotEncoder(handle_unknown='ignore')</td>\n",
       "      <td>0.850220</td>\n",
       "      <td>0.656654</td>\n",
       "      <td>0.763041</td>\n",
       "    </tr>\n",
       "    <tr>\n",
       "      <th>5</th>\n",
       "      <td>LogisticRegression(max_iter=500)</td>\n",
       "      <td>OrdinalEncoder(handle_unknown='use_encoded_val...</td>\n",
       "      <td>0.822978</td>\n",
       "      <td>0.545481</td>\n",
       "      <td>0.692627</td>\n",
       "    </tr>\n",
       "    <tr>\n",
       "      <th>6</th>\n",
       "      <td>KNeighborsClassifier()</td>\n",
       "      <td>MeanTargetEncoder(target=target, alpha=5)</td>\n",
       "      <td>0.828845</td>\n",
       "      <td>0.620366</td>\n",
       "      <td>0.744162</td>\n",
       "    </tr>\n",
       "    <tr>\n",
       "      <th>7</th>\n",
       "      <td>KNeighborsClassifier()</td>\n",
       "      <td>OneHotEncoder(handle_unknown='ignore')</td>\n",
       "      <td>0.825958</td>\n",
       "      <td>0.616923</td>\n",
       "      <td>0.742695</td>\n",
       "    </tr>\n",
       "    <tr>\n",
       "      <th>8</th>\n",
       "      <td>KNeighborsClassifier()</td>\n",
       "      <td>OrdinalEncoder(handle_unknown='use_encoded_val...</td>\n",
       "      <td>0.824484</td>\n",
       "      <td>0.611581</td>\n",
       "      <td>0.738963</td>\n",
       "    </tr>\n",
       "    <tr>\n",
       "      <th>9</th>\n",
       "      <td>LGBMClassifier()</td>\n",
       "      <td>MeanTargetEncoder(target=target, alpha=5)</td>\n",
       "      <td>0.872056</td>\n",
       "      <td>0.710777</td>\n",
       "      <td>0.797303</td>\n",
       "    </tr>\n",
       "    <tr>\n",
       "      <th>10</th>\n",
       "      <td>LGBMClassifier()</td>\n",
       "      <td>OneHotEncoder(handle_unknown='ignore')</td>\n",
       "      <td>0.873683</td>\n",
       "      <td>0.715355</td>\n",
       "      <td>0.800508</td>\n",
       "    </tr>\n",
       "    <tr>\n",
       "      <th>11</th>\n",
       "      <td>LGBMClassifier()</td>\n",
       "      <td>OrdinalEncoder(handle_unknown='use_encoded_val...</td>\n",
       "      <td>0.873161</td>\n",
       "      <td>0.714183</td>\n",
       "      <td>0.799754</td>\n",
       "    </tr>\n",
       "  </tbody>\n",
       "</table>\n",
       "</div>"
      ],
      "text/plain": [
       "                                  model  \\\n",
       "0   RandomForestClassifier(max_depth=5)   \n",
       "1   RandomForestClassifier(max_depth=5)   \n",
       "2   RandomForestClassifier(max_depth=5)   \n",
       "3      LogisticRegression(max_iter=500)   \n",
       "4      LogisticRegression(max_iter=500)   \n",
       "5      LogisticRegression(max_iter=500)   \n",
       "6                KNeighborsClassifier()   \n",
       "7                KNeighborsClassifier()   \n",
       "8                KNeighborsClassifier()   \n",
       "9                      LGBMClassifier()   \n",
       "10                     LGBMClassifier()   \n",
       "11                     LGBMClassifier()   \n",
       "\n",
       "                                              encoder       acc        f1  \\\n",
       "0           MeanTargetEncoder(target=target, alpha=5)  0.852400  0.628353   \n",
       "1              OneHotEncoder(handle_unknown='ignore')  0.838181  0.554504   \n",
       "2   OrdinalEncoder(handle_unknown='use_encoded_val...  0.849513  0.612035   \n",
       "3           MeanTargetEncoder(target=target, alpha=5)  0.845429  0.639919   \n",
       "4              OneHotEncoder(handle_unknown='ignore')  0.850220  0.656654   \n",
       "5   OrdinalEncoder(handle_unknown='use_encoded_val...  0.822978  0.545481   \n",
       "6           MeanTargetEncoder(target=target, alpha=5)  0.828845  0.620366   \n",
       "7              OneHotEncoder(handle_unknown='ignore')  0.825958  0.616923   \n",
       "8   OrdinalEncoder(handle_unknown='use_encoded_val...  0.824484  0.611581   \n",
       "9           MeanTargetEncoder(target=target, alpha=5)  0.872056  0.710777   \n",
       "10             OneHotEncoder(handle_unknown='ignore')  0.873683  0.715355   \n",
       "11  OrdinalEncoder(handle_unknown='use_encoded_val...  0.873161  0.714183   \n",
       "\n",
       "         auc  \n",
       "0   0.738325  \n",
       "1   0.694786  \n",
       "2   0.727779  \n",
       "3   0.751560  \n",
       "4   0.763041  \n",
       "5   0.692627  \n",
       "6   0.744162  \n",
       "7   0.742695  \n",
       "8   0.738963  \n",
       "9   0.797303  \n",
       "10  0.800508  \n",
       "11  0.799754  "
      ]
     },
     "execution_count": 16,
     "metadata": {},
     "output_type": "execute_result"
    }
   ],
   "source": [
    "from sklearn.linear_model import LogisticRegression\n",
    "from sklearn.neighbors import KNeighborsClassifier\n",
    "from sklearn.preprocessing import MaxAbsScaler\n",
    "from lightgbm import LGBMClassifier\n",
    "from sklearn.base import clone\n",
    "\n",
    "reporter = col.Report(scorer=scorer)\n",
    "reporter.set_columns_to_show(['model', 'encoder'] + list(scorer.scoring_fcts.keys()))\n",
    "\n",
    "models = [\n",
    "    RandomForestClassifier(n_estimators=100, max_depth=5),\n",
    "    LogisticRegression(max_iter=500),\n",
    "    KNeighborsClassifier(n_neighbors=5),\n",
    "    LGBMClassifier()\n",
    "]\n",
    "\n",
    "encoders = [\n",
    "    col.MeanTargetEncoder(feature_selection),\n",
    "    OneHotEncoder(handle_unknown='ignore'),\n",
    "    OrdinalEncoder(handle_unknown='use_encoded_value', unknown_value=-1),\n",
    "]\n",
    "\n",
    "for model in models:\n",
    "    for encoder in encoders:\n",
    "        pipe = col.CategoricalPipeline(features=feature_selection,\n",
    "                                       model=clone(model),\n",
    "                                       scaler=MaxAbsScaler(),\n",
    "                                       encoder=clone(encoder))\n",
    "\n",
    "        cv_score = col.cv_score(pipeline=pipe,\n",
    "                                data=df, \n",
    "                                kf=kf,\n",
    "                                scorer=reporter.scorer)\n",
    "        \n",
    "        reporter.add_to_report(pipe.config, cv_score, show=False)\n",
    "        \n",
    "reporter.show()"
   ]
  },
  {
   "cell_type": "markdown",
   "metadata": {},
   "source": [
    "### plot the 3 metrics for each model / encoder pair"
   ]
  },
  {
   "cell_type": "code",
   "execution_count": 17,
   "metadata": {},
   "outputs": [
    {
     "data": {
      "image/png": "[encoded data removed]",
      "text/plain": [
       "<Figure size 2160x360 with 3 Axes>"
      ]
     },
     "metadata": {
      "needs_background": "light"
     },
     "output_type": "display_data"
    }
   ],
   "source": [
    "col.plot_model_encoder_pairs(reporter, figpath=f'../figures/model_encoder_comparison.png')"
   ]
  }
 ],
 "metadata": {
  "kernelspec": {
   "display_name": "Python 3 (ipykernel)",
   "language": "python",
   "name": "python3"
  },
  "language_info": {
   "codemirror_mode": {
    "name": "ipython",
    "version": 3
   },
   "file_extension": ".py",
   "mimetype": "text/x-python",
   "name": "python",
   "nbconvert_exporter": "python",
   "pygments_lexer": "ipython3",
   "version": "3.9.7"
  }
 },
 "nbformat": 4,
 "nbformat_minor": 4
}
